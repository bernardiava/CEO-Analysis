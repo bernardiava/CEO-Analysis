{
 "cells": [
  {
   "cell_type": "markdown",
   "id": "bf30859e-97b5-4fd0-8309-528cc4666fd9",
   "metadata": {},
   "source": [
    "### Libraries and Data"
   ]
  },
  {
   "cell_type": "code",
   "execution_count": 32,
   "id": "9282594b-bd48-42b6-b95a-9b482e81f95c",
   "metadata": {},
   "outputs": [],
   "source": [
    "#!pip install matplotlib\n",
    "import matplotlib.pyplot as plt\n",
    "plt.rcParams['figure.dpi']=300      "
   ]
  },
  {
   "cell_type": "code",
   "execution_count": 33,
   "id": "571c8c38-8535-4710-934a-2f371d9a46c2",
   "metadata": {},
   "outputs": [],
   "source": [
    "import pandas as pd\n",
    "import yfinance as yf"
   ]
  },
  {
   "cell_type": "code",
   "execution_count": 34,
   "id": "dffe72c6-5177-4793-a7a9-3046d972cf8e",
   "metadata": {},
   "outputs": [],
   "source": [
    "df = yf.download([\"MCD\"],\n",
    "                 start=\"2019-01-01\",\n",
    "                 end=\"2019-12-31\",\n",
    "                progress=False)"
   ]
  },
  {
   "cell_type": "code",
   "execution_count": 35,
   "id": "22d364c2-2a35-400f-97d1-68cf2f4c90d1",
   "metadata": {},
   "outputs": [
    {
     "data": {
      "text/html": [
       "<div>\n",
       "<style scoped>\n",
       "    .dataframe tbody tr th:only-of-type {\n",
       "        vertical-align: middle;\n",
       "    }\n",
       "\n",
       "    .dataframe tbody tr th {\n",
       "        vertical-align: top;\n",
       "    }\n",
       "\n",
       "    .dataframe thead th {\n",
       "        text-align: right;\n",
       "    }\n",
       "</style>\n",
       "<table border=\"1\" class=\"dataframe\">\n",
       "  <thead>\n",
       "    <tr style=\"text-align: right;\">\n",
       "      <th></th>\n",
       "      <th>Open</th>\n",
       "      <th>High</th>\n",
       "      <th>Low</th>\n",
       "      <th>Close</th>\n",
       "      <th>Adj Close</th>\n",
       "      <th>Volume</th>\n",
       "    </tr>\n",
       "    <tr>\n",
       "      <th>Date</th>\n",
       "      <th></th>\n",
       "      <th></th>\n",
       "      <th></th>\n",
       "      <th></th>\n",
       "      <th></th>\n",
       "      <th></th>\n",
       "    </tr>\n",
       "  </thead>\n",
       "  <tbody>\n",
       "    <tr>\n",
       "      <th>2019-01-02</th>\n",
       "      <td>175.410004</td>\n",
       "      <td>176.300003</td>\n",
       "      <td>174.169998</td>\n",
       "      <td>176.059998</td>\n",
       "      <td>154.040115</td>\n",
       "      <td>2571500</td>\n",
       "    </tr>\n",
       "    <tr>\n",
       "      <th>2019-01-03</th>\n",
       "      <td>175.449997</td>\n",
       "      <td>176.449997</td>\n",
       "      <td>174.410004</td>\n",
       "      <td>174.899994</td>\n",
       "      <td>153.025146</td>\n",
       "      <td>3728200</td>\n",
       "    </tr>\n",
       "    <tr>\n",
       "      <th>2019-01-04</th>\n",
       "      <td>176.029999</td>\n",
       "      <td>179.199997</td>\n",
       "      <td>175.690002</td>\n",
       "      <td>178.279999</td>\n",
       "      <td>155.982437</td>\n",
       "      <td>3194300</td>\n",
       "    </tr>\n",
       "    <tr>\n",
       "      <th>2019-01-07</th>\n",
       "      <td>178.139999</td>\n",
       "      <td>181.880005</td>\n",
       "      <td>178.139999</td>\n",
       "      <td>180.220001</td>\n",
       "      <td>157.679779</td>\n",
       "      <td>3283000</td>\n",
       "    </tr>\n",
       "    <tr>\n",
       "      <th>2019-01-08</th>\n",
       "      <td>181.960007</td>\n",
       "      <td>182.289993</td>\n",
       "      <td>179.910004</td>\n",
       "      <td>180.600006</td>\n",
       "      <td>158.012268</td>\n",
       "      <td>2941400</td>\n",
       "    </tr>\n",
       "    <tr>\n",
       "      <th>...</th>\n",
       "      <td>...</td>\n",
       "      <td>...</td>\n",
       "      <td>...</td>\n",
       "      <td>...</td>\n",
       "      <td>...</td>\n",
       "      <td>...</td>\n",
       "    </tr>\n",
       "    <tr>\n",
       "      <th>2019-12-23</th>\n",
       "      <td>197.539993</td>\n",
       "      <td>197.539993</td>\n",
       "      <td>196.029999</td>\n",
       "      <td>196.199997</td>\n",
       "      <td>175.804077</td>\n",
       "      <td>2388900</td>\n",
       "    </tr>\n",
       "    <tr>\n",
       "      <th>2019-12-24</th>\n",
       "      <td>195.929993</td>\n",
       "      <td>197.139999</td>\n",
       "      <td>195.669998</td>\n",
       "      <td>196.669998</td>\n",
       "      <td>176.225189</td>\n",
       "      <td>1152500</td>\n",
       "    </tr>\n",
       "    <tr>\n",
       "      <th>2019-12-26</th>\n",
       "      <td>196.610001</td>\n",
       "      <td>197.160004</td>\n",
       "      <td>196.160004</td>\n",
       "      <td>197.059998</td>\n",
       "      <td>176.574677</td>\n",
       "      <td>1809600</td>\n",
       "    </tr>\n",
       "    <tr>\n",
       "      <th>2019-12-27</th>\n",
       "      <td>197.330002</td>\n",
       "      <td>198.470001</td>\n",
       "      <td>197.179993</td>\n",
       "      <td>198.169998</td>\n",
       "      <td>177.569290</td>\n",
       "      <td>2263900</td>\n",
       "    </tr>\n",
       "    <tr>\n",
       "      <th>2019-12-30</th>\n",
       "      <td>197.580002</td>\n",
       "      <td>197.800003</td>\n",
       "      <td>195.940002</td>\n",
       "      <td>196.910004</td>\n",
       "      <td>176.440231</td>\n",
       "      <td>2242400</td>\n",
       "    </tr>\n",
       "  </tbody>\n",
       "</table>\n",
       "<p>251 rows × 6 columns</p>\n",
       "</div>"
      ],
      "text/plain": [
       "                  Open        High         Low       Close   Adj Close  \\\n",
       "Date                                                                     \n",
       "2019-01-02  175.410004  176.300003  174.169998  176.059998  154.040115   \n",
       "2019-01-03  175.449997  176.449997  174.410004  174.899994  153.025146   \n",
       "2019-01-04  176.029999  179.199997  175.690002  178.279999  155.982437   \n",
       "2019-01-07  178.139999  181.880005  178.139999  180.220001  157.679779   \n",
       "2019-01-08  181.960007  182.289993  179.910004  180.600006  158.012268   \n",
       "...                ...         ...         ...         ...         ...   \n",
       "2019-12-23  197.539993  197.539993  196.029999  196.199997  175.804077   \n",
       "2019-12-24  195.929993  197.139999  195.669998  196.669998  176.225189   \n",
       "2019-12-26  196.610001  197.160004  196.160004  197.059998  176.574677   \n",
       "2019-12-27  197.330002  198.470001  197.179993  198.169998  177.569290   \n",
       "2019-12-30  197.580002  197.800003  195.940002  196.910004  176.440231   \n",
       "\n",
       "             Volume  \n",
       "Date                 \n",
       "2019-01-02  2571500  \n",
       "2019-01-03  3728200  \n",
       "2019-01-04  3194300  \n",
       "2019-01-07  3283000  \n",
       "2019-01-08  2941400  \n",
       "...             ...  \n",
       "2019-12-23  2388900  \n",
       "2019-12-24  1152500  \n",
       "2019-12-26  1809600  \n",
       "2019-12-27  2263900  \n",
       "2019-12-30  2242400  \n",
       "\n",
       "[251 rows x 6 columns]"
      ]
     },
     "execution_count": 35,
     "metadata": {},
     "output_type": "execute_result"
    }
   ],
   "source": [
    "df"
   ]
  },
  {
   "cell_type": "code",
   "execution_count": 36,
   "id": "91e2529a-4292-4502-9db6-3d45e33f22d0",
   "metadata": {},
   "outputs": [
    {
     "data": {
      "text/plain": [
       "Date\n",
       "2019-01-02    176.059998\n",
       "2019-01-03    174.899994\n",
       "2019-01-04    178.279999\n",
       "2019-01-07    180.220001\n",
       "2019-01-08    180.600006\n",
       "                 ...    \n",
       "2019-12-23    196.199997\n",
       "2019-12-24    196.669998\n",
       "2019-12-26    197.059998\n",
       "2019-12-27    198.169998\n",
       "2019-12-30    196.910004\n",
       "Name: Close, Length: 251, dtype: float64"
      ]
     },
     "execution_count": 36,
     "metadata": {},
     "output_type": "execute_result"
    }
   ],
   "source": [
    "df.Close"
   ]
  },
  {
   "cell_type": "code",
   "execution_count": 37,
   "id": "1b9001df-ab58-4d70-bb6c-7ef3e7c9d0a2",
   "metadata": {},
   "outputs": [],
   "source": [
    "df.to_csv('CEO MCD.csv') "
   ]
  },
  {
   "cell_type": "code",
   "execution_count": 38,
   "id": "779b05e5-365c-4496-bdb8-cb54bb003c99",
   "metadata": {},
   "outputs": [
    {
     "data": {
      "text/html": [
       "<div>\n",
       "<style scoped>\n",
       "    .dataframe tbody tr th:only-of-type {\n",
       "        vertical-align: middle;\n",
       "    }\n",
       "\n",
       "    .dataframe tbody tr th {\n",
       "        vertical-align: top;\n",
       "    }\n",
       "\n",
       "    .dataframe thead th {\n",
       "        text-align: right;\n",
       "    }\n",
       "</style>\n",
       "<table border=\"1\" class=\"dataframe\">\n",
       "  <thead>\n",
       "    <tr style=\"text-align: right;\">\n",
       "      <th></th>\n",
       "      <th>Date</th>\n",
       "      <th>Open</th>\n",
       "      <th>High</th>\n",
       "      <th>Low</th>\n",
       "      <th>Close</th>\n",
       "      <th>Adj Close</th>\n",
       "      <th>Volume</th>\n",
       "    </tr>\n",
       "  </thead>\n",
       "  <tbody>\n",
       "    <tr>\n",
       "      <th>0</th>\n",
       "      <td>2019-01-02</td>\n",
       "      <td>175.410004</td>\n",
       "      <td>176.300003</td>\n",
       "      <td>174.169998</td>\n",
       "      <td>176.059998</td>\n",
       "      <td>154.040115</td>\n",
       "      <td>2571500</td>\n",
       "    </tr>\n",
       "    <tr>\n",
       "      <th>1</th>\n",
       "      <td>2019-01-03</td>\n",
       "      <td>175.449997</td>\n",
       "      <td>176.449997</td>\n",
       "      <td>174.410004</td>\n",
       "      <td>174.899994</td>\n",
       "      <td>153.025146</td>\n",
       "      <td>3728200</td>\n",
       "    </tr>\n",
       "    <tr>\n",
       "      <th>2</th>\n",
       "      <td>2019-01-04</td>\n",
       "      <td>176.029999</td>\n",
       "      <td>179.199997</td>\n",
       "      <td>175.690002</td>\n",
       "      <td>178.279999</td>\n",
       "      <td>155.982437</td>\n",
       "      <td>3194300</td>\n",
       "    </tr>\n",
       "    <tr>\n",
       "      <th>3</th>\n",
       "      <td>2019-01-07</td>\n",
       "      <td>178.139999</td>\n",
       "      <td>181.880005</td>\n",
       "      <td>178.139999</td>\n",
       "      <td>180.220001</td>\n",
       "      <td>157.679779</td>\n",
       "      <td>3283000</td>\n",
       "    </tr>\n",
       "    <tr>\n",
       "      <th>4</th>\n",
       "      <td>2019-01-08</td>\n",
       "      <td>181.960007</td>\n",
       "      <td>182.289993</td>\n",
       "      <td>179.910004</td>\n",
       "      <td>180.600006</td>\n",
       "      <td>158.012268</td>\n",
       "      <td>2941400</td>\n",
       "    </tr>\n",
       "    <tr>\n",
       "      <th>...</th>\n",
       "      <td>...</td>\n",
       "      <td>...</td>\n",
       "      <td>...</td>\n",
       "      <td>...</td>\n",
       "      <td>...</td>\n",
       "      <td>...</td>\n",
       "      <td>...</td>\n",
       "    </tr>\n",
       "    <tr>\n",
       "      <th>246</th>\n",
       "      <td>2019-12-23</td>\n",
       "      <td>197.539993</td>\n",
       "      <td>197.539993</td>\n",
       "      <td>196.029999</td>\n",
       "      <td>196.199997</td>\n",
       "      <td>175.804077</td>\n",
       "      <td>2388900</td>\n",
       "    </tr>\n",
       "    <tr>\n",
       "      <th>247</th>\n",
       "      <td>2019-12-24</td>\n",
       "      <td>195.929993</td>\n",
       "      <td>197.139999</td>\n",
       "      <td>195.669998</td>\n",
       "      <td>196.669998</td>\n",
       "      <td>176.225189</td>\n",
       "      <td>1152500</td>\n",
       "    </tr>\n",
       "    <tr>\n",
       "      <th>248</th>\n",
       "      <td>2019-12-26</td>\n",
       "      <td>196.610001</td>\n",
       "      <td>197.160004</td>\n",
       "      <td>196.160004</td>\n",
       "      <td>197.059998</td>\n",
       "      <td>176.574677</td>\n",
       "      <td>1809600</td>\n",
       "    </tr>\n",
       "    <tr>\n",
       "      <th>249</th>\n",
       "      <td>2019-12-27</td>\n",
       "      <td>197.330002</td>\n",
       "      <td>198.470001</td>\n",
       "      <td>197.179993</td>\n",
       "      <td>198.169998</td>\n",
       "      <td>177.569290</td>\n",
       "      <td>2263900</td>\n",
       "    </tr>\n",
       "    <tr>\n",
       "      <th>250</th>\n",
       "      <td>2019-12-30</td>\n",
       "      <td>197.580002</td>\n",
       "      <td>197.800003</td>\n",
       "      <td>195.940002</td>\n",
       "      <td>196.910004</td>\n",
       "      <td>176.440231</td>\n",
       "      <td>2242400</td>\n",
       "    </tr>\n",
       "  </tbody>\n",
       "</table>\n",
       "<p>251 rows × 7 columns</p>\n",
       "</div>"
      ],
      "text/plain": [
       "           Date        Open        High         Low       Close   Adj Close  \\\n",
       "0    2019-01-02  175.410004  176.300003  174.169998  176.059998  154.040115   \n",
       "1    2019-01-03  175.449997  176.449997  174.410004  174.899994  153.025146   \n",
       "2    2019-01-04  176.029999  179.199997  175.690002  178.279999  155.982437   \n",
       "3    2019-01-07  178.139999  181.880005  178.139999  180.220001  157.679779   \n",
       "4    2019-01-08  181.960007  182.289993  179.910004  180.600006  158.012268   \n",
       "..          ...         ...         ...         ...         ...         ...   \n",
       "246  2019-12-23  197.539993  197.539993  196.029999  196.199997  175.804077   \n",
       "247  2019-12-24  195.929993  197.139999  195.669998  196.669998  176.225189   \n",
       "248  2019-12-26  196.610001  197.160004  196.160004  197.059998  176.574677   \n",
       "249  2019-12-27  197.330002  198.470001  197.179993  198.169998  177.569290   \n",
       "250  2019-12-30  197.580002  197.800003  195.940002  196.910004  176.440231   \n",
       "\n",
       "      Volume  \n",
       "0    2571500  \n",
       "1    3728200  \n",
       "2    3194300  \n",
       "3    3283000  \n",
       "4    2941400  \n",
       "..       ...  \n",
       "246  2388900  \n",
       "247  1152500  \n",
       "248  1809600  \n",
       "249  2263900  \n",
       "250  2242400  \n",
       "\n",
       "[251 rows x 7 columns]"
      ]
     },
     "execution_count": 38,
     "metadata": {},
     "output_type": "execute_result"
    }
   ],
   "source": [
    "pd.read_csv('CEO MCD.csv')"
   ]
  },
  {
   "cell_type": "code",
   "execution_count": 39,
   "id": "dd05dd37-219b-407d-8ca4-708f9be5e89f",
   "metadata": {},
   "outputs": [],
   "source": [
    "import pandas as pd\n",
    "import numpy as np\n",
    "from datetime import date, datetime, timedelta\n",
    "import statsmodels.api as sm\n",
    "import yfinance as yf\n",
    "import pandas_datareader as pdr"
   ]
  },
  {
   "cell_type": "code",
   "execution_count": 40,
   "id": "3a8ad6ea-6599-4c00-9ae9-bb9f4726c6a4",
   "metadata": {},
   "outputs": [],
   "source": [
    "file = \"CEO MCD.csv\" # Can paste the full path here in front of the file name\n",
    "x1 = pd.read_csv(file)"
   ]
  },
  {
   "cell_type": "code",
   "execution_count": 56,
   "id": "ddb766d5-d369-40de-8fa1-ef6330479d3e",
   "metadata": {},
   "outputs": [
    {
     "data": {
      "text/plain": [
       "datetime.datetime(2019, 11, 1, 0, 0)"
      ]
     },
     "execution_count": 56,
     "metadata": {},
     "output_type": "execute_result"
    }
   ],
   "source": [
    "date_MCD = datetime(2019,11,1)   # Find it in the spreadsheet\n",
    "date_MCD"
   ]
  },
  {
   "cell_type": "markdown",
   "id": "d5030993-468d-445f-aa4c-94b971fe849b",
   "metadata": {},
   "source": [
    "### Pre-Event"
   ]
  },
  {
   "cell_type": "code",
   "execution_count": 62,
   "id": "9770fefc-5560-4132-adbf-df022608e704",
   "metadata": {},
   "outputs": [
    {
     "name": "stdout",
     "output_type": "stream",
     "text": [
      "51 51\n"
     ]
    }
   ],
   "source": [
    "w1_start   = date_MCD - timedelta(73)\n",
    "w1_end     = date_MCD - timedelta(1)\n",
    "df1_MCD    = yf.download('MCD', start=w1_start, end=w1_end, progress=False)['Adj Close']\n",
    "df1_SP1500 = yf.download('^SP1500', start=w1_start, end=w1_end, progress=False)['Adj Close']\n",
    "\n",
    "\n",
    "print(len(df1_MCD), len(df1_SP1500 ))                       # JMHLY is the code of Meta；SP1500 is the Market Index; Adj Close is adjusted price"
   ]
  },
  {
   "cell_type": "code",
   "execution_count": 63,
   "id": "f9048f79-593e-4333-8c64-c742c3a2de32",
   "metadata": {},
   "outputs": [
    {
     "name": "stdout",
     "output_type": "stream",
     "text": [
      "50 50\n",
      "0.6850291110237975\n"
     ]
    }
   ],
   "source": [
    "# Calculate the percentage changes\n",
    "r1_MCD = df1_MCD.pct_change().dropna() * 100\n",
    "r1_SP1500 = df1_SP1500.pct_change().dropna() * 100\n",
    "\n",
    "# Align the indices\n",
    "aligned_data = pd.concat([r1_MCD, r1_SP1500], axis=1).dropna()\n",
    "r1_MCD_aligned = aligned_data.iloc[:, 0]\n",
    "r1_SP1500_aligned = aligned_data.iloc[:, 1]\n",
    "\n",
    "# Check the lengths of the aligned series\n",
    "print(len(r1_MCD_aligned), len(r1_SP1500_aligned))\n",
    "\n",
    "# Calculate the covariance and variance\n",
    "cov1_MCD = np.cov(r1_MCD_aligned, r1_SP1500_aligned)[0, 1]\n",
    "var1_mkt = np.var(r1_SP1500_aligned)\n",
    "\n",
    "# Calculate the beta\n",
    "beta1_MCD = cov1_MCD / var1_mkt\n",
    "print(beta1_MCD)"
   ]
  },
  {
   "cell_type": "code",
   "execution_count": 64,
   "id": "4d4404be-0333-4544-988e-3f19eded0ad3",
   "metadata": {},
   "outputs": [
    {
     "data": {
      "text/plain": [
       "Date\n",
       "2019-10-24   -1.601340\n",
       "2019-10-25   -0.719328\n",
       "2019-10-28   -1.454204\n",
       "2019-10-29    0.438034\n",
       "2019-10-30    2.216796\n",
       "Name: Adj Close, dtype: float64"
      ]
     },
     "execution_count": 64,
     "metadata": {},
     "output_type": "execute_result"
    }
   ],
   "source": [
    "r1_MCD.tail()"
   ]
  },
  {
   "cell_type": "markdown",
   "id": "ab8902e6-a1ea-4f9d-94b2-88eaacf1bf0a",
   "metadata": {},
   "source": [
    "#### Abnormal Returns"
   ]
  },
  {
   "cell_type": "code",
   "execution_count": 65,
   "id": "170ed15e-7344-4e20-9122-d9d4759bcef9",
   "metadata": {},
   "outputs": [
    {
     "data": {
      "text/plain": [
       "np.float64(-0.25871810172359183)"
      ]
     },
     "execution_count": 65,
     "metadata": {},
     "output_type": "execute_result"
    }
   ],
   "source": [
    "abr1_MCD = r1_MCD -  beta1_MCD * r1_SP1500\n",
    "abr1_MCD.mean()"
   ]
  },
  {
   "cell_type": "markdown",
   "id": "c35beb88-aa99-4330-9bfc-3d4a91c624f7",
   "metadata": {},
   "source": [
    "### Post-Event"
   ]
  },
  {
   "cell_type": "code",
   "execution_count": 67,
   "id": "e98eb85d-dffb-499e-b04f-6b74a2b21641",
   "metadata": {},
   "outputs": [
    {
     "name": "stdout",
     "output_type": "stream",
     "text": [
      "51 51\n"
     ]
    }
   ],
   "source": [
    "w2_start = date_MCD+timedelta(1)\n",
    "w2_end = date_MCD+timedelta(77)\n",
    "df2_MCD = yf.download('MCD', start=w2_start, end=w2_end, progress=False)['Adj Close']\n",
    "df2_SP1500 = yf.download('^SP1500', start=w2_start, end=w2_end, progress=False)['Adj Close']\n",
    "print(len(df2_MCD), len(df2_SP1500 ))"
   ]
  },
  {
   "cell_type": "code",
   "execution_count": 68,
   "id": "b644fcbf-378d-47ed-824a-3bf4f84efa9c",
   "metadata": {},
   "outputs": [
    {
     "name": "stdout",
     "output_type": "stream",
     "text": [
      "50 50\n",
      "0.6175303824902706\n"
     ]
    }
   ],
   "source": [
    "# Calculate the percentage changes\n",
    "r2_MCD = df2_MCD.pct_change().dropna() * 100\n",
    "r2_SP1500 = df2_SP1500.pct_change().dropna() * 100\n",
    "\n",
    "# Align the indices\n",
    "aligned_data = pd.concat([r2_MCD, r2_SP1500], axis=1).dropna()\n",
    "r2_MCD_aligned = aligned_data.iloc[:, 0]\n",
    "r2_SP1500_aligned = aligned_data.iloc[:, 1]\n",
    "\n",
    "# Check the lengths of the aligned series\n",
    "print(len(r2_MCD_aligned), len(r2_SP1500_aligned))\n",
    "\n",
    "# Calculate the covariance and variance\n",
    "cov2_MCD = np.cov(r2_MCD_aligned, r2_SP1500_aligned)[0, 1]\n",
    "var2_mkt = np.var(r2_SP1500_aligned)\n",
    "\n",
    "# Calculate the beta\n",
    "beta2_MCD = cov2_MCD / var2_mkt\n",
    "print(beta2_MCD)"
   ]
  },
  {
   "cell_type": "code",
   "execution_count": 69,
   "id": "8edcef36-e68e-4d1b-8793-2a9a47f56756",
   "metadata": {},
   "outputs": [
    {
     "data": {
      "text/plain": [
       "Date\n",
       "2019-11-05    1.865786\n",
       "2019-11-06    1.040668\n",
       "2019-11-07   -0.566465\n",
       "2019-11-08    0.274505\n",
       "2019-11-11   -0.501027\n",
       "Name: Adj Close, dtype: float64"
      ]
     },
     "execution_count": 69,
     "metadata": {},
     "output_type": "execute_result"
    }
   ],
   "source": [
    "r2_MCD.head()"
   ]
  },
  {
   "cell_type": "markdown",
   "id": "8d15384c-ca82-4a83-8d90-cfa085d03fb8",
   "metadata": {},
   "source": [
    "#### Abnormal Returns"
   ]
  },
  {
   "cell_type": "code",
   "execution_count": 70,
   "id": "d263dd70-2298-4348-a99e-31ed39cfecd6",
   "metadata": {},
   "outputs": [
    {
     "data": {
      "text/plain": [
       "np.float64(0.1475585769657006)"
      ]
     },
     "execution_count": 70,
     "metadata": {},
     "output_type": "execute_result"
    }
   ],
   "source": [
    "abr2_MCD = r2_MCD -  beta2_MCD * r2_SP1500\n",
    "abr2_MCD.mean()"
   ]
  },
  {
   "cell_type": "markdown",
   "id": "ee742e5b-68e9-4d7f-99ad-5d18b036389f",
   "metadata": {},
   "source": [
    "#### Abnormal Returns Change"
   ]
  },
  {
   "cell_type": "code",
   "execution_count": 71,
   "id": "fcd453d7-6902-43ec-9143-f011592f55aa",
   "metadata": {},
   "outputs": [
    {
     "name": "stdout",
     "output_type": "stream",
     "text": [
      "Abnormal returns change from -0.26 to 0.15.\n"
     ]
    }
   ],
   "source": [
    "print(f'Abnormal returns change from {abr1_MCD.mean():.2f} to {abr2_MCD.mean():.2f}.')"
   ]
  },
  {
   "cell_type": "code",
   "execution_count": null,
   "id": "3eb3600d-8d31-4571-8131-c77bccee60dd",
   "metadata": {},
   "outputs": [],
   "source": []
  },
  {
   "cell_type": "markdown",
   "id": "c3d0e706-8507-4545-b748-15bd5297c2d9",
   "metadata": {},
   "source": [
    "### Libraries and Data"
   ]
  },
  {
   "cell_type": "code",
   "execution_count": 132,
   "id": "32fa4911",
   "metadata": {},
   "outputs": [],
   "source": [
    "#!pip install matplotlib\n",
    "import matplotlib.pyplot as plt\n",
    "plt.rcParams['figure.dpi']=300      "
   ]
  },
  {
   "cell_type": "code",
   "execution_count": 133,
   "id": "9628855d",
   "metadata": {},
   "outputs": [],
   "source": [
    "import pandas as pd\n",
    "import yfinance as yf"
   ]
  },
  {
   "cell_type": "code",
   "execution_count": 134,
   "id": "91862442",
   "metadata": {},
   "outputs": [],
   "source": [
    "df = yf.download([\"KELYA\"],\n",
    "                 start=\"2019-01-01\",\n",
    "                 end=\"2019-12-31\",\n",
    "                progress=False)"
   ]
  },
  {
   "cell_type": "code",
   "execution_count": 135,
   "id": "59e1318d",
   "metadata": {},
   "outputs": [
    {
     "data": {
      "text/html": [
       "<div>\n",
       "<style scoped>\n",
       "    .dataframe tbody tr th:only-of-type {\n",
       "        vertical-align: middle;\n",
       "    }\n",
       "\n",
       "    .dataframe tbody tr th {\n",
       "        vertical-align: top;\n",
       "    }\n",
       "\n",
       "    .dataframe thead th {\n",
       "        text-align: right;\n",
       "    }\n",
       "</style>\n",
       "<table border=\"1\" class=\"dataframe\">\n",
       "  <thead>\n",
       "    <tr style=\"text-align: right;\">\n",
       "      <th></th>\n",
       "      <th>Open</th>\n",
       "      <th>High</th>\n",
       "      <th>Low</th>\n",
       "      <th>Close</th>\n",
       "      <th>Adj Close</th>\n",
       "      <th>Volume</th>\n",
       "    </tr>\n",
       "    <tr>\n",
       "      <th>Date</th>\n",
       "      <th></th>\n",
       "      <th></th>\n",
       "      <th></th>\n",
       "      <th></th>\n",
       "      <th></th>\n",
       "      <th></th>\n",
       "    </tr>\n",
       "  </thead>\n",
       "  <tbody>\n",
       "    <tr>\n",
       "      <th>2019-01-02</th>\n",
       "      <td>20.270000</td>\n",
       "      <td>20.860001</td>\n",
       "      <td>20.240000</td>\n",
       "      <td>20.650000</td>\n",
       "      <td>19.396973</td>\n",
       "      <td>103800</td>\n",
       "    </tr>\n",
       "    <tr>\n",
       "      <th>2019-01-03</th>\n",
       "      <td>20.530001</td>\n",
       "      <td>21.230000</td>\n",
       "      <td>20.270000</td>\n",
       "      <td>20.450001</td>\n",
       "      <td>19.209112</td>\n",
       "      <td>74200</td>\n",
       "    </tr>\n",
       "    <tr>\n",
       "      <th>2019-01-04</th>\n",
       "      <td>20.639999</td>\n",
       "      <td>21.299999</td>\n",
       "      <td>20.610001</td>\n",
       "      <td>21.059999</td>\n",
       "      <td>19.782095</td>\n",
       "      <td>84100</td>\n",
       "    </tr>\n",
       "    <tr>\n",
       "      <th>2019-01-07</th>\n",
       "      <td>21.049999</td>\n",
       "      <td>21.350000</td>\n",
       "      <td>20.270000</td>\n",
       "      <td>21.209999</td>\n",
       "      <td>19.922991</td>\n",
       "      <td>60700</td>\n",
       "    </tr>\n",
       "    <tr>\n",
       "      <th>2019-01-08</th>\n",
       "      <td>21.430000</td>\n",
       "      <td>22.010000</td>\n",
       "      <td>21.320000</td>\n",
       "      <td>22.000000</td>\n",
       "      <td>20.665056</td>\n",
       "      <td>103400</td>\n",
       "    </tr>\n",
       "    <tr>\n",
       "      <th>...</th>\n",
       "      <td>...</td>\n",
       "      <td>...</td>\n",
       "      <td>...</td>\n",
       "      <td>...</td>\n",
       "      <td>...</td>\n",
       "      <td>...</td>\n",
       "    </tr>\n",
       "    <tr>\n",
       "      <th>2019-12-23</th>\n",
       "      <td>22.910000</td>\n",
       "      <td>22.969999</td>\n",
       "      <td>22.570000</td>\n",
       "      <td>22.790001</td>\n",
       "      <td>21.671843</td>\n",
       "      <td>101300</td>\n",
       "    </tr>\n",
       "    <tr>\n",
       "      <th>2019-12-24</th>\n",
       "      <td>22.750000</td>\n",
       "      <td>22.840000</td>\n",
       "      <td>22.580000</td>\n",
       "      <td>22.730000</td>\n",
       "      <td>21.614784</td>\n",
       "      <td>45700</td>\n",
       "    </tr>\n",
       "    <tr>\n",
       "      <th>2019-12-26</th>\n",
       "      <td>22.670000</td>\n",
       "      <td>22.879999</td>\n",
       "      <td>22.209999</td>\n",
       "      <td>22.280001</td>\n",
       "      <td>21.186867</td>\n",
       "      <td>60500</td>\n",
       "    </tr>\n",
       "    <tr>\n",
       "      <th>2019-12-27</th>\n",
       "      <td>22.340000</td>\n",
       "      <td>22.340000</td>\n",
       "      <td>22.100000</td>\n",
       "      <td>22.209999</td>\n",
       "      <td>21.120295</td>\n",
       "      <td>65400</td>\n",
       "    </tr>\n",
       "    <tr>\n",
       "      <th>2019-12-30</th>\n",
       "      <td>22.160000</td>\n",
       "      <td>22.420000</td>\n",
       "      <td>22.030001</td>\n",
       "      <td>22.299999</td>\n",
       "      <td>21.205885</td>\n",
       "      <td>110000</td>\n",
       "    </tr>\n",
       "  </tbody>\n",
       "</table>\n",
       "<p>251 rows × 6 columns</p>\n",
       "</div>"
      ],
      "text/plain": [
       "                 Open       High        Low      Close  Adj Close  Volume\n",
       "Date                                                                     \n",
       "2019-01-02  20.270000  20.860001  20.240000  20.650000  19.396973  103800\n",
       "2019-01-03  20.530001  21.230000  20.270000  20.450001  19.209112   74200\n",
       "2019-01-04  20.639999  21.299999  20.610001  21.059999  19.782095   84100\n",
       "2019-01-07  21.049999  21.350000  20.270000  21.209999  19.922991   60700\n",
       "2019-01-08  21.430000  22.010000  21.320000  22.000000  20.665056  103400\n",
       "...               ...        ...        ...        ...        ...     ...\n",
       "2019-12-23  22.910000  22.969999  22.570000  22.790001  21.671843  101300\n",
       "2019-12-24  22.750000  22.840000  22.580000  22.730000  21.614784   45700\n",
       "2019-12-26  22.670000  22.879999  22.209999  22.280001  21.186867   60500\n",
       "2019-12-27  22.340000  22.340000  22.100000  22.209999  21.120295   65400\n",
       "2019-12-30  22.160000  22.420000  22.030001  22.299999  21.205885  110000\n",
       "\n",
       "[251 rows x 6 columns]"
      ]
     },
     "execution_count": 135,
     "metadata": {},
     "output_type": "execute_result"
    }
   ],
   "source": [
    "df"
   ]
  },
  {
   "cell_type": "code",
   "execution_count": 136,
   "id": "5df3909f",
   "metadata": {},
   "outputs": [
    {
     "data": {
      "text/plain": [
       "Date\n",
       "2019-01-02    20.650000\n",
       "2019-01-03    20.450001\n",
       "2019-01-04    21.059999\n",
       "2019-01-07    21.209999\n",
       "2019-01-08    22.000000\n",
       "                ...    \n",
       "2019-12-23    22.790001\n",
       "2019-12-24    22.730000\n",
       "2019-12-26    22.280001\n",
       "2019-12-27    22.209999\n",
       "2019-12-30    22.299999\n",
       "Name: Close, Length: 251, dtype: float64"
      ]
     },
     "execution_count": 136,
     "metadata": {},
     "output_type": "execute_result"
    }
   ],
   "source": [
    "df.Close"
   ]
  },
  {
   "cell_type": "code",
   "execution_count": 137,
   "id": "005d33eb",
   "metadata": {},
   "outputs": [],
   "source": [
    "df.to_csv('CEO KELYA.csv') "
   ]
  },
  {
   "cell_type": "code",
   "execution_count": 138,
   "id": "ede2d76b",
   "metadata": {},
   "outputs": [
    {
     "data": {
      "text/html": [
       "<div>\n",
       "<style scoped>\n",
       "    .dataframe tbody tr th:only-of-type {\n",
       "        vertical-align: middle;\n",
       "    }\n",
       "\n",
       "    .dataframe tbody tr th {\n",
       "        vertical-align: top;\n",
       "    }\n",
       "\n",
       "    .dataframe thead th {\n",
       "        text-align: right;\n",
       "    }\n",
       "</style>\n",
       "<table border=\"1\" class=\"dataframe\">\n",
       "  <thead>\n",
       "    <tr style=\"text-align: right;\">\n",
       "      <th></th>\n",
       "      <th>Date</th>\n",
       "      <th>Open</th>\n",
       "      <th>High</th>\n",
       "      <th>Low</th>\n",
       "      <th>Close</th>\n",
       "      <th>Adj Close</th>\n",
       "      <th>Volume</th>\n",
       "    </tr>\n",
       "  </thead>\n",
       "  <tbody>\n",
       "    <tr>\n",
       "      <th>0</th>\n",
       "      <td>2019-01-02</td>\n",
       "      <td>20.270000</td>\n",
       "      <td>20.860001</td>\n",
       "      <td>20.240000</td>\n",
       "      <td>20.650000</td>\n",
       "      <td>19.396973</td>\n",
       "      <td>103800</td>\n",
       "    </tr>\n",
       "    <tr>\n",
       "      <th>1</th>\n",
       "      <td>2019-01-03</td>\n",
       "      <td>20.530001</td>\n",
       "      <td>21.230000</td>\n",
       "      <td>20.270000</td>\n",
       "      <td>20.450001</td>\n",
       "      <td>19.209112</td>\n",
       "      <td>74200</td>\n",
       "    </tr>\n",
       "    <tr>\n",
       "      <th>2</th>\n",
       "      <td>2019-01-04</td>\n",
       "      <td>20.639999</td>\n",
       "      <td>21.299999</td>\n",
       "      <td>20.610001</td>\n",
       "      <td>21.059999</td>\n",
       "      <td>19.782095</td>\n",
       "      <td>84100</td>\n",
       "    </tr>\n",
       "    <tr>\n",
       "      <th>3</th>\n",
       "      <td>2019-01-07</td>\n",
       "      <td>21.049999</td>\n",
       "      <td>21.350000</td>\n",
       "      <td>20.270000</td>\n",
       "      <td>21.209999</td>\n",
       "      <td>19.922991</td>\n",
       "      <td>60700</td>\n",
       "    </tr>\n",
       "    <tr>\n",
       "      <th>4</th>\n",
       "      <td>2019-01-08</td>\n",
       "      <td>21.430000</td>\n",
       "      <td>22.010000</td>\n",
       "      <td>21.320000</td>\n",
       "      <td>22.000000</td>\n",
       "      <td>20.665056</td>\n",
       "      <td>103400</td>\n",
       "    </tr>\n",
       "    <tr>\n",
       "      <th>...</th>\n",
       "      <td>...</td>\n",
       "      <td>...</td>\n",
       "      <td>...</td>\n",
       "      <td>...</td>\n",
       "      <td>...</td>\n",
       "      <td>...</td>\n",
       "      <td>...</td>\n",
       "    </tr>\n",
       "    <tr>\n",
       "      <th>246</th>\n",
       "      <td>2019-12-23</td>\n",
       "      <td>22.910000</td>\n",
       "      <td>22.969999</td>\n",
       "      <td>22.570000</td>\n",
       "      <td>22.790001</td>\n",
       "      <td>21.671843</td>\n",
       "      <td>101300</td>\n",
       "    </tr>\n",
       "    <tr>\n",
       "      <th>247</th>\n",
       "      <td>2019-12-24</td>\n",
       "      <td>22.750000</td>\n",
       "      <td>22.840000</td>\n",
       "      <td>22.580000</td>\n",
       "      <td>22.730000</td>\n",
       "      <td>21.614784</td>\n",
       "      <td>45700</td>\n",
       "    </tr>\n",
       "    <tr>\n",
       "      <th>248</th>\n",
       "      <td>2019-12-26</td>\n",
       "      <td>22.670000</td>\n",
       "      <td>22.879999</td>\n",
       "      <td>22.209999</td>\n",
       "      <td>22.280001</td>\n",
       "      <td>21.186867</td>\n",
       "      <td>60500</td>\n",
       "    </tr>\n",
       "    <tr>\n",
       "      <th>249</th>\n",
       "      <td>2019-12-27</td>\n",
       "      <td>22.340000</td>\n",
       "      <td>22.340000</td>\n",
       "      <td>22.100000</td>\n",
       "      <td>22.209999</td>\n",
       "      <td>21.120295</td>\n",
       "      <td>65400</td>\n",
       "    </tr>\n",
       "    <tr>\n",
       "      <th>250</th>\n",
       "      <td>2019-12-30</td>\n",
       "      <td>22.160000</td>\n",
       "      <td>22.420000</td>\n",
       "      <td>22.030001</td>\n",
       "      <td>22.299999</td>\n",
       "      <td>21.205885</td>\n",
       "      <td>110000</td>\n",
       "    </tr>\n",
       "  </tbody>\n",
       "</table>\n",
       "<p>251 rows × 7 columns</p>\n",
       "</div>"
      ],
      "text/plain": [
       "           Date       Open       High        Low      Close  Adj Close  Volume\n",
       "0    2019-01-02  20.270000  20.860001  20.240000  20.650000  19.396973  103800\n",
       "1    2019-01-03  20.530001  21.230000  20.270000  20.450001  19.209112   74200\n",
       "2    2019-01-04  20.639999  21.299999  20.610001  21.059999  19.782095   84100\n",
       "3    2019-01-07  21.049999  21.350000  20.270000  21.209999  19.922991   60700\n",
       "4    2019-01-08  21.430000  22.010000  21.320000  22.000000  20.665056  103400\n",
       "..          ...        ...        ...        ...        ...        ...     ...\n",
       "246  2019-12-23  22.910000  22.969999  22.570000  22.790001  21.671843  101300\n",
       "247  2019-12-24  22.750000  22.840000  22.580000  22.730000  21.614784   45700\n",
       "248  2019-12-26  22.670000  22.879999  22.209999  22.280001  21.186867   60500\n",
       "249  2019-12-27  22.340000  22.340000  22.100000  22.209999  21.120295   65400\n",
       "250  2019-12-30  22.160000  22.420000  22.030001  22.299999  21.205885  110000\n",
       "\n",
       "[251 rows x 7 columns]"
      ]
     },
     "execution_count": 138,
     "metadata": {},
     "output_type": "execute_result"
    }
   ],
   "source": [
    "pd.read_csv('CEO KELYA.csv')"
   ]
  },
  {
   "cell_type": "code",
   "execution_count": 139,
   "id": "2de500d6",
   "metadata": {},
   "outputs": [],
   "source": [
    "import pandas as pd\n",
    "import numpy as np\n",
    "from datetime import date, datetime, timedelta\n",
    "import statsmodels.api as sm\n",
    "import yfinance as yf\n",
    "import pandas_datareader as pdr"
   ]
  },
  {
   "cell_type": "code",
   "execution_count": 140,
   "id": "9d129de0",
   "metadata": {},
   "outputs": [],
   "source": [
    "file = \"CEO KELYA.csv\" # Can paste the full path here in front of the file name\n",
    "x1 = pd.read_csv(file)"
   ]
  },
  {
   "cell_type": "code",
   "execution_count": 141,
   "id": "3af19173",
   "metadata": {},
   "outputs": [
    {
     "data": {
      "text/plain": [
       "datetime.datetime(2019, 9, 30, 0, 0)"
      ]
     },
     "execution_count": 141,
     "metadata": {},
     "output_type": "execute_result"
    }
   ],
   "source": [
    "date_KELYA = datetime(2019,9,30)   # Find it in the spreadsheet\n",
    "date_KELYA"
   ]
  },
  {
   "cell_type": "markdown",
   "id": "821b2234-50c9-4aba-8313-a45c81157d6a",
   "metadata": {},
   "source": [
    "### Pre-Event"
   ]
  },
  {
   "cell_type": "code",
   "execution_count": 142,
   "id": "52d2bfa0",
   "metadata": {},
   "outputs": [
    {
     "name": "stdout",
     "output_type": "stream",
     "text": [
      "51 51\n"
     ]
    }
   ],
   "source": [
    "w1_start   = date_KELYA - timedelta(75)\n",
    "w1_end     = date_KELYA - timedelta(3)\n",
    "df1_KELYA    = yf.download('KELYA', start=w1_start, end=w1_end, progress=False)['Adj Close']\n",
    "df1_SP1500 = yf.download('^SP1500', start=w1_start, end=w1_end, progress=False)['Adj Close']\n",
    "\n",
    "\n",
    "print(len(df1_KELYA), len(df1_SP1500 ))                       # KELYA is the code of Meta；SP1500 is the Market Index; Adj Close is adjusted price"
   ]
  },
  {
   "cell_type": "code",
   "execution_count": 143,
   "id": "218be21b-0fa2-49aa-979d-cbbd734fab38",
   "metadata": {},
   "outputs": [
    {
     "name": "stdout",
     "output_type": "stream",
     "text": [
      "50 50\n",
      "0.8870213334919951\n"
     ]
    }
   ],
   "source": [
    "# Calculate the percentage changes\n",
    "r1_KELYA = df1_KELYA.pct_change().dropna() * 100\n",
    "r1_SP1500 = df1_SP1500.pct_change().dropna() * 100\n",
    "\n",
    "# Align the indices\n",
    "aligned_data = pd.concat([r1_KELYA, r1_SP1500], axis=1).dropna()\n",
    "r1_KELYA_aligned = aligned_data.iloc[:, 0]\n",
    "r1_SP1500_aligned = aligned_data.iloc[:, 1]\n",
    "\n",
    "# Check the lengths of the aligned series\n",
    "print(len(r1_KELYA_aligned), len(r1_SP1500_aligned))\n",
    "\n",
    "# Calculate the covariance and variance\n",
    "cov1_KELYA = np.cov(r1_KELYA_aligned, r1_SP1500_aligned)[0, 1]\n",
    "var1_mkt = np.var(r1_SP1500_aligned)\n",
    "\n",
    "# Calculate the beta\n",
    "beta1_KELYA = cov1_KELYA / var1_mkt\n",
    "print(beta1_KELYA)"
   ]
  },
  {
   "cell_type": "code",
   "execution_count": 144,
   "id": "c9a14f5c",
   "metadata": {},
   "outputs": [
    {
     "data": {
      "text/plain": [
       "Date\n",
       "2019-09-20    0.205236\n",
       "2019-09-23   -1.024169\n",
       "2019-09-24   -0.496676\n",
       "2019-09-25    0.665559\n",
       "2019-09-26    1.239649\n",
       "Name: Adj Close, dtype: float64"
      ]
     },
     "execution_count": 144,
     "metadata": {},
     "output_type": "execute_result"
    }
   ],
   "source": [
    "r1_KELYA.tail()"
   ]
  },
  {
   "cell_type": "markdown",
   "id": "248847af-7acf-4cf6-b184-bfcc2029bda3",
   "metadata": {},
   "source": [
    "#### Abnormal Return"
   ]
  },
  {
   "cell_type": "code",
   "execution_count": 145,
   "id": "2bd0b163",
   "metadata": {},
   "outputs": [
    {
     "data": {
      "text/plain": [
       "np.float64(-0.12398611850104607)"
      ]
     },
     "execution_count": 145,
     "metadata": {},
     "output_type": "execute_result"
    }
   ],
   "source": [
    "abr1_KELYA = r1_KELYA -  beta1_KELYA * r1_SP1500\n",
    "abr1_KELYA.mean()"
   ]
  },
  {
   "cell_type": "markdown",
   "id": "784aabff-b3af-4fa4-9bbb-40bfca273473",
   "metadata": {},
   "source": [
    "### Post-Event"
   ]
  },
  {
   "cell_type": "code",
   "execution_count": 146,
   "id": "29940f9d",
   "metadata": {},
   "outputs": [
    {
     "name": "stdout",
     "output_type": "stream",
     "text": [
      "50 50\n"
     ]
    }
   ],
   "source": [
    "w2_start = date_KELYA+timedelta(1)\n",
    "w2_end = date_KELYA+timedelta(72)\n",
    "df2_KELYA = yf.download('KELYA', start=w2_start, end=w2_end, progress=False)['Adj Close']\n",
    "df2_SP1500 = yf.download('^SP1500', start=w2_start, end=w2_end, progress=False)['Adj Close']\n",
    "print(len(df2_KELYA), len(df2_SP1500 ))"
   ]
  },
  {
   "cell_type": "code",
   "execution_count": 147,
   "id": "12f82b8c-3b4d-407a-98a0-d6572cd1fdc1",
   "metadata": {},
   "outputs": [
    {
     "name": "stdout",
     "output_type": "stream",
     "text": [
      "50 50\n"
     ]
    }
   ],
   "source": [
    "r2_KELYA = df2_KELYA.pct_change().dropna()*100\n",
    "r2_SP1500 = df2_SP1500.pct_change().dropna()*100\n",
    "print(len(r1_KELYA), len(r1_SP1500 ))"
   ]
  },
  {
   "cell_type": "code",
   "execution_count": 148,
   "id": "de7f8c1f-a896-46cd-9f84-0adcb44c9b8a",
   "metadata": {},
   "outputs": [
    {
     "data": {
      "text/plain": [
       "Date\n",
       "2019-10-02   -0.084952\n",
       "2019-10-03   -1.105431\n",
       "2019-10-04    1.676690\n",
       "2019-10-07   -2.283293\n",
       "2019-10-08   -0.692343\n",
       "Name: Adj Close, dtype: float64"
      ]
     },
     "execution_count": 148,
     "metadata": {},
     "output_type": "execute_result"
    }
   ],
   "source": [
    "r2_KELYA.head()"
   ]
  },
  {
   "cell_type": "markdown",
   "id": "f17dd91e-aff1-4bd1-b7c7-6fa7b420388c",
   "metadata": {},
   "source": [
    "#### Beta"
   ]
  },
  {
   "cell_type": "code",
   "execution_count": 149,
   "id": "3a2721d0-1308-4162-b5f0-15b45ddfe10e",
   "metadata": {},
   "outputs": [
    {
     "data": {
      "text/plain": [
       "np.float64(0.8047997947049105)"
      ]
     },
     "execution_count": 149,
     "metadata": {},
     "output_type": "execute_result"
    }
   ],
   "source": [
    "cov2_KELYA  = np.cov(r2_KELYA, r2_SP1500)[0,1]\n",
    "var2_mkt  = np.var(r2_SP1500)\n",
    "beta2_KELYA  = cov2_KELYA/var2_mkt\n",
    "beta2_KELYA"
   ]
  },
  {
   "cell_type": "markdown",
   "id": "3e850d2c-755c-42b9-9093-1882e8e4e5f3",
   "metadata": {},
   "source": [
    "#### Abnormal Returns"
   ]
  },
  {
   "cell_type": "code",
   "execution_count": 150,
   "id": "07de2fce",
   "metadata": {},
   "outputs": [
    {
     "data": {
      "text/plain": [
       "np.float64(-0.24194103336648373)"
      ]
     },
     "execution_count": 150,
     "metadata": {},
     "output_type": "execute_result"
    }
   ],
   "source": [
    "abr2_KELYA = r2_KELYA -  beta2_KELYA * r2_SP1500\n",
    "abr2_KELYA.mean()"
   ]
  },
  {
   "cell_type": "markdown",
   "id": "752a55f5-f9f2-4bd2-a712-e7fa9deb99e8",
   "metadata": {},
   "source": [
    "### Abnormal Returns Change"
   ]
  },
  {
   "cell_type": "code",
   "execution_count": 151,
   "id": "3ac1aacd",
   "metadata": {},
   "outputs": [
    {
     "name": "stdout",
     "output_type": "stream",
     "text": [
      "Abnormal returns change from -0.12 to -0.24.\n"
     ]
    }
   ],
   "source": [
    "print(f'Abnormal returns change from {abr1_KELYA.mean():.2f} to {abr2_KELYA.mean():.2f}.')"
   ]
  },
  {
   "cell_type": "code",
   "execution_count": null,
   "id": "0a8927c5",
   "metadata": {},
   "outputs": [],
   "source": []
  },
  {
   "cell_type": "markdown",
   "id": "5dc1524f-8225-42d6-b3b5-365f88b5b101",
   "metadata": {},
   "source": [
    "## HAIN"
   ]
  },
  {
   "cell_type": "markdown",
   "id": "c086dd0d-2bb3-40bd-9210-cd9d5afb614d",
   "metadata": {
    "jp-MarkdownHeadingCollapsed": true
   },
   "source": [
    "### Importing libraries"
   ]
  },
  {
   "cell_type": "code",
   "execution_count": 121,
   "id": "9d95ac0b",
   "metadata": {},
   "outputs": [],
   "source": [
    "import pandas as pd\n",
    "import yfinance as yf\n",
    "import numpy as np\n",
    "from datetime import date, datetime, timedelta\n",
    "import statsmodels.api as sm\n",
    "import pandas_datareader as pdr\n",
    "import matplotlib.pyplot as plt\n",
    "plt.rcParams['figure.dpi']=300 "
   ]
  },
  {
   "cell_type": "markdown",
   "id": "71040075-e6ff-4529-b032-9b0164eb08dd",
   "metadata": {
    "jp-MarkdownHeadingCollapsed": true
   },
   "source": [
    "### Fetch Data"
   ]
  },
  {
   "cell_type": "code",
   "execution_count": 122,
   "id": "1accd0c8",
   "metadata": {},
   "outputs": [],
   "source": [
    "df = yf.download([\"HAIN\"],\n",
    "                 start=\"2018-01-01\",\n",
    "                 end=\"2019-12-31\",\n",
    "                progress=False)"
   ]
  },
  {
   "cell_type": "code",
   "execution_count": 123,
   "id": "309c9e38",
   "metadata": {},
   "outputs": [
    {
     "data": {
      "text/html": [
       "<div>\n",
       "<style scoped>\n",
       "    .dataframe tbody tr th:only-of-type {\n",
       "        vertical-align: middle;\n",
       "    }\n",
       "\n",
       "    .dataframe tbody tr th {\n",
       "        vertical-align: top;\n",
       "    }\n",
       "\n",
       "    .dataframe thead th {\n",
       "        text-align: right;\n",
       "    }\n",
       "</style>\n",
       "<table border=\"1\" class=\"dataframe\">\n",
       "  <thead>\n",
       "    <tr style=\"text-align: right;\">\n",
       "      <th></th>\n",
       "      <th>Open</th>\n",
       "      <th>High</th>\n",
       "      <th>Low</th>\n",
       "      <th>Close</th>\n",
       "      <th>Adj Close</th>\n",
       "      <th>Volume</th>\n",
       "    </tr>\n",
       "    <tr>\n",
       "      <th>Date</th>\n",
       "      <th></th>\n",
       "      <th></th>\n",
       "      <th></th>\n",
       "      <th></th>\n",
       "      <th></th>\n",
       "      <th></th>\n",
       "    </tr>\n",
       "  </thead>\n",
       "  <tbody>\n",
       "    <tr>\n",
       "      <th>2018-01-02</th>\n",
       "      <td>42.630001</td>\n",
       "      <td>42.709999</td>\n",
       "      <td>41.880001</td>\n",
       "      <td>41.950001</td>\n",
       "      <td>41.950001</td>\n",
       "      <td>989000</td>\n",
       "    </tr>\n",
       "    <tr>\n",
       "      <th>2018-01-03</th>\n",
       "      <td>42.000000</td>\n",
       "      <td>42.020000</td>\n",
       "      <td>40.880001</td>\n",
       "      <td>40.919998</td>\n",
       "      <td>40.919998</td>\n",
       "      <td>757900</td>\n",
       "    </tr>\n",
       "    <tr>\n",
       "      <th>2018-01-04</th>\n",
       "      <td>40.910000</td>\n",
       "      <td>40.970001</td>\n",
       "      <td>40.410000</td>\n",
       "      <td>40.599998</td>\n",
       "      <td>40.599998</td>\n",
       "      <td>692600</td>\n",
       "    </tr>\n",
       "    <tr>\n",
       "      <th>2018-01-05</th>\n",
       "      <td>39.430000</td>\n",
       "      <td>40.799999</td>\n",
       "      <td>39.049999</td>\n",
       "      <td>40.509998</td>\n",
       "      <td>40.509998</td>\n",
       "      <td>1556200</td>\n",
       "    </tr>\n",
       "    <tr>\n",
       "      <th>2018-01-08</th>\n",
       "      <td>40.599998</td>\n",
       "      <td>41.250000</td>\n",
       "      <td>40.580002</td>\n",
       "      <td>41.070000</td>\n",
       "      <td>41.070000</td>\n",
       "      <td>891700</td>\n",
       "    </tr>\n",
       "    <tr>\n",
       "      <th>...</th>\n",
       "      <td>...</td>\n",
       "      <td>...</td>\n",
       "      <td>...</td>\n",
       "      <td>...</td>\n",
       "      <td>...</td>\n",
       "      <td>...</td>\n",
       "    </tr>\n",
       "    <tr>\n",
       "      <th>2019-12-23</th>\n",
       "      <td>25.799999</td>\n",
       "      <td>26.000000</td>\n",
       "      <td>25.559999</td>\n",
       "      <td>25.780001</td>\n",
       "      <td>25.780001</td>\n",
       "      <td>696200</td>\n",
       "    </tr>\n",
       "    <tr>\n",
       "      <th>2019-12-24</th>\n",
       "      <td>25.809999</td>\n",
       "      <td>25.830000</td>\n",
       "      <td>25.590000</td>\n",
       "      <td>25.740000</td>\n",
       "      <td>25.740000</td>\n",
       "      <td>212700</td>\n",
       "    </tr>\n",
       "    <tr>\n",
       "      <th>2019-12-26</th>\n",
       "      <td>25.760000</td>\n",
       "      <td>25.770000</td>\n",
       "      <td>25.490000</td>\n",
       "      <td>25.639999</td>\n",
       "      <td>25.639999</td>\n",
       "      <td>487200</td>\n",
       "    </tr>\n",
       "    <tr>\n",
       "      <th>2019-12-27</th>\n",
       "      <td>25.740000</td>\n",
       "      <td>25.809999</td>\n",
       "      <td>25.510000</td>\n",
       "      <td>25.580000</td>\n",
       "      <td>25.580000</td>\n",
       "      <td>587800</td>\n",
       "    </tr>\n",
       "    <tr>\n",
       "      <th>2019-12-30</th>\n",
       "      <td>25.670000</td>\n",
       "      <td>25.670000</td>\n",
       "      <td>25.440001</td>\n",
       "      <td>25.530001</td>\n",
       "      <td>25.530001</td>\n",
       "      <td>414700</td>\n",
       "    </tr>\n",
       "  </tbody>\n",
       "</table>\n",
       "<p>502 rows × 6 columns</p>\n",
       "</div>"
      ],
      "text/plain": [
       "                 Open       High        Low      Close  Adj Close   Volume\n",
       "Date                                                                      \n",
       "2018-01-02  42.630001  42.709999  41.880001  41.950001  41.950001   989000\n",
       "2018-01-03  42.000000  42.020000  40.880001  40.919998  40.919998   757900\n",
       "2018-01-04  40.910000  40.970001  40.410000  40.599998  40.599998   692600\n",
       "2018-01-05  39.430000  40.799999  39.049999  40.509998  40.509998  1556200\n",
       "2018-01-08  40.599998  41.250000  40.580002  41.070000  41.070000   891700\n",
       "...               ...        ...        ...        ...        ...      ...\n",
       "2019-12-23  25.799999  26.000000  25.559999  25.780001  25.780001   696200\n",
       "2019-12-24  25.809999  25.830000  25.590000  25.740000  25.740000   212700\n",
       "2019-12-26  25.760000  25.770000  25.490000  25.639999  25.639999   487200\n",
       "2019-12-27  25.740000  25.809999  25.510000  25.580000  25.580000   587800\n",
       "2019-12-30  25.670000  25.670000  25.440001  25.530001  25.530001   414700\n",
       "\n",
       "[502 rows x 6 columns]"
      ]
     },
     "execution_count": 123,
     "metadata": {},
     "output_type": "execute_result"
    }
   ],
   "source": [
    "df"
   ]
  },
  {
   "cell_type": "code",
   "execution_count": 124,
   "id": "0ebc8f68",
   "metadata": {},
   "outputs": [
    {
     "data": {
      "text/plain": [
       "Date\n",
       "2018-01-02    41.950001\n",
       "2018-01-03    40.919998\n",
       "2018-01-04    40.599998\n",
       "2018-01-05    40.509998\n",
       "2018-01-08    41.070000\n",
       "                ...    \n",
       "2019-12-23    25.780001\n",
       "2019-12-24    25.740000\n",
       "2019-12-26    25.639999\n",
       "2019-12-27    25.580000\n",
       "2019-12-30    25.530001\n",
       "Name: Close, Length: 502, dtype: float64"
      ]
     },
     "execution_count": 124,
     "metadata": {},
     "output_type": "execute_result"
    }
   ],
   "source": [
    "df.Close"
   ]
  },
  {
   "cell_type": "code",
   "execution_count": 125,
   "id": "5dff5445",
   "metadata": {},
   "outputs": [],
   "source": [
    "df.to_csv('CEO HAIN.csv') "
   ]
  },
  {
   "cell_type": "code",
   "execution_count": 126,
   "id": "fa192d3e",
   "metadata": {},
   "outputs": [
    {
     "data": {
      "text/html": [
       "<div>\n",
       "<style scoped>\n",
       "    .dataframe tbody tr th:only-of-type {\n",
       "        vertical-align: middle;\n",
       "    }\n",
       "\n",
       "    .dataframe tbody tr th {\n",
       "        vertical-align: top;\n",
       "    }\n",
       "\n",
       "    .dataframe thead th {\n",
       "        text-align: right;\n",
       "    }\n",
       "</style>\n",
       "<table border=\"1\" class=\"dataframe\">\n",
       "  <thead>\n",
       "    <tr style=\"text-align: right;\">\n",
       "      <th></th>\n",
       "      <th>Date</th>\n",
       "      <th>Open</th>\n",
       "      <th>High</th>\n",
       "      <th>Low</th>\n",
       "      <th>Close</th>\n",
       "      <th>Adj Close</th>\n",
       "      <th>Volume</th>\n",
       "    </tr>\n",
       "  </thead>\n",
       "  <tbody>\n",
       "    <tr>\n",
       "      <th>0</th>\n",
       "      <td>2018-01-02</td>\n",
       "      <td>42.630001</td>\n",
       "      <td>42.709999</td>\n",
       "      <td>41.880001</td>\n",
       "      <td>41.950001</td>\n",
       "      <td>41.950001</td>\n",
       "      <td>989000</td>\n",
       "    </tr>\n",
       "    <tr>\n",
       "      <th>1</th>\n",
       "      <td>2018-01-03</td>\n",
       "      <td>42.000000</td>\n",
       "      <td>42.020000</td>\n",
       "      <td>40.880001</td>\n",
       "      <td>40.919998</td>\n",
       "      <td>40.919998</td>\n",
       "      <td>757900</td>\n",
       "    </tr>\n",
       "    <tr>\n",
       "      <th>2</th>\n",
       "      <td>2018-01-04</td>\n",
       "      <td>40.910000</td>\n",
       "      <td>40.970001</td>\n",
       "      <td>40.410000</td>\n",
       "      <td>40.599998</td>\n",
       "      <td>40.599998</td>\n",
       "      <td>692600</td>\n",
       "    </tr>\n",
       "    <tr>\n",
       "      <th>3</th>\n",
       "      <td>2018-01-05</td>\n",
       "      <td>39.430000</td>\n",
       "      <td>40.799999</td>\n",
       "      <td>39.049999</td>\n",
       "      <td>40.509998</td>\n",
       "      <td>40.509998</td>\n",
       "      <td>1556200</td>\n",
       "    </tr>\n",
       "    <tr>\n",
       "      <th>4</th>\n",
       "      <td>2018-01-08</td>\n",
       "      <td>40.599998</td>\n",
       "      <td>41.250000</td>\n",
       "      <td>40.580002</td>\n",
       "      <td>41.070000</td>\n",
       "      <td>41.070000</td>\n",
       "      <td>891700</td>\n",
       "    </tr>\n",
       "    <tr>\n",
       "      <th>...</th>\n",
       "      <td>...</td>\n",
       "      <td>...</td>\n",
       "      <td>...</td>\n",
       "      <td>...</td>\n",
       "      <td>...</td>\n",
       "      <td>...</td>\n",
       "      <td>...</td>\n",
       "    </tr>\n",
       "    <tr>\n",
       "      <th>497</th>\n",
       "      <td>2019-12-23</td>\n",
       "      <td>25.799999</td>\n",
       "      <td>26.000000</td>\n",
       "      <td>25.559999</td>\n",
       "      <td>25.780001</td>\n",
       "      <td>25.780001</td>\n",
       "      <td>696200</td>\n",
       "    </tr>\n",
       "    <tr>\n",
       "      <th>498</th>\n",
       "      <td>2019-12-24</td>\n",
       "      <td>25.809999</td>\n",
       "      <td>25.830000</td>\n",
       "      <td>25.590000</td>\n",
       "      <td>25.740000</td>\n",
       "      <td>25.740000</td>\n",
       "      <td>212700</td>\n",
       "    </tr>\n",
       "    <tr>\n",
       "      <th>499</th>\n",
       "      <td>2019-12-26</td>\n",
       "      <td>25.760000</td>\n",
       "      <td>25.770000</td>\n",
       "      <td>25.490000</td>\n",
       "      <td>25.639999</td>\n",
       "      <td>25.639999</td>\n",
       "      <td>487200</td>\n",
       "    </tr>\n",
       "    <tr>\n",
       "      <th>500</th>\n",
       "      <td>2019-12-27</td>\n",
       "      <td>25.740000</td>\n",
       "      <td>25.809999</td>\n",
       "      <td>25.510000</td>\n",
       "      <td>25.580000</td>\n",
       "      <td>25.580000</td>\n",
       "      <td>587800</td>\n",
       "    </tr>\n",
       "    <tr>\n",
       "      <th>501</th>\n",
       "      <td>2019-12-30</td>\n",
       "      <td>25.670000</td>\n",
       "      <td>25.670000</td>\n",
       "      <td>25.440001</td>\n",
       "      <td>25.530001</td>\n",
       "      <td>25.530001</td>\n",
       "      <td>414700</td>\n",
       "    </tr>\n",
       "  </tbody>\n",
       "</table>\n",
       "<p>502 rows × 7 columns</p>\n",
       "</div>"
      ],
      "text/plain": [
       "           Date       Open       High        Low      Close  Adj Close  \\\n",
       "0    2018-01-02  42.630001  42.709999  41.880001  41.950001  41.950001   \n",
       "1    2018-01-03  42.000000  42.020000  40.880001  40.919998  40.919998   \n",
       "2    2018-01-04  40.910000  40.970001  40.410000  40.599998  40.599998   \n",
       "3    2018-01-05  39.430000  40.799999  39.049999  40.509998  40.509998   \n",
       "4    2018-01-08  40.599998  41.250000  40.580002  41.070000  41.070000   \n",
       "..          ...        ...        ...        ...        ...        ...   \n",
       "497  2019-12-23  25.799999  26.000000  25.559999  25.780001  25.780001   \n",
       "498  2019-12-24  25.809999  25.830000  25.590000  25.740000  25.740000   \n",
       "499  2019-12-26  25.760000  25.770000  25.490000  25.639999  25.639999   \n",
       "500  2019-12-27  25.740000  25.809999  25.510000  25.580000  25.580000   \n",
       "501  2019-12-30  25.670000  25.670000  25.440001  25.530001  25.530001   \n",
       "\n",
       "      Volume  \n",
       "0     989000  \n",
       "1     757900  \n",
       "2     692600  \n",
       "3    1556200  \n",
       "4     891700  \n",
       "..       ...  \n",
       "497   696200  \n",
       "498   212700  \n",
       "499   487200  \n",
       "500   587800  \n",
       "501   414700  \n",
       "\n",
       "[502 rows x 7 columns]"
      ]
     },
     "execution_count": 126,
     "metadata": {},
     "output_type": "execute_result"
    }
   ],
   "source": [
    "pd.read_csv('CEO HAIN.csv')"
   ]
  },
  {
   "cell_type": "code",
   "execution_count": 127,
   "id": "3f496013",
   "metadata": {},
   "outputs": [],
   "source": [
    "file = \"CEO HAIN.csv\" # Can paste the full path here in front of the file name\n",
    "x1 = pd.read_csv(file)"
   ]
  },
  {
   "cell_type": "code",
   "execution_count": 128,
   "id": "194b9e82",
   "metadata": {},
   "outputs": [
    {
     "data": {
      "text/plain": [
       "datetime.datetime(2018, 11, 5, 0, 0)"
      ]
     },
     "execution_count": 128,
     "metadata": {},
     "output_type": "execute_result"
    }
   ],
   "source": [
    "date_HAIN = datetime(2018,11,5)   # Find it in the spreadsheet\n",
    "date_HAIN"
   ]
  },
  {
   "cell_type": "markdown",
   "id": "0c24b667-6627-485c-bb0f-a9d47ca7d355",
   "metadata": {},
   "source": [
    "### Pre-Event"
   ]
  },
  {
   "cell_type": "code",
   "execution_count": 129,
   "id": "1a507393",
   "metadata": {},
   "outputs": [
    {
     "name": "stdout",
     "output_type": "stream",
     "text": [
      "52 51\n"
     ]
    }
   ],
   "source": [
    "w1_start   = date_HAIN - timedelta(76)\n",
    "w1_end     = date_HAIN - timedelta(3)\n",
    "df1_HAIN    = yf.download('HAIN', start=w1_start, end=w1_end, progress=False)['Adj Close']\n",
    "df1_SP1500 = yf.download('^SP1500', start=w1_start, end=w1_end, progress=False)['Adj Close']\n",
    "\n",
    "\n",
    "print(len(df1_HAIN), len(df1_SP1500 ))                       # HAIN is the code of Meta；SP1500 is the Market Index; Adj Close is adjusted price"
   ]
  },
  {
   "cell_type": "code",
   "execution_count": 130,
   "id": "c2ab0228-4fda-4913-9038-e821691ba259",
   "metadata": {},
   "outputs": [
    {
     "name": "stdout",
     "output_type": "stream",
     "text": [
      "51 51\n"
     ]
    }
   ],
   "source": [
    "# Find common dates\n",
    "common_dates = df1_HAIN.index.intersection(df1_SP1500.index)\n",
    "\n",
    "# Filter dataframes to common dates\n",
    "df1_HAIN = df1_HAIN.loc[common_dates]\n",
    "df1_SP1500 = df1_SP1500.loc[common_dates]\n",
    "\n",
    "# Print the lengths\n",
    "print(len(df1_HAIN), len(df1_SP1500))"
   ]
  },
  {
   "cell_type": "code",
   "execution_count": 131,
   "id": "f2401910-94f8-4ac5-afa5-dc45eab6e71f",
   "metadata": {},
   "outputs": [
    {
     "name": "stdout",
     "output_type": "stream",
     "text": [
      "50 50\n"
     ]
    }
   ],
   "source": [
    "r1_HAIN = df1_HAIN.pct_change().dropna()*100\n",
    "r1_SP1500 = df1_SP1500.pct_change().dropna()*100\n",
    "print(len(r1_HAIN), len(r1_SP1500 ))"
   ]
  },
  {
   "cell_type": "code",
   "execution_count": 132,
   "id": "eb2b72b7",
   "metadata": {},
   "outputs": [
    {
     "data": {
      "text/plain": [
       "Date\n",
       "2018-10-26   -2.067289\n",
       "2018-10-29    3.311255\n",
       "2018-10-30    1.121798\n",
       "2018-10-31   -1.426310\n",
       "2018-11-01    2.773314\n",
       "Name: Adj Close, dtype: float64"
      ]
     },
     "execution_count": 132,
     "metadata": {},
     "output_type": "execute_result"
    }
   ],
   "source": [
    "r1_HAIN.tail()"
   ]
  },
  {
   "cell_type": "markdown",
   "id": "2b9949a7-6c23-4e84-9af3-d53c340af4ef",
   "metadata": {},
   "source": [
    "#### Beta"
   ]
  },
  {
   "cell_type": "code",
   "execution_count": 133,
   "id": "b0f98cf5-b66e-405c-95bd-c9b38b3cbb2a",
   "metadata": {},
   "outputs": [
    {
     "data": {
      "text/plain": [
       "np.float64(0.3343870410272843)"
      ]
     },
     "execution_count": 133,
     "metadata": {},
     "output_type": "execute_result"
    }
   ],
   "source": [
    "cov1_HAIN   = np.cov(r1_HAIN, r1_SP1500)[0,1]\n",
    "var1_mkt  = np.var(r1_SP1500)\n",
    "beta1_HAIN  = cov1_HAIN/var1_mkt\n",
    "beta1_HAIN"
   ]
  },
  {
   "cell_type": "markdown",
   "id": "beadbf12-f2df-429d-8217-d1d51525af33",
   "metadata": {},
   "source": [
    "#### Abnormal Return"
   ]
  },
  {
   "cell_type": "code",
   "execution_count": 134,
   "id": "dc5198cc",
   "metadata": {},
   "outputs": [
    {
     "data": {
      "text/plain": [
       "np.float64(-0.21427399816090265)"
      ]
     },
     "execution_count": 134,
     "metadata": {},
     "output_type": "execute_result"
    }
   ],
   "source": [
    "abr1_HAIN = r1_HAIN -  beta1_HAIN * r1_SP1500\n",
    "abr1_HAIN.mean()"
   ]
  },
  {
   "cell_type": "markdown",
   "id": "2c085577-8167-45b7-9ad8-c1e901fa237a",
   "metadata": {},
   "source": [
    "### Post-Event"
   ]
  },
  {
   "cell_type": "code",
   "execution_count": 135,
   "id": "75e54caa",
   "metadata": {},
   "outputs": [
    {
     "name": "stdout",
     "output_type": "stream",
     "text": [
      "54 50\n"
     ]
    }
   ],
   "source": [
    "w2_start = date_HAIN+timedelta(1)\n",
    "w2_end = date_HAIN+timedelta(84)\n",
    "df2_HAIN = yf.download('HAIN', start=w2_start, end=w2_end, progress=False)['Adj Close']\n",
    "df2_SP1500 = yf.download('^SP1500', start=w2_start, end=w2_end, progress=False)['Adj Close']\n",
    "print(len(df2_HAIN), len(df2_SP1500 ))"
   ]
  },
  {
   "cell_type": "code",
   "execution_count": 136,
   "id": "2f65dc66-7fcb-4947-8bff-567e693833df",
   "metadata": {},
   "outputs": [
    {
     "name": "stdout",
     "output_type": "stream",
     "text": [
      "DataFrames are aligned and ready for further operations.\n"
     ]
    }
   ],
   "source": [
    "# Align the dataframes by their indices\n",
    "r2_HAIN = df2_HAIN[df2_HAIN.index.isin(df2_SP1500.index)]\n",
    "r2_SP1500 = df2_SP1500[df2_SP1500.index.isin(df2_HAIN.index)]\n",
    "\n",
    "# Calculate percentage change\n",
    "r2_HAIN = r2_HAIN.pct_change().dropna() * 100\n",
    "r2_SP1500 = r2_SP1500.pct_change().dropna() * 100\n",
    "\n",
    "# Ensure the lengths match before any further operations\n",
    "if len(r2_HAIN) == len(r2_SP1500):\n",
    "    print(\"DataFrames are aligned and ready for further operations.\")\n",
    "else:\n",
    "    print(\"Mismatch in DataFrame lengths:\", len(r2_HAIN), len(r2_SP1500))"
   ]
  },
  {
   "cell_type": "code",
   "execution_count": 137,
   "id": "b8583df3-7999-4fc2-8e64-153bad90175b",
   "metadata": {},
   "outputs": [
    {
     "data": {
      "text/plain": [
       "Date\n",
       "2018-11-07     0.000000\n",
       "2018-11-08   -13.853804\n",
       "2018-11-09    -1.199469\n",
       "2018-11-13    -0.719424\n",
       "2018-11-14     1.177537\n",
       "Name: Adj Close, dtype: float64"
      ]
     },
     "execution_count": 137,
     "metadata": {},
     "output_type": "execute_result"
    }
   ],
   "source": [
    "r2_HAIN.head()"
   ]
  },
  {
   "cell_type": "markdown",
   "id": "73022f15-b594-40d1-9986-440129e1de8c",
   "metadata": {
    "jp-MarkdownHeadingCollapsed": true
   },
   "source": [
    "#### Beta"
   ]
  },
  {
   "cell_type": "code",
   "execution_count": 138,
   "id": "69a664e3",
   "metadata": {},
   "outputs": [
    {
     "data": {
      "text/plain": [
       "np.float64(0.8496636958522443)"
      ]
     },
     "execution_count": 138,
     "metadata": {},
     "output_type": "execute_result"
    }
   ],
   "source": [
    "cov2_HAIN  = np.cov(r2_HAIN, r2_SP1500)[0,1]\n",
    "var2_mkt  = np.var(r2_SP1500)\n",
    "beta2_HAIN  = cov2_HAIN/var2_mkt\n",
    "beta2_HAIN"
   ]
  },
  {
   "cell_type": "markdown",
   "id": "3641cf34-e20f-4eaa-be0b-98bac48e0d9b",
   "metadata": {},
   "source": [
    "#### Abnormal Return"
   ]
  },
  {
   "cell_type": "code",
   "execution_count": 139,
   "id": "ae517da0",
   "metadata": {},
   "outputs": [
    {
     "data": {
      "text/plain": [
       "np.float64(-0.6627535902956797)"
      ]
     },
     "execution_count": 139,
     "metadata": {},
     "output_type": "execute_result"
    }
   ],
   "source": [
    "abr2_HAIN = r2_HAIN -  beta2_HAIN * r2_SP1500\n",
    "abr2_HAIN.mean()"
   ]
  },
  {
   "cell_type": "markdown",
   "id": "7422b895-e748-4085-a44e-8d7244c13153",
   "metadata": {},
   "source": [
    "### Abnormal Returns Change"
   ]
  },
  {
   "cell_type": "code",
   "execution_count": 140,
   "id": "eca0f93d",
   "metadata": {},
   "outputs": [
    {
     "name": "stdout",
     "output_type": "stream",
     "text": [
      "Abnormal returns change from -0.21 to -0.66.\n"
     ]
    }
   ],
   "source": [
    "print(f'Abnormal returns change from {abr1_HAIN.mean():.2f} to {abr2_HAIN.mean():.2f}.')"
   ]
  },
  {
   "cell_type": "code",
   "execution_count": null,
   "id": "09a69189",
   "metadata": {},
   "outputs": [],
   "source": []
  },
  {
   "cell_type": "markdown",
   "id": "c764da6c-8fbe-4271-808a-37e58f9d27f3",
   "metadata": {
    "jp-MarkdownHeadingCollapsed": true
   },
   "source": [
    "### Libraries and Data"
   ]
  },
  {
   "cell_type": "code",
   "execution_count": 175,
   "id": "2c2cb9f8",
   "metadata": {},
   "outputs": [],
   "source": [
    "#!pip install matplotlib\n",
    "import matplotlib.pyplot as plt\n",
    "plt.rcParams['figure.dpi']=300      "
   ]
  },
  {
   "cell_type": "code",
   "execution_count": 176,
   "id": "81599bfb",
   "metadata": {},
   "outputs": [],
   "source": [
    "import pandas as pd\n",
    "import yfinance as yf"
   ]
  },
  {
   "cell_type": "code",
   "execution_count": 177,
   "id": "34447f64",
   "metadata": {},
   "outputs": [],
   "source": [
    "df = yf.download([\"CCRN\"],\n",
    "                 start=\"2019-01-01\",\n",
    "                 end=\"2019-12-31\",\n",
    "                progress=False)"
   ]
  },
  {
   "cell_type": "code",
   "execution_count": 178,
   "id": "f5624c78",
   "metadata": {},
   "outputs": [
    {
     "data": {
      "text/html": [
       "<div>\n",
       "<style scoped>\n",
       "    .dataframe tbody tr th:only-of-type {\n",
       "        vertical-align: middle;\n",
       "    }\n",
       "\n",
       "    .dataframe tbody tr th {\n",
       "        vertical-align: top;\n",
       "    }\n",
       "\n",
       "    .dataframe thead th {\n",
       "        text-align: right;\n",
       "    }\n",
       "</style>\n",
       "<table border=\"1\" class=\"dataframe\">\n",
       "  <thead>\n",
       "    <tr style=\"text-align: right;\">\n",
       "      <th></th>\n",
       "      <th>Open</th>\n",
       "      <th>High</th>\n",
       "      <th>Low</th>\n",
       "      <th>Close</th>\n",
       "      <th>Adj Close</th>\n",
       "      <th>Volume</th>\n",
       "    </tr>\n",
       "    <tr>\n",
       "      <th>Date</th>\n",
       "      <th></th>\n",
       "      <th></th>\n",
       "      <th></th>\n",
       "      <th></th>\n",
       "      <th></th>\n",
       "      <th></th>\n",
       "    </tr>\n",
       "  </thead>\n",
       "  <tbody>\n",
       "    <tr>\n",
       "      <th>2019-01-02</th>\n",
       "      <td>7.24</td>\n",
       "      <td>7.59</td>\n",
       "      <td>7.19</td>\n",
       "      <td>7.50</td>\n",
       "      <td>7.50</td>\n",
       "      <td>665900</td>\n",
       "    </tr>\n",
       "    <tr>\n",
       "      <th>2019-01-03</th>\n",
       "      <td>7.48</td>\n",
       "      <td>7.64</td>\n",
       "      <td>7.20</td>\n",
       "      <td>7.47</td>\n",
       "      <td>7.47</td>\n",
       "      <td>296900</td>\n",
       "    </tr>\n",
       "    <tr>\n",
       "      <th>2019-01-04</th>\n",
       "      <td>7.53</td>\n",
       "      <td>7.88</td>\n",
       "      <td>7.42</td>\n",
       "      <td>7.87</td>\n",
       "      <td>7.87</td>\n",
       "      <td>252100</td>\n",
       "    </tr>\n",
       "    <tr>\n",
       "      <th>2019-01-07</th>\n",
       "      <td>7.87</td>\n",
       "      <td>7.99</td>\n",
       "      <td>7.75</td>\n",
       "      <td>7.99</td>\n",
       "      <td>7.99</td>\n",
       "      <td>200200</td>\n",
       "    </tr>\n",
       "    <tr>\n",
       "      <th>2019-01-08</th>\n",
       "      <td>8.04</td>\n",
       "      <td>8.25</td>\n",
       "      <td>7.96</td>\n",
       "      <td>8.25</td>\n",
       "      <td>8.25</td>\n",
       "      <td>173600</td>\n",
       "    </tr>\n",
       "    <tr>\n",
       "      <th>...</th>\n",
       "      <td>...</td>\n",
       "      <td>...</td>\n",
       "      <td>...</td>\n",
       "      <td>...</td>\n",
       "      <td>...</td>\n",
       "      <td>...</td>\n",
       "    </tr>\n",
       "    <tr>\n",
       "      <th>2019-12-23</th>\n",
       "      <td>11.46</td>\n",
       "      <td>11.69</td>\n",
       "      <td>11.09</td>\n",
       "      <td>11.64</td>\n",
       "      <td>11.64</td>\n",
       "      <td>218700</td>\n",
       "    </tr>\n",
       "    <tr>\n",
       "      <th>2019-12-24</th>\n",
       "      <td>11.62</td>\n",
       "      <td>11.66</td>\n",
       "      <td>11.39</td>\n",
       "      <td>11.62</td>\n",
       "      <td>11.62</td>\n",
       "      <td>63900</td>\n",
       "    </tr>\n",
       "    <tr>\n",
       "      <th>2019-12-26</th>\n",
       "      <td>11.61</td>\n",
       "      <td>11.71</td>\n",
       "      <td>11.51</td>\n",
       "      <td>11.66</td>\n",
       "      <td>11.66</td>\n",
       "      <td>85500</td>\n",
       "    </tr>\n",
       "    <tr>\n",
       "      <th>2019-12-27</th>\n",
       "      <td>11.69</td>\n",
       "      <td>11.69</td>\n",
       "      <td>11.41</td>\n",
       "      <td>11.55</td>\n",
       "      <td>11.55</td>\n",
       "      <td>94100</td>\n",
       "    </tr>\n",
       "    <tr>\n",
       "      <th>2019-12-30</th>\n",
       "      <td>11.54</td>\n",
       "      <td>11.61</td>\n",
       "      <td>11.42</td>\n",
       "      <td>11.51</td>\n",
       "      <td>11.51</td>\n",
       "      <td>103400</td>\n",
       "    </tr>\n",
       "  </tbody>\n",
       "</table>\n",
       "<p>251 rows × 6 columns</p>\n",
       "</div>"
      ],
      "text/plain": [
       "             Open   High    Low  Close  Adj Close  Volume\n",
       "Date                                                     \n",
       "2019-01-02   7.24   7.59   7.19   7.50       7.50  665900\n",
       "2019-01-03   7.48   7.64   7.20   7.47       7.47  296900\n",
       "2019-01-04   7.53   7.88   7.42   7.87       7.87  252100\n",
       "2019-01-07   7.87   7.99   7.75   7.99       7.99  200200\n",
       "2019-01-08   8.04   8.25   7.96   8.25       8.25  173600\n",
       "...           ...    ...    ...    ...        ...     ...\n",
       "2019-12-23  11.46  11.69  11.09  11.64      11.64  218700\n",
       "2019-12-24  11.62  11.66  11.39  11.62      11.62   63900\n",
       "2019-12-26  11.61  11.71  11.51  11.66      11.66   85500\n",
       "2019-12-27  11.69  11.69  11.41  11.55      11.55   94100\n",
       "2019-12-30  11.54  11.61  11.42  11.51      11.51  103400\n",
       "\n",
       "[251 rows x 6 columns]"
      ]
     },
     "execution_count": 178,
     "metadata": {},
     "output_type": "execute_result"
    }
   ],
   "source": [
    "df"
   ]
  },
  {
   "cell_type": "code",
   "execution_count": 179,
   "id": "01c26282",
   "metadata": {},
   "outputs": [
    {
     "data": {
      "text/plain": [
       "Date\n",
       "2019-01-02     7.50\n",
       "2019-01-03     7.47\n",
       "2019-01-04     7.87\n",
       "2019-01-07     7.99\n",
       "2019-01-08     8.25\n",
       "              ...  \n",
       "2019-12-23    11.64\n",
       "2019-12-24    11.62\n",
       "2019-12-26    11.66\n",
       "2019-12-27    11.55\n",
       "2019-12-30    11.51\n",
       "Name: Close, Length: 251, dtype: float64"
      ]
     },
     "execution_count": 179,
     "metadata": {},
     "output_type": "execute_result"
    }
   ],
   "source": [
    "df.Close"
   ]
  },
  {
   "cell_type": "code",
   "execution_count": 180,
   "id": "f4de3894",
   "metadata": {},
   "outputs": [],
   "source": [
    "df.to_csv('CEO CCRN.csv') "
   ]
  },
  {
   "cell_type": "code",
   "execution_count": 181,
   "id": "cdf767ba",
   "metadata": {},
   "outputs": [
    {
     "data": {
      "text/html": [
       "<div>\n",
       "<style scoped>\n",
       "    .dataframe tbody tr th:only-of-type {\n",
       "        vertical-align: middle;\n",
       "    }\n",
       "\n",
       "    .dataframe tbody tr th {\n",
       "        vertical-align: top;\n",
       "    }\n",
       "\n",
       "    .dataframe thead th {\n",
       "        text-align: right;\n",
       "    }\n",
       "</style>\n",
       "<table border=\"1\" class=\"dataframe\">\n",
       "  <thead>\n",
       "    <tr style=\"text-align: right;\">\n",
       "      <th></th>\n",
       "      <th>Date</th>\n",
       "      <th>Open</th>\n",
       "      <th>High</th>\n",
       "      <th>Low</th>\n",
       "      <th>Close</th>\n",
       "      <th>Adj Close</th>\n",
       "      <th>Volume</th>\n",
       "    </tr>\n",
       "  </thead>\n",
       "  <tbody>\n",
       "    <tr>\n",
       "      <th>0</th>\n",
       "      <td>2019-01-02</td>\n",
       "      <td>7.24</td>\n",
       "      <td>7.59</td>\n",
       "      <td>7.19</td>\n",
       "      <td>7.50</td>\n",
       "      <td>7.50</td>\n",
       "      <td>665900</td>\n",
       "    </tr>\n",
       "    <tr>\n",
       "      <th>1</th>\n",
       "      <td>2019-01-03</td>\n",
       "      <td>7.48</td>\n",
       "      <td>7.64</td>\n",
       "      <td>7.20</td>\n",
       "      <td>7.47</td>\n",
       "      <td>7.47</td>\n",
       "      <td>296900</td>\n",
       "    </tr>\n",
       "    <tr>\n",
       "      <th>2</th>\n",
       "      <td>2019-01-04</td>\n",
       "      <td>7.53</td>\n",
       "      <td>7.88</td>\n",
       "      <td>7.42</td>\n",
       "      <td>7.87</td>\n",
       "      <td>7.87</td>\n",
       "      <td>252100</td>\n",
       "    </tr>\n",
       "    <tr>\n",
       "      <th>3</th>\n",
       "      <td>2019-01-07</td>\n",
       "      <td>7.87</td>\n",
       "      <td>7.99</td>\n",
       "      <td>7.75</td>\n",
       "      <td>7.99</td>\n",
       "      <td>7.99</td>\n",
       "      <td>200200</td>\n",
       "    </tr>\n",
       "    <tr>\n",
       "      <th>4</th>\n",
       "      <td>2019-01-08</td>\n",
       "      <td>8.04</td>\n",
       "      <td>8.25</td>\n",
       "      <td>7.96</td>\n",
       "      <td>8.25</td>\n",
       "      <td>8.25</td>\n",
       "      <td>173600</td>\n",
       "    </tr>\n",
       "    <tr>\n",
       "      <th>...</th>\n",
       "      <td>...</td>\n",
       "      <td>...</td>\n",
       "      <td>...</td>\n",
       "      <td>...</td>\n",
       "      <td>...</td>\n",
       "      <td>...</td>\n",
       "      <td>...</td>\n",
       "    </tr>\n",
       "    <tr>\n",
       "      <th>246</th>\n",
       "      <td>2019-12-23</td>\n",
       "      <td>11.46</td>\n",
       "      <td>11.69</td>\n",
       "      <td>11.09</td>\n",
       "      <td>11.64</td>\n",
       "      <td>11.64</td>\n",
       "      <td>218700</td>\n",
       "    </tr>\n",
       "    <tr>\n",
       "      <th>247</th>\n",
       "      <td>2019-12-24</td>\n",
       "      <td>11.62</td>\n",
       "      <td>11.66</td>\n",
       "      <td>11.39</td>\n",
       "      <td>11.62</td>\n",
       "      <td>11.62</td>\n",
       "      <td>63900</td>\n",
       "    </tr>\n",
       "    <tr>\n",
       "      <th>248</th>\n",
       "      <td>2019-12-26</td>\n",
       "      <td>11.61</td>\n",
       "      <td>11.71</td>\n",
       "      <td>11.51</td>\n",
       "      <td>11.66</td>\n",
       "      <td>11.66</td>\n",
       "      <td>85500</td>\n",
       "    </tr>\n",
       "    <tr>\n",
       "      <th>249</th>\n",
       "      <td>2019-12-27</td>\n",
       "      <td>11.69</td>\n",
       "      <td>11.69</td>\n",
       "      <td>11.41</td>\n",
       "      <td>11.55</td>\n",
       "      <td>11.55</td>\n",
       "      <td>94100</td>\n",
       "    </tr>\n",
       "    <tr>\n",
       "      <th>250</th>\n",
       "      <td>2019-12-30</td>\n",
       "      <td>11.54</td>\n",
       "      <td>11.61</td>\n",
       "      <td>11.42</td>\n",
       "      <td>11.51</td>\n",
       "      <td>11.51</td>\n",
       "      <td>103400</td>\n",
       "    </tr>\n",
       "  </tbody>\n",
       "</table>\n",
       "<p>251 rows × 7 columns</p>\n",
       "</div>"
      ],
      "text/plain": [
       "           Date   Open   High    Low  Close  Adj Close  Volume\n",
       "0    2019-01-02   7.24   7.59   7.19   7.50       7.50  665900\n",
       "1    2019-01-03   7.48   7.64   7.20   7.47       7.47  296900\n",
       "2    2019-01-04   7.53   7.88   7.42   7.87       7.87  252100\n",
       "3    2019-01-07   7.87   7.99   7.75   7.99       7.99  200200\n",
       "4    2019-01-08   8.04   8.25   7.96   8.25       8.25  173600\n",
       "..          ...    ...    ...    ...    ...        ...     ...\n",
       "246  2019-12-23  11.46  11.69  11.09  11.64      11.64  218700\n",
       "247  2019-12-24  11.62  11.66  11.39  11.62      11.62   63900\n",
       "248  2019-12-26  11.61  11.71  11.51  11.66      11.66   85500\n",
       "249  2019-12-27  11.69  11.69  11.41  11.55      11.55   94100\n",
       "250  2019-12-30  11.54  11.61  11.42  11.51      11.51  103400\n",
       "\n",
       "[251 rows x 7 columns]"
      ]
     },
     "execution_count": 181,
     "metadata": {},
     "output_type": "execute_result"
    }
   ],
   "source": [
    "pd.read_csv('CEO CCRN.csv')"
   ]
  },
  {
   "cell_type": "code",
   "execution_count": 182,
   "id": "dffc117b",
   "metadata": {},
   "outputs": [],
   "source": [
    "import pandas as pd\n",
    "import numpy as np\n",
    "from datetime import date, datetime, timedelta\n",
    "import statsmodels.api as sm\n",
    "import yfinance as yf\n",
    "import pandas_datareader as pdr"
   ]
  },
  {
   "cell_type": "code",
   "execution_count": 183,
   "id": "8becce68",
   "metadata": {},
   "outputs": [],
   "source": [
    "file = \"CEO CCRN.csv\" # Can paste the full path here in front of the file name\n",
    "x1 = pd.read_csv(file)"
   ]
  },
  {
   "cell_type": "markdown",
   "id": "e3039812-410a-4c56-a2fe-45f4b77e3232",
   "metadata": {},
   "source": [
    "### Pre-Event"
   ]
  },
  {
   "cell_type": "code",
   "execution_count": 184,
   "id": "097d4575",
   "metadata": {},
   "outputs": [
    {
     "data": {
      "text/plain": [
       "datetime.datetime(2019, 1, 16, 0, 0)"
      ]
     },
     "execution_count": 184,
     "metadata": {},
     "output_type": "execute_result"
    }
   ],
   "source": [
    "date_CCRN = datetime(2019,1,16)   # Find it in the spreadsheet\n",
    "date_CCRN"
   ]
  },
  {
   "cell_type": "code",
   "execution_count": 185,
   "id": "19e11c8b",
   "metadata": {},
   "outputs": [
    {
     "name": "stdout",
     "output_type": "stream",
     "text": [
      "54 51\n"
     ]
    }
   ],
   "source": [
    "w1_start   = date_CCRN - timedelta(83)\n",
    "w1_end     = date_CCRN - timedelta(1)\n",
    "df1_CCRN    = yf.download('CCRN', start=w1_start, end=w1_end, progress=False)['Adj Close']\n",
    "df1_SP1500 = yf.download('^SP1500', start=w1_start, end=w1_end, progress=False)['Adj Close']\n",
    "\n",
    "\n",
    "print(len(df1_CCRN), len(df1_SP1500 ))                       # CCRN is the code of Meta；SP1500 is the Market Index; Adj Close is adjusted price"
   ]
  },
  {
   "cell_type": "code",
   "execution_count": 186,
   "id": "28fc99cb-0d3e-418d-ab5f-321185d08611",
   "metadata": {},
   "outputs": [
    {
     "name": "stdout",
     "output_type": "stream",
     "text": [
      "50 50\n",
      "1.320547872481863\n"
     ]
    }
   ],
   "source": [
    "# Calculate the percentage changes\n",
    "r1_CCRN = df1_CCRN.pct_change().dropna() * 100\n",
    "r1_SP1500 = df1_SP1500.pct_change().dropna() * 100\n",
    "\n",
    "# Align the indices\n",
    "aligned_data = pd.concat([r1_CCRN, r1_SP1500], axis=1).dropna()\n",
    "r1_CCRN_aligned = aligned_data.iloc[:, 0]\n",
    "r1_SP1500_aligned = aligned_data.iloc[:, 1]\n",
    "\n",
    "# Check the lengths of the aligned series\n",
    "print(len(r1_CCRN_aligned), len(r1_SP1500_aligned))\n",
    "\n",
    "# Calculate the covariance and variance\n",
    "cov1_CCRN = np.cov(r1_CCRN_aligned, r1_SP1500_aligned)[0, 1]\n",
    "var1_mkt = np.var(r1_SP1500_aligned)\n",
    "\n",
    "# Calculate the beta\n",
    "beta1_CCRN = cov1_CCRN / var1_mkt\n",
    "print(beta1_CCRN)"
   ]
  },
  {
   "cell_type": "code",
   "execution_count": 187,
   "id": "6ba68fa6",
   "metadata": {},
   "outputs": [
    {
     "data": {
      "text/plain": [
       "Date\n",
       "2019-01-08    3.254071\n",
       "2019-01-09    1.575759\n",
       "2019-01-10    1.670648\n",
       "2019-01-11    2.934272\n",
       "2019-01-14    0.342072\n",
       "Name: Adj Close, dtype: float64"
      ]
     },
     "execution_count": 187,
     "metadata": {},
     "output_type": "execute_result"
    }
   ],
   "source": [
    "r1_CCRN.tail()"
   ]
  },
  {
   "cell_type": "code",
   "execution_count": 188,
   "id": "6af22960",
   "metadata": {},
   "outputs": [
    {
     "data": {
      "text/plain": [
       "np.float64(0.26176398458711686)"
      ]
     },
     "execution_count": 188,
     "metadata": {},
     "output_type": "execute_result"
    }
   ],
   "source": [
    "abr1_CCRN = r1_CCRN -  beta1_CCRN * r1_SP1500\n",
    "abr1_CCRN.mean()"
   ]
  },
  {
   "cell_type": "markdown",
   "id": "59223fe0-b750-45d2-9d8d-83e44266670c",
   "metadata": {},
   "source": [
    "### Post-Event"
   ]
  },
  {
   "cell_type": "code",
   "execution_count": 189,
   "id": "5f0fb911",
   "metadata": {},
   "outputs": [],
   "source": [
    "w2_start = date_CCRN+timedelta(1)\n",
    "w2_end = date_CCRN+timedelta(83)\n"
   ]
  },
  {
   "cell_type": "code",
   "execution_count": 190,
   "id": "2874a7db-4397-484c-85f7-ae92e4ef46a3",
   "metadata": {},
   "outputs": [
    {
     "name": "stdout",
     "output_type": "stream",
     "text": [
      "50 50\n",
      "1.1236320895982606\n"
     ]
    }
   ],
   "source": [
    "# Download the data\n",
    "df2_CCRN = yf.download('CCRN', start=w2_start, end=w2_end, progress=False)['Adj Close']\n",
    "df2_SP1500 = yf.download('^SP1500', start=w2_start, end=w2_end, progress=False)['Adj Close']\n",
    "\n",
    "# Calculate the percentage changes\n",
    "r2_CCRN = df2_CCRN.pct_change().dropna() * 100\n",
    "r2_SP1500 = df2_SP1500.pct_change().dropna() * 100\n",
    "\n",
    "# Align the indices\n",
    "aligned_data = pd.concat([r2_CCRN, r2_SP1500], axis=1).dropna()\n",
    "r2_CCRN_aligned = aligned_data.iloc[:, 0]\n",
    "r2_SP1500_aligned = aligned_data.iloc[:, 1]\n",
    "\n",
    "# Check the lengths of the aligned series\n",
    "print(len(r2_CCRN_aligned), len(r2_SP1500_aligned))\n",
    "\n",
    "# Calculate the covariance and variance\n",
    "cov2_CCRN = np.cov(r2_CCRN_aligned, r2_SP1500_aligned)[0, 1]\n",
    "var2_mkt = np.var(r2_SP1500_aligned)\n",
    "\n",
    "# Calculate the beta\n",
    "beta2_CCRN = cov2_CCRN / var2_mkt\n",
    "print(beta2_CCRN)"
   ]
  },
  {
   "cell_type": "markdown",
   "id": "b36fa60d-cc3a-4f7b-b3ec-eaac1de09a3a",
   "metadata": {},
   "source": [
    "#### Abnormal Returns"
   ]
  },
  {
   "cell_type": "code",
   "execution_count": 191,
   "id": "3e0c5b0e",
   "metadata": {},
   "outputs": [
    {
     "data": {
      "text/plain": [
       "np.float64(-0.6765667017151066)"
      ]
     },
     "execution_count": 191,
     "metadata": {},
     "output_type": "execute_result"
    }
   ],
   "source": [
    "abr2_CCRN = r2_CCRN -  beta2_CCRN * r2_SP1500\n",
    "abr2_CCRN.mean()"
   ]
  },
  {
   "cell_type": "markdown",
   "id": "f8c55637-d28f-41f8-a8c5-748e6509c363",
   "metadata": {},
   "source": [
    "### Abnormal Returns Change"
   ]
  },
  {
   "cell_type": "code",
   "execution_count": 192,
   "id": "d4a4c70a",
   "metadata": {},
   "outputs": [
    {
     "name": "stdout",
     "output_type": "stream",
     "text": [
      "Abnormal returns change from 0.26 to -0.68.\n"
     ]
    }
   ],
   "source": [
    "print(f'Abnormal returns change from {abr1_CCRN.mean():.2f} to {abr2_CCRN.mean():.2f}.')"
   ]
  },
  {
   "cell_type": "code",
   "execution_count": null,
   "id": "d664908a-f538-41c8-a7b4-65cd28491772",
   "metadata": {},
   "outputs": [],
   "source": []
  },
  {
   "cell_type": "markdown",
   "id": "e0161e92-4579-46ed-8eac-e388cea8af0d",
   "metadata": {},
   "source": [
    "### Libraries and Data"
   ]
  },
  {
   "cell_type": "code",
   "execution_count": 28,
   "id": "1e26b159-47e6-4233-bb2e-a5a6126afc1b",
   "metadata": {},
   "outputs": [
    {
     "name": "stdout",
     "output_type": "stream",
     "text": [
      "Requirement already satisfied: matplotlib in c:\\users\\v3_ag\\appdata\\local\\programs\\python\\python312\\lib\\site-packages (3.9.2)\n",
      "Requirement already satisfied: contourpy>=1.0.1 in c:\\users\\v3_ag\\appdata\\local\\programs\\python\\python312\\lib\\site-packages (from matplotlib) (1.3.0)\n",
      "Requirement already satisfied: cycler>=0.10 in c:\\users\\v3_ag\\appdata\\local\\programs\\python\\python312\\lib\\site-packages (from matplotlib) (0.12.1)\n",
      "Requirement already satisfied: fonttools>=4.22.0 in c:\\users\\v3_ag\\appdata\\local\\programs\\python\\python312\\lib\\site-packages (from matplotlib) (4.53.1)\n",
      "Requirement already satisfied: kiwisolver>=1.3.1 in c:\\users\\v3_ag\\appdata\\local\\programs\\python\\python312\\lib\\site-packages (from matplotlib) (1.4.7)\n",
      "Requirement already satisfied: numpy>=1.23 in c:\\users\\v3_ag\\appdata\\local\\programs\\python\\python312\\lib\\site-packages (from matplotlib) (2.1.1)\n",
      "Requirement already satisfied: packaging>=20.0 in c:\\users\\v3_ag\\appdata\\local\\programs\\python\\python312\\lib\\site-packages (from matplotlib) (24.1)\n",
      "Requirement already satisfied: pillow>=8 in c:\\users\\v3_ag\\appdata\\local\\programs\\python\\python312\\lib\\site-packages (from matplotlib) (10.4.0)\n",
      "Requirement already satisfied: pyparsing>=2.3.1 in c:\\users\\v3_ag\\appdata\\local\\programs\\python\\python312\\lib\\site-packages (from matplotlib) (3.1.4)\n",
      "Requirement already satisfied: python-dateutil>=2.7 in c:\\users\\v3_ag\\appdata\\local\\programs\\python\\python312\\lib\\site-packages (from matplotlib) (2.9.0.post0)\n",
      "Requirement already satisfied: six>=1.5 in c:\\users\\v3_ag\\appdata\\local\\programs\\python\\python312\\lib\\site-packages (from python-dateutil>=2.7->matplotlib) (1.16.0)\n"
     ]
    }
   ],
   "source": [
    "!pip install matplotlib\n",
    "import matplotlib.pyplot as plt\n",
    "plt.rcParams['figure.dpi']=300      "
   ]
  },
  {
   "cell_type": "code",
   "execution_count": 29,
   "id": "ee25a111-a3eb-4298-8c6b-9348d53efc73",
   "metadata": {},
   "outputs": [],
   "source": [
    "import pandas as pd\n",
    "import yfinance as yf"
   ]
  },
  {
   "cell_type": "code",
   "execution_count": 30,
   "id": "4ca4311b-f592-4eb7-ad75-d356849598db",
   "metadata": {},
   "outputs": [],
   "source": [
    "df = yf.download([\"ASGN\", \"CASH\", \"WFC\", \"CCRN\", \"MCD\", \"CASH\", \"KELYA\",\"ATI\",\"BK\", \"HAIN\"],\n",
    "                 start=\"2018-01-01\",\n",
    "                 end=\"2019-12-31\",\n",
    "                progress=False)\n",
    "\n"
   ]
  },
  {
   "cell_type": "code",
   "execution_count": 31,
   "id": "40c11e2c-ee96-4f07-983d-5125d51eef97",
   "metadata": {},
   "outputs": [
    {
     "data": {
      "text/html": [
       "<div>\n",
       "<style scoped>\n",
       "    .dataframe tbody tr th:only-of-type {\n",
       "        vertical-align: middle;\n",
       "    }\n",
       "\n",
       "    .dataframe tbody tr th {\n",
       "        vertical-align: top;\n",
       "    }\n",
       "\n",
       "    .dataframe thead tr th {\n",
       "        text-align: left;\n",
       "    }\n",
       "\n",
       "    .dataframe thead tr:last-of-type th {\n",
       "        text-align: right;\n",
       "    }\n",
       "</style>\n",
       "<table border=\"1\" class=\"dataframe\">\n",
       "  <thead>\n",
       "    <tr>\n",
       "      <th>Price</th>\n",
       "      <th colspan=\"9\" halign=\"left\">Adj Close</th>\n",
       "      <th>Close</th>\n",
       "      <th>...</th>\n",
       "      <th>Open</th>\n",
       "      <th colspan=\"9\" halign=\"left\">Volume</th>\n",
       "    </tr>\n",
       "    <tr>\n",
       "      <th>Ticker</th>\n",
       "      <th>ASGN</th>\n",
       "      <th>ATI</th>\n",
       "      <th>BK</th>\n",
       "      <th>CASH</th>\n",
       "      <th>CCRN</th>\n",
       "      <th>HAIN</th>\n",
       "      <th>KELYA</th>\n",
       "      <th>MCD</th>\n",
       "      <th>WFC</th>\n",
       "      <th>ASGN</th>\n",
       "      <th>...</th>\n",
       "      <th>WFC</th>\n",
       "      <th>ASGN</th>\n",
       "      <th>ATI</th>\n",
       "      <th>BK</th>\n",
       "      <th>CASH</th>\n",
       "      <th>CCRN</th>\n",
       "      <th>HAIN</th>\n",
       "      <th>KELYA</th>\n",
       "      <th>MCD</th>\n",
       "      <th>WFC</th>\n",
       "    </tr>\n",
       "    <tr>\n",
       "      <th>Date</th>\n",
       "      <th></th>\n",
       "      <th></th>\n",
       "      <th></th>\n",
       "      <th></th>\n",
       "      <th></th>\n",
       "      <th></th>\n",
       "      <th></th>\n",
       "      <th></th>\n",
       "      <th></th>\n",
       "      <th></th>\n",
       "      <th></th>\n",
       "      <th></th>\n",
       "      <th></th>\n",
       "      <th></th>\n",
       "      <th></th>\n",
       "      <th></th>\n",
       "      <th></th>\n",
       "      <th></th>\n",
       "      <th></th>\n",
       "      <th></th>\n",
       "      <th></th>\n",
       "    </tr>\n",
       "  </thead>\n",
       "  <tbody>\n",
       "    <tr>\n",
       "      <th>2018-01-02 00:00:00+00:00</th>\n",
       "      <td>63.360001</td>\n",
       "      <td>25.620001</td>\n",
       "      <td>44.382736</td>\n",
       "      <td>29.702700</td>\n",
       "      <td>12.92</td>\n",
       "      <td>41.950001</td>\n",
       "      <td>25.408672</td>\n",
       "      <td>147.811920</td>\n",
       "      <td>50.242729</td>\n",
       "      <td>63.360001</td>\n",
       "      <td>...</td>\n",
       "      <td>61.040001</td>\n",
       "      <td>338800</td>\n",
       "      <td>2551300</td>\n",
       "      <td>3633100</td>\n",
       "      <td>246900</td>\n",
       "      <td>194600</td>\n",
       "      <td>989000</td>\n",
       "      <td>158100</td>\n",
       "      <td>3696900</td>\n",
       "      <td>13819300</td>\n",
       "    </tr>\n",
       "    <tr>\n",
       "      <th>2018-01-03 00:00:00+00:00</th>\n",
       "      <td>63.110001</td>\n",
       "      <td>26.110001</td>\n",
       "      <td>44.654873</td>\n",
       "      <td>28.980202</td>\n",
       "      <td>12.39</td>\n",
       "      <td>40.919998</td>\n",
       "      <td>25.594273</td>\n",
       "      <td>147.188965</td>\n",
       "      <td>50.629269</td>\n",
       "      <td>63.110001</td>\n",
       "      <td>...</td>\n",
       "      <td>61.220001</td>\n",
       "      <td>175500</td>\n",
       "      <td>2195300</td>\n",
       "      <td>2409300</td>\n",
       "      <td>313500</td>\n",
       "      <td>273400</td>\n",
       "      <td>757900</td>\n",
       "      <td>140300</td>\n",
       "      <td>3789600</td>\n",
       "      <td>14203700</td>\n",
       "    </tr>\n",
       "    <tr>\n",
       "      <th>2018-01-04 00:00:00+00:00</th>\n",
       "      <td>64.190002</td>\n",
       "      <td>26.639999</td>\n",
       "      <td>45.100185</td>\n",
       "      <td>28.691208</td>\n",
       "      <td>12.46</td>\n",
       "      <td>40.599998</td>\n",
       "      <td>25.696352</td>\n",
       "      <td>148.221512</td>\n",
       "      <td>51.262550</td>\n",
       "      <td>64.190002</td>\n",
       "      <td>...</td>\n",
       "      <td>61.980000</td>\n",
       "      <td>167500</td>\n",
       "      <td>2419800</td>\n",
       "      <td>2886500</td>\n",
       "      <td>189900</td>\n",
       "      <td>222300</td>\n",
       "      <td>692600</td>\n",
       "      <td>121300</td>\n",
       "      <td>2756400</td>\n",
       "      <td>18740500</td>\n",
       "    </tr>\n",
       "    <tr>\n",
       "      <th>2018-01-05 00:00:00+00:00</th>\n",
       "      <td>65.250000</td>\n",
       "      <td>26.670000</td>\n",
       "      <td>45.215637</td>\n",
       "      <td>28.948095</td>\n",
       "      <td>12.56</td>\n",
       "      <td>40.509998</td>\n",
       "      <td>25.816992</td>\n",
       "      <td>148.520172</td>\n",
       "      <td>51.607967</td>\n",
       "      <td>65.250000</td>\n",
       "      <td>...</td>\n",
       "      <td>62.759998</td>\n",
       "      <td>289700</td>\n",
       "      <td>1316800</td>\n",
       "      <td>2514700</td>\n",
       "      <td>143400</td>\n",
       "      <td>299100</td>\n",
       "      <td>1556200</td>\n",
       "      <td>99300</td>\n",
       "      <td>3737700</td>\n",
       "      <td>14217900</td>\n",
       "    </tr>\n",
       "    <tr>\n",
       "      <th>2018-01-08 00:00:00+00:00</th>\n",
       "      <td>67.940002</td>\n",
       "      <td>27.260000</td>\n",
       "      <td>45.405300</td>\n",
       "      <td>29.333426</td>\n",
       "      <td>12.64</td>\n",
       "      <td>41.070000</td>\n",
       "      <td>25.965471</td>\n",
       "      <td>148.417816</td>\n",
       "      <td>51.024044</td>\n",
       "      <td>67.940002</td>\n",
       "      <td>...</td>\n",
       "      <td>62.660000</td>\n",
       "      <td>350000</td>\n",
       "      <td>3890800</td>\n",
       "      <td>3773100</td>\n",
       "      <td>176100</td>\n",
       "      <td>329400</td>\n",
       "      <td>891700</td>\n",
       "      <td>129200</td>\n",
       "      <td>2060800</td>\n",
       "      <td>15569400</td>\n",
       "    </tr>\n",
       "    <tr>\n",
       "      <th>...</th>\n",
       "      <td>...</td>\n",
       "      <td>...</td>\n",
       "      <td>...</td>\n",
       "      <td>...</td>\n",
       "      <td>...</td>\n",
       "      <td>...</td>\n",
       "      <td>...</td>\n",
       "      <td>...</td>\n",
       "      <td>...</td>\n",
       "      <td>...</td>\n",
       "      <td>...</td>\n",
       "      <td>...</td>\n",
       "      <td>...</td>\n",
       "      <td>...</td>\n",
       "      <td>...</td>\n",
       "      <td>...</td>\n",
       "      <td>...</td>\n",
       "      <td>...</td>\n",
       "      <td>...</td>\n",
       "      <td>...</td>\n",
       "      <td>...</td>\n",
       "    </tr>\n",
       "    <tr>\n",
       "      <th>2019-12-23 00:00:00+00:00</th>\n",
       "      <td>70.190002</td>\n",
       "      <td>21.139999</td>\n",
       "      <td>43.417084</td>\n",
       "      <td>34.293346</td>\n",
       "      <td>11.64</td>\n",
       "      <td>25.780001</td>\n",
       "      <td>21.671841</td>\n",
       "      <td>175.804062</td>\n",
       "      <td>47.377075</td>\n",
       "      <td>70.190002</td>\n",
       "      <td>...</td>\n",
       "      <td>53.340000</td>\n",
       "      <td>187600</td>\n",
       "      <td>1313000</td>\n",
       "      <td>2084400</td>\n",
       "      <td>143200</td>\n",
       "      <td>218700</td>\n",
       "      <td>696200</td>\n",
       "      <td>101300</td>\n",
       "      <td>2388900</td>\n",
       "      <td>17637700</td>\n",
       "    </tr>\n",
       "    <tr>\n",
       "      <th>2019-12-24 00:00:00+00:00</th>\n",
       "      <td>70.800003</td>\n",
       "      <td>21.000000</td>\n",
       "      <td>43.399853</td>\n",
       "      <td>34.371479</td>\n",
       "      <td>11.62</td>\n",
       "      <td>25.740000</td>\n",
       "      <td>21.614782</td>\n",
       "      <td>176.225220</td>\n",
       "      <td>47.385883</td>\n",
       "      <td>70.800003</td>\n",
       "      <td>...</td>\n",
       "      <td>53.950001</td>\n",
       "      <td>167800</td>\n",
       "      <td>405700</td>\n",
       "      <td>763700</td>\n",
       "      <td>47300</td>\n",
       "      <td>63900</td>\n",
       "      <td>212700</td>\n",
       "      <td>45700</td>\n",
       "      <td>1152500</td>\n",
       "      <td>4635500</td>\n",
       "    </tr>\n",
       "    <tr>\n",
       "      <th>2019-12-26 00:00:00+00:00</th>\n",
       "      <td>71.150002</td>\n",
       "      <td>20.830000</td>\n",
       "      <td>43.520531</td>\n",
       "      <td>34.732883</td>\n",
       "      <td>11.66</td>\n",
       "      <td>25.639999</td>\n",
       "      <td>21.186865</td>\n",
       "      <td>176.574661</td>\n",
       "      <td>47.676426</td>\n",
       "      <td>71.150002</td>\n",
       "      <td>...</td>\n",
       "      <td>54.049999</td>\n",
       "      <td>246000</td>\n",
       "      <td>423200</td>\n",
       "      <td>1211700</td>\n",
       "      <td>95500</td>\n",
       "      <td>85500</td>\n",
       "      <td>487200</td>\n",
       "      <td>60500</td>\n",
       "      <td>1809600</td>\n",
       "      <td>12517100</td>\n",
       "    </tr>\n",
       "    <tr>\n",
       "      <th>2019-12-27 00:00:00+00:00</th>\n",
       "      <td>71.150002</td>\n",
       "      <td>20.990000</td>\n",
       "      <td>43.373974</td>\n",
       "      <td>34.654739</td>\n",
       "      <td>11.55</td>\n",
       "      <td>25.580000</td>\n",
       "      <td>21.120296</td>\n",
       "      <td>177.569290</td>\n",
       "      <td>47.473923</td>\n",
       "      <td>71.150002</td>\n",
       "      <td>...</td>\n",
       "      <td>54.290001</td>\n",
       "      <td>255900</td>\n",
       "      <td>747100</td>\n",
       "      <td>1859200</td>\n",
       "      <td>129800</td>\n",
       "      <td>94100</td>\n",
       "      <td>587800</td>\n",
       "      <td>65400</td>\n",
       "      <td>2263900</td>\n",
       "      <td>9892000</td>\n",
       "    </tr>\n",
       "    <tr>\n",
       "      <th>2019-12-30 00:00:00+00:00</th>\n",
       "      <td>71.669998</td>\n",
       "      <td>20.520000</td>\n",
       "      <td>43.253311</td>\n",
       "      <td>34.879383</td>\n",
       "      <td>11.51</td>\n",
       "      <td>25.530001</td>\n",
       "      <td>21.205877</td>\n",
       "      <td>176.440262</td>\n",
       "      <td>47.192181</td>\n",
       "      <td>71.669998</td>\n",
       "      <td>...</td>\n",
       "      <td>54.169998</td>\n",
       "      <td>237500</td>\n",
       "      <td>865300</td>\n",
       "      <td>3458200</td>\n",
       "      <td>155400</td>\n",
       "      <td>103400</td>\n",
       "      <td>414700</td>\n",
       "      <td>110000</td>\n",
       "      <td>2242400</td>\n",
       "      <td>10900500</td>\n",
       "    </tr>\n",
       "  </tbody>\n",
       "</table>\n",
       "<p>502 rows × 54 columns</p>\n",
       "</div>"
      ],
      "text/plain": [
       "Price                      Adj Close                                          \\\n",
       "Ticker                          ASGN        ATI         BK       CASH   CCRN   \n",
       "Date                                                                           \n",
       "2018-01-02 00:00:00+00:00  63.360001  25.620001  44.382736  29.702700  12.92   \n",
       "2018-01-03 00:00:00+00:00  63.110001  26.110001  44.654873  28.980202  12.39   \n",
       "2018-01-04 00:00:00+00:00  64.190002  26.639999  45.100185  28.691208  12.46   \n",
       "2018-01-05 00:00:00+00:00  65.250000  26.670000  45.215637  28.948095  12.56   \n",
       "2018-01-08 00:00:00+00:00  67.940002  27.260000  45.405300  29.333426  12.64   \n",
       "...                              ...        ...        ...        ...    ...   \n",
       "2019-12-23 00:00:00+00:00  70.190002  21.139999  43.417084  34.293346  11.64   \n",
       "2019-12-24 00:00:00+00:00  70.800003  21.000000  43.399853  34.371479  11.62   \n",
       "2019-12-26 00:00:00+00:00  71.150002  20.830000  43.520531  34.732883  11.66   \n",
       "2019-12-27 00:00:00+00:00  71.150002  20.990000  43.373974  34.654739  11.55   \n",
       "2019-12-30 00:00:00+00:00  71.669998  20.520000  43.253311  34.879383  11.51   \n",
       "\n",
       "Price                                                                   \\\n",
       "Ticker                          HAIN      KELYA         MCD        WFC   \n",
       "Date                                                                     \n",
       "2018-01-02 00:00:00+00:00  41.950001  25.408672  147.811920  50.242729   \n",
       "2018-01-03 00:00:00+00:00  40.919998  25.594273  147.188965  50.629269   \n",
       "2018-01-04 00:00:00+00:00  40.599998  25.696352  148.221512  51.262550   \n",
       "2018-01-05 00:00:00+00:00  40.509998  25.816992  148.520172  51.607967   \n",
       "2018-01-08 00:00:00+00:00  41.070000  25.965471  148.417816  51.024044   \n",
       "...                              ...        ...         ...        ...   \n",
       "2019-12-23 00:00:00+00:00  25.780001  21.671841  175.804062  47.377075   \n",
       "2019-12-24 00:00:00+00:00  25.740000  21.614782  176.225220  47.385883   \n",
       "2019-12-26 00:00:00+00:00  25.639999  21.186865  176.574661  47.676426   \n",
       "2019-12-27 00:00:00+00:00  25.580000  21.120296  177.569290  47.473923   \n",
       "2019-12-30 00:00:00+00:00  25.530001  21.205877  176.440262  47.192181   \n",
       "\n",
       "Price                          Close  ...       Open  Volume           \\\n",
       "Ticker                          ASGN  ...        WFC    ASGN      ATI   \n",
       "Date                                  ...                               \n",
       "2018-01-02 00:00:00+00:00  63.360001  ...  61.040001  338800  2551300   \n",
       "2018-01-03 00:00:00+00:00  63.110001  ...  61.220001  175500  2195300   \n",
       "2018-01-04 00:00:00+00:00  64.190002  ...  61.980000  167500  2419800   \n",
       "2018-01-05 00:00:00+00:00  65.250000  ...  62.759998  289700  1316800   \n",
       "2018-01-08 00:00:00+00:00  67.940002  ...  62.660000  350000  3890800   \n",
       "...                              ...  ...        ...     ...      ...   \n",
       "2019-12-23 00:00:00+00:00  70.190002  ...  53.340000  187600  1313000   \n",
       "2019-12-24 00:00:00+00:00  70.800003  ...  53.950001  167800   405700   \n",
       "2019-12-26 00:00:00+00:00  71.150002  ...  54.049999  246000   423200   \n",
       "2019-12-27 00:00:00+00:00  71.150002  ...  54.290001  255900   747100   \n",
       "2019-12-30 00:00:00+00:00  71.669998  ...  54.169998  237500   865300   \n",
       "\n",
       "Price                                                                         \\\n",
       "Ticker                          BK    CASH    CCRN     HAIN   KELYA      MCD   \n",
       "Date                                                                           \n",
       "2018-01-02 00:00:00+00:00  3633100  246900  194600   989000  158100  3696900   \n",
       "2018-01-03 00:00:00+00:00  2409300  313500  273400   757900  140300  3789600   \n",
       "2018-01-04 00:00:00+00:00  2886500  189900  222300   692600  121300  2756400   \n",
       "2018-01-05 00:00:00+00:00  2514700  143400  299100  1556200   99300  3737700   \n",
       "2018-01-08 00:00:00+00:00  3773100  176100  329400   891700  129200  2060800   \n",
       "...                            ...     ...     ...      ...     ...      ...   \n",
       "2019-12-23 00:00:00+00:00  2084400  143200  218700   696200  101300  2388900   \n",
       "2019-12-24 00:00:00+00:00   763700   47300   63900   212700   45700  1152500   \n",
       "2019-12-26 00:00:00+00:00  1211700   95500   85500   487200   60500  1809600   \n",
       "2019-12-27 00:00:00+00:00  1859200  129800   94100   587800   65400  2263900   \n",
       "2019-12-30 00:00:00+00:00  3458200  155400  103400   414700  110000  2242400   \n",
       "\n",
       "Price                                \n",
       "Ticker                          WFC  \n",
       "Date                                 \n",
       "2018-01-02 00:00:00+00:00  13819300  \n",
       "2018-01-03 00:00:00+00:00  14203700  \n",
       "2018-01-04 00:00:00+00:00  18740500  \n",
       "2018-01-05 00:00:00+00:00  14217900  \n",
       "2018-01-08 00:00:00+00:00  15569400  \n",
       "...                             ...  \n",
       "2019-12-23 00:00:00+00:00  17637700  \n",
       "2019-12-24 00:00:00+00:00   4635500  \n",
       "2019-12-26 00:00:00+00:00  12517100  \n",
       "2019-12-27 00:00:00+00:00   9892000  \n",
       "2019-12-30 00:00:00+00:00  10900500  \n",
       "\n",
       "[502 rows x 54 columns]"
      ]
     },
     "execution_count": 31,
     "metadata": {},
     "output_type": "execute_result"
    }
   ],
   "source": [
    "df"
   ]
  },
  {
   "cell_type": "code",
   "execution_count": 32,
   "id": "9b6d3b49-2245-4112-a052-c69f6bd3a6bf",
   "metadata": {},
   "outputs": [
    {
     "data": {
      "text/html": [
       "<div>\n",
       "<style scoped>\n",
       "    .dataframe tbody tr th:only-of-type {\n",
       "        vertical-align: middle;\n",
       "    }\n",
       "\n",
       "    .dataframe tbody tr th {\n",
       "        vertical-align: top;\n",
       "    }\n",
       "\n",
       "    .dataframe thead th {\n",
       "        text-align: right;\n",
       "    }\n",
       "</style>\n",
       "<table border=\"1\" class=\"dataframe\">\n",
       "  <thead>\n",
       "    <tr style=\"text-align: right;\">\n",
       "      <th>Ticker</th>\n",
       "      <th>ASGN</th>\n",
       "      <th>ATI</th>\n",
       "      <th>BK</th>\n",
       "      <th>CASH</th>\n",
       "      <th>CCRN</th>\n",
       "      <th>HAIN</th>\n",
       "      <th>KELYA</th>\n",
       "      <th>MCD</th>\n",
       "      <th>WFC</th>\n",
       "    </tr>\n",
       "    <tr>\n",
       "      <th>Date</th>\n",
       "      <th></th>\n",
       "      <th></th>\n",
       "      <th></th>\n",
       "      <th></th>\n",
       "      <th></th>\n",
       "      <th></th>\n",
       "      <th></th>\n",
       "      <th></th>\n",
       "      <th></th>\n",
       "    </tr>\n",
       "  </thead>\n",
       "  <tbody>\n",
       "    <tr>\n",
       "      <th>2018-01-02 00:00:00+00:00</th>\n",
       "      <td>63.360001</td>\n",
       "      <td>25.620001</td>\n",
       "      <td>53.820000</td>\n",
       "      <td>30.833332</td>\n",
       "      <td>12.92</td>\n",
       "      <td>41.950001</td>\n",
       "      <td>27.379999</td>\n",
       "      <td>173.220001</td>\n",
       "      <td>61.090000</td>\n",
       "    </tr>\n",
       "    <tr>\n",
       "      <th>2018-01-03 00:00:00+00:00</th>\n",
       "      <td>63.110001</td>\n",
       "      <td>26.110001</td>\n",
       "      <td>54.150002</td>\n",
       "      <td>30.083332</td>\n",
       "      <td>12.39</td>\n",
       "      <td>40.919998</td>\n",
       "      <td>27.580000</td>\n",
       "      <td>172.490005</td>\n",
       "      <td>61.560001</td>\n",
       "    </tr>\n",
       "    <tr>\n",
       "      <th>2018-01-04 00:00:00+00:00</th>\n",
       "      <td>64.190002</td>\n",
       "      <td>26.639999</td>\n",
       "      <td>54.689999</td>\n",
       "      <td>29.783333</td>\n",
       "      <td>12.46</td>\n",
       "      <td>40.599998</td>\n",
       "      <td>27.690001</td>\n",
       "      <td>173.699997</td>\n",
       "      <td>62.330002</td>\n",
       "    </tr>\n",
       "    <tr>\n",
       "      <th>2018-01-05 00:00:00+00:00</th>\n",
       "      <td>65.250000</td>\n",
       "      <td>26.670000</td>\n",
       "      <td>54.830002</td>\n",
       "      <td>30.049999</td>\n",
       "      <td>12.56</td>\n",
       "      <td>40.509998</td>\n",
       "      <td>27.820000</td>\n",
       "      <td>174.050003</td>\n",
       "      <td>62.750000</td>\n",
       "    </tr>\n",
       "    <tr>\n",
       "      <th>2018-01-08 00:00:00+00:00</th>\n",
       "      <td>67.940002</td>\n",
       "      <td>27.260000</td>\n",
       "      <td>55.060001</td>\n",
       "      <td>30.450001</td>\n",
       "      <td>12.64</td>\n",
       "      <td>41.070000</td>\n",
       "      <td>27.980000</td>\n",
       "      <td>173.929993</td>\n",
       "      <td>62.040001</td>\n",
       "    </tr>\n",
       "    <tr>\n",
       "      <th>...</th>\n",
       "      <td>...</td>\n",
       "      <td>...</td>\n",
       "      <td>...</td>\n",
       "      <td>...</td>\n",
       "      <td>...</td>\n",
       "      <td>...</td>\n",
       "      <td>...</td>\n",
       "      <td>...</td>\n",
       "      <td>...</td>\n",
       "    </tr>\n",
       "    <tr>\n",
       "      <th>2019-12-23 00:00:00+00:00</th>\n",
       "      <td>70.190002</td>\n",
       "      <td>21.139999</td>\n",
       "      <td>50.369999</td>\n",
       "      <td>35.110001</td>\n",
       "      <td>11.64</td>\n",
       "      <td>25.780001</td>\n",
       "      <td>22.790001</td>\n",
       "      <td>196.199997</td>\n",
       "      <td>53.810001</td>\n",
       "    </tr>\n",
       "    <tr>\n",
       "      <th>2019-12-24 00:00:00+00:00</th>\n",
       "      <td>70.800003</td>\n",
       "      <td>21.000000</td>\n",
       "      <td>50.349998</td>\n",
       "      <td>35.189999</td>\n",
       "      <td>11.62</td>\n",
       "      <td>25.740000</td>\n",
       "      <td>22.730000</td>\n",
       "      <td>196.669998</td>\n",
       "      <td>53.820000</td>\n",
       "    </tr>\n",
       "    <tr>\n",
       "      <th>2019-12-26 00:00:00+00:00</th>\n",
       "      <td>71.150002</td>\n",
       "      <td>20.830000</td>\n",
       "      <td>50.490002</td>\n",
       "      <td>35.560001</td>\n",
       "      <td>11.66</td>\n",
       "      <td>25.639999</td>\n",
       "      <td>22.280001</td>\n",
       "      <td>197.059998</td>\n",
       "      <td>54.150002</td>\n",
       "    </tr>\n",
       "    <tr>\n",
       "      <th>2019-12-27 00:00:00+00:00</th>\n",
       "      <td>71.150002</td>\n",
       "      <td>20.990000</td>\n",
       "      <td>50.320000</td>\n",
       "      <td>35.480000</td>\n",
       "      <td>11.55</td>\n",
       "      <td>25.580000</td>\n",
       "      <td>22.209999</td>\n",
       "      <td>198.169998</td>\n",
       "      <td>53.919998</td>\n",
       "    </tr>\n",
       "    <tr>\n",
       "      <th>2019-12-30 00:00:00+00:00</th>\n",
       "      <td>71.669998</td>\n",
       "      <td>20.520000</td>\n",
       "      <td>50.180000</td>\n",
       "      <td>35.709999</td>\n",
       "      <td>11.51</td>\n",
       "      <td>25.530001</td>\n",
       "      <td>22.299999</td>\n",
       "      <td>196.910004</td>\n",
       "      <td>53.599998</td>\n",
       "    </tr>\n",
       "  </tbody>\n",
       "</table>\n",
       "<p>502 rows × 9 columns</p>\n",
       "</div>"
      ],
      "text/plain": [
       "Ticker                          ASGN        ATI         BK       CASH   CCRN  \\\n",
       "Date                                                                           \n",
       "2018-01-02 00:00:00+00:00  63.360001  25.620001  53.820000  30.833332  12.92   \n",
       "2018-01-03 00:00:00+00:00  63.110001  26.110001  54.150002  30.083332  12.39   \n",
       "2018-01-04 00:00:00+00:00  64.190002  26.639999  54.689999  29.783333  12.46   \n",
       "2018-01-05 00:00:00+00:00  65.250000  26.670000  54.830002  30.049999  12.56   \n",
       "2018-01-08 00:00:00+00:00  67.940002  27.260000  55.060001  30.450001  12.64   \n",
       "...                              ...        ...        ...        ...    ...   \n",
       "2019-12-23 00:00:00+00:00  70.190002  21.139999  50.369999  35.110001  11.64   \n",
       "2019-12-24 00:00:00+00:00  70.800003  21.000000  50.349998  35.189999  11.62   \n",
       "2019-12-26 00:00:00+00:00  71.150002  20.830000  50.490002  35.560001  11.66   \n",
       "2019-12-27 00:00:00+00:00  71.150002  20.990000  50.320000  35.480000  11.55   \n",
       "2019-12-30 00:00:00+00:00  71.669998  20.520000  50.180000  35.709999  11.51   \n",
       "\n",
       "Ticker                          HAIN      KELYA         MCD        WFC  \n",
       "Date                                                                    \n",
       "2018-01-02 00:00:00+00:00  41.950001  27.379999  173.220001  61.090000  \n",
       "2018-01-03 00:00:00+00:00  40.919998  27.580000  172.490005  61.560001  \n",
       "2018-01-04 00:00:00+00:00  40.599998  27.690001  173.699997  62.330002  \n",
       "2018-01-05 00:00:00+00:00  40.509998  27.820000  174.050003  62.750000  \n",
       "2018-01-08 00:00:00+00:00  41.070000  27.980000  173.929993  62.040001  \n",
       "...                              ...        ...         ...        ...  \n",
       "2019-12-23 00:00:00+00:00  25.780001  22.790001  196.199997  53.810001  \n",
       "2019-12-24 00:00:00+00:00  25.740000  22.730000  196.669998  53.820000  \n",
       "2019-12-26 00:00:00+00:00  25.639999  22.280001  197.059998  54.150002  \n",
       "2019-12-27 00:00:00+00:00  25.580000  22.209999  198.169998  53.919998  \n",
       "2019-12-30 00:00:00+00:00  25.530001  22.299999  196.910004  53.599998  \n",
       "\n",
       "[502 rows x 9 columns]"
      ]
     },
     "execution_count": 32,
     "metadata": {},
     "output_type": "execute_result"
    }
   ],
   "source": [
    "df.Close"
   ]
  },
  {
   "cell_type": "code",
   "execution_count": 33,
   "id": "f7891bd5-6855-4f57-b30f-e2a86eb2e3fd",
   "metadata": {},
   "outputs": [],
   "source": [
    "df.to_csv('CEO.csv') "
   ]
  },
  {
   "cell_type": "code",
   "execution_count": 34,
   "id": "ba6efa2b-673c-4ee0-abc5-65badab66bb5",
   "metadata": {},
   "outputs": [
    {
     "data": {
      "text/html": [
       "<div>\n",
       "<style scoped>\n",
       "    .dataframe tbody tr th:only-of-type {\n",
       "        vertical-align: middle;\n",
       "    }\n",
       "\n",
       "    .dataframe tbody tr th {\n",
       "        vertical-align: top;\n",
       "    }\n",
       "\n",
       "    .dataframe thead th {\n",
       "        text-align: right;\n",
       "    }\n",
       "</style>\n",
       "<table border=\"1\" class=\"dataframe\">\n",
       "  <thead>\n",
       "    <tr style=\"text-align: right;\">\n",
       "      <th></th>\n",
       "      <th>Price</th>\n",
       "      <th>Adj Close</th>\n",
       "      <th>Adj Close.1</th>\n",
       "      <th>Adj Close.2</th>\n",
       "      <th>Adj Close.3</th>\n",
       "      <th>Adj Close.4</th>\n",
       "      <th>Adj Close.5</th>\n",
       "      <th>Adj Close.6</th>\n",
       "      <th>Adj Close.7</th>\n",
       "      <th>Adj Close.8</th>\n",
       "      <th>...</th>\n",
       "      <th>Open.8</th>\n",
       "      <th>Volume</th>\n",
       "      <th>Volume.1</th>\n",
       "      <th>Volume.2</th>\n",
       "      <th>Volume.3</th>\n",
       "      <th>Volume.4</th>\n",
       "      <th>Volume.5</th>\n",
       "      <th>Volume.6</th>\n",
       "      <th>Volume.7</th>\n",
       "      <th>Volume.8</th>\n",
       "    </tr>\n",
       "  </thead>\n",
       "  <tbody>\n",
       "    <tr>\n",
       "      <th>0</th>\n",
       "      <td>Ticker</td>\n",
       "      <td>ASGN</td>\n",
       "      <td>ATI</td>\n",
       "      <td>BK</td>\n",
       "      <td>CASH</td>\n",
       "      <td>CCRN</td>\n",
       "      <td>HAIN</td>\n",
       "      <td>KELYA</td>\n",
       "      <td>MCD</td>\n",
       "      <td>WFC</td>\n",
       "      <td>...</td>\n",
       "      <td>WFC</td>\n",
       "      <td>ASGN</td>\n",
       "      <td>ATI</td>\n",
       "      <td>BK</td>\n",
       "      <td>CASH</td>\n",
       "      <td>CCRN</td>\n",
       "      <td>HAIN</td>\n",
       "      <td>KELYA</td>\n",
       "      <td>MCD</td>\n",
       "      <td>WFC</td>\n",
       "    </tr>\n",
       "    <tr>\n",
       "      <th>1</th>\n",
       "      <td>Date</td>\n",
       "      <td>NaN</td>\n",
       "      <td>NaN</td>\n",
       "      <td>NaN</td>\n",
       "      <td>NaN</td>\n",
       "      <td>NaN</td>\n",
       "      <td>NaN</td>\n",
       "      <td>NaN</td>\n",
       "      <td>NaN</td>\n",
       "      <td>NaN</td>\n",
       "      <td>...</td>\n",
       "      <td>NaN</td>\n",
       "      <td>NaN</td>\n",
       "      <td>NaN</td>\n",
       "      <td>NaN</td>\n",
       "      <td>NaN</td>\n",
       "      <td>NaN</td>\n",
       "      <td>NaN</td>\n",
       "      <td>NaN</td>\n",
       "      <td>NaN</td>\n",
       "      <td>NaN</td>\n",
       "    </tr>\n",
       "    <tr>\n",
       "      <th>2</th>\n",
       "      <td>2018-01-02 00:00:00+00:00</td>\n",
       "      <td>63.36000061035156</td>\n",
       "      <td>25.6200008392334</td>\n",
       "      <td>44.38273620605469</td>\n",
       "      <td>29.702699661254883</td>\n",
       "      <td>12.920000076293945</td>\n",
       "      <td>41.95000076293945</td>\n",
       "      <td>25.408672332763672</td>\n",
       "      <td>147.81192016601562</td>\n",
       "      <td>50.24272918701172</td>\n",
       "      <td>...</td>\n",
       "      <td>61.040000915527344</td>\n",
       "      <td>338800</td>\n",
       "      <td>2551300</td>\n",
       "      <td>3633100</td>\n",
       "      <td>246900</td>\n",
       "      <td>194600</td>\n",
       "      <td>989000</td>\n",
       "      <td>158100</td>\n",
       "      <td>3696900</td>\n",
       "      <td>13819300</td>\n",
       "    </tr>\n",
       "    <tr>\n",
       "      <th>3</th>\n",
       "      <td>2018-01-03 00:00:00+00:00</td>\n",
       "      <td>63.11000061035156</td>\n",
       "      <td>26.110000610351562</td>\n",
       "      <td>44.65487289428711</td>\n",
       "      <td>28.980201721191406</td>\n",
       "      <td>12.390000343322754</td>\n",
       "      <td>40.91999816894531</td>\n",
       "      <td>25.59427261352539</td>\n",
       "      <td>147.18896484375</td>\n",
       "      <td>50.629268646240234</td>\n",
       "      <td>...</td>\n",
       "      <td>61.220001220703125</td>\n",
       "      <td>175500</td>\n",
       "      <td>2195300</td>\n",
       "      <td>2409300</td>\n",
       "      <td>313500</td>\n",
       "      <td>273400</td>\n",
       "      <td>757900</td>\n",
       "      <td>140300</td>\n",
       "      <td>3789600</td>\n",
       "      <td>14203700</td>\n",
       "    </tr>\n",
       "    <tr>\n",
       "      <th>4</th>\n",
       "      <td>2018-01-04 00:00:00+00:00</td>\n",
       "      <td>64.19000244140625</td>\n",
       "      <td>26.639999389648438</td>\n",
       "      <td>45.10018539428711</td>\n",
       "      <td>28.691207885742188</td>\n",
       "      <td>12.460000038146973</td>\n",
       "      <td>40.599998474121094</td>\n",
       "      <td>25.696352005004883</td>\n",
       "      <td>148.2215118408203</td>\n",
       "      <td>51.262550354003906</td>\n",
       "      <td>...</td>\n",
       "      <td>61.97999954223633</td>\n",
       "      <td>167500</td>\n",
       "      <td>2419800</td>\n",
       "      <td>2886500</td>\n",
       "      <td>189900</td>\n",
       "      <td>222300</td>\n",
       "      <td>692600</td>\n",
       "      <td>121300</td>\n",
       "      <td>2756400</td>\n",
       "      <td>18740500</td>\n",
       "    </tr>\n",
       "    <tr>\n",
       "      <th>...</th>\n",
       "      <td>...</td>\n",
       "      <td>...</td>\n",
       "      <td>...</td>\n",
       "      <td>...</td>\n",
       "      <td>...</td>\n",
       "      <td>...</td>\n",
       "      <td>...</td>\n",
       "      <td>...</td>\n",
       "      <td>...</td>\n",
       "      <td>...</td>\n",
       "      <td>...</td>\n",
       "      <td>...</td>\n",
       "      <td>...</td>\n",
       "      <td>...</td>\n",
       "      <td>...</td>\n",
       "      <td>...</td>\n",
       "      <td>...</td>\n",
       "      <td>...</td>\n",
       "      <td>...</td>\n",
       "      <td>...</td>\n",
       "      <td>...</td>\n",
       "    </tr>\n",
       "    <tr>\n",
       "      <th>499</th>\n",
       "      <td>2019-12-23 00:00:00+00:00</td>\n",
       "      <td>70.19000244140625</td>\n",
       "      <td>21.139999389648438</td>\n",
       "      <td>43.417083740234375</td>\n",
       "      <td>34.2933464050293</td>\n",
       "      <td>11.640000343322754</td>\n",
       "      <td>25.780000686645508</td>\n",
       "      <td>21.67184066772461</td>\n",
       "      <td>175.80406188964844</td>\n",
       "      <td>47.3770751953125</td>\n",
       "      <td>...</td>\n",
       "      <td>53.34000015258789</td>\n",
       "      <td>187600</td>\n",
       "      <td>1313000</td>\n",
       "      <td>2084400</td>\n",
       "      <td>143200</td>\n",
       "      <td>218700</td>\n",
       "      <td>696200</td>\n",
       "      <td>101300</td>\n",
       "      <td>2388900</td>\n",
       "      <td>17637700</td>\n",
       "    </tr>\n",
       "    <tr>\n",
       "      <th>500</th>\n",
       "      <td>2019-12-24 00:00:00+00:00</td>\n",
       "      <td>70.80000305175781</td>\n",
       "      <td>21.0</td>\n",
       "      <td>43.39985275268555</td>\n",
       "      <td>34.37147903442383</td>\n",
       "      <td>11.619999885559082</td>\n",
       "      <td>25.739999771118164</td>\n",
       "      <td>21.614782333374023</td>\n",
       "      <td>176.2252197265625</td>\n",
       "      <td>47.38588333129883</td>\n",
       "      <td>...</td>\n",
       "      <td>53.95000076293945</td>\n",
       "      <td>167800</td>\n",
       "      <td>405700</td>\n",
       "      <td>763700</td>\n",
       "      <td>47300</td>\n",
       "      <td>63900</td>\n",
       "      <td>212700</td>\n",
       "      <td>45700</td>\n",
       "      <td>1152500</td>\n",
       "      <td>4635500</td>\n",
       "    </tr>\n",
       "    <tr>\n",
       "      <th>501</th>\n",
       "      <td>2019-12-26 00:00:00+00:00</td>\n",
       "      <td>71.1500015258789</td>\n",
       "      <td>20.829999923706055</td>\n",
       "      <td>43.520530700683594</td>\n",
       "      <td>34.73288345336914</td>\n",
       "      <td>11.65999984741211</td>\n",
       "      <td>25.639999389648438</td>\n",
       "      <td>21.186864852905273</td>\n",
       "      <td>176.5746612548828</td>\n",
       "      <td>47.67642593383789</td>\n",
       "      <td>...</td>\n",
       "      <td>54.04999923706055</td>\n",
       "      <td>246000</td>\n",
       "      <td>423200</td>\n",
       "      <td>1211700</td>\n",
       "      <td>95500</td>\n",
       "      <td>85500</td>\n",
       "      <td>487200</td>\n",
       "      <td>60500</td>\n",
       "      <td>1809600</td>\n",
       "      <td>12517100</td>\n",
       "    </tr>\n",
       "    <tr>\n",
       "      <th>502</th>\n",
       "      <td>2019-12-27 00:00:00+00:00</td>\n",
       "      <td>71.1500015258789</td>\n",
       "      <td>20.989999771118164</td>\n",
       "      <td>43.37397384643555</td>\n",
       "      <td>34.65473937988281</td>\n",
       "      <td>11.550000190734863</td>\n",
       "      <td>25.579999923706055</td>\n",
       "      <td>21.120296478271484</td>\n",
       "      <td>177.5692901611328</td>\n",
       "      <td>47.47392272949219</td>\n",
       "      <td>...</td>\n",
       "      <td>54.290000915527344</td>\n",
       "      <td>255900</td>\n",
       "      <td>747100</td>\n",
       "      <td>1859200</td>\n",
       "      <td>129800</td>\n",
       "      <td>94100</td>\n",
       "      <td>587800</td>\n",
       "      <td>65400</td>\n",
       "      <td>2263900</td>\n",
       "      <td>9892000</td>\n",
       "    </tr>\n",
       "    <tr>\n",
       "      <th>503</th>\n",
       "      <td>2019-12-30 00:00:00+00:00</td>\n",
       "      <td>71.66999816894531</td>\n",
       "      <td>20.520000457763672</td>\n",
       "      <td>43.25331115722656</td>\n",
       "      <td>34.8793830871582</td>\n",
       "      <td>11.510000228881836</td>\n",
       "      <td>25.530000686645508</td>\n",
       "      <td>21.20587730407715</td>\n",
       "      <td>176.4402618408203</td>\n",
       "      <td>47.19218063354492</td>\n",
       "      <td>...</td>\n",
       "      <td>54.16999816894531</td>\n",
       "      <td>237500</td>\n",
       "      <td>865300</td>\n",
       "      <td>3458200</td>\n",
       "      <td>155400</td>\n",
       "      <td>103400</td>\n",
       "      <td>414700</td>\n",
       "      <td>110000</td>\n",
       "      <td>2242400</td>\n",
       "      <td>10900500</td>\n",
       "    </tr>\n",
       "  </tbody>\n",
       "</table>\n",
       "<p>504 rows × 55 columns</p>\n",
       "</div>"
      ],
      "text/plain": [
       "                         Price          Adj Close         Adj Close.1  \\\n",
       "0                       Ticker               ASGN                 ATI   \n",
       "1                         Date                NaN                 NaN   \n",
       "2    2018-01-02 00:00:00+00:00  63.36000061035156    25.6200008392334   \n",
       "3    2018-01-03 00:00:00+00:00  63.11000061035156  26.110000610351562   \n",
       "4    2018-01-04 00:00:00+00:00  64.19000244140625  26.639999389648438   \n",
       "..                         ...                ...                 ...   \n",
       "499  2019-12-23 00:00:00+00:00  70.19000244140625  21.139999389648438   \n",
       "500  2019-12-24 00:00:00+00:00  70.80000305175781                21.0   \n",
       "501  2019-12-26 00:00:00+00:00   71.1500015258789  20.829999923706055   \n",
       "502  2019-12-27 00:00:00+00:00   71.1500015258789  20.989999771118164   \n",
       "503  2019-12-30 00:00:00+00:00  71.66999816894531  20.520000457763672   \n",
       "\n",
       "            Adj Close.2         Adj Close.3         Adj Close.4  \\\n",
       "0                    BK                CASH                CCRN   \n",
       "1                   NaN                 NaN                 NaN   \n",
       "2     44.38273620605469  29.702699661254883  12.920000076293945   \n",
       "3     44.65487289428711  28.980201721191406  12.390000343322754   \n",
       "4     45.10018539428711  28.691207885742188  12.460000038146973   \n",
       "..                  ...                 ...                 ...   \n",
       "499  43.417083740234375    34.2933464050293  11.640000343322754   \n",
       "500   43.39985275268555   34.37147903442383  11.619999885559082   \n",
       "501  43.520530700683594   34.73288345336914   11.65999984741211   \n",
       "502   43.37397384643555   34.65473937988281  11.550000190734863   \n",
       "503   43.25331115722656    34.8793830871582  11.510000228881836   \n",
       "\n",
       "            Adj Close.5         Adj Close.6         Adj Close.7  \\\n",
       "0                  HAIN               KELYA                 MCD   \n",
       "1                   NaN                 NaN                 NaN   \n",
       "2     41.95000076293945  25.408672332763672  147.81192016601562   \n",
       "3     40.91999816894531   25.59427261352539     147.18896484375   \n",
       "4    40.599998474121094  25.696352005004883   148.2215118408203   \n",
       "..                  ...                 ...                 ...   \n",
       "499  25.780000686645508   21.67184066772461  175.80406188964844   \n",
       "500  25.739999771118164  21.614782333374023   176.2252197265625   \n",
       "501  25.639999389648438  21.186864852905273   176.5746612548828   \n",
       "502  25.579999923706055  21.120296478271484   177.5692901611328   \n",
       "503  25.530000686645508   21.20587730407715   176.4402618408203   \n",
       "\n",
       "            Adj Close.8  ...              Open.8  Volume Volume.1 Volume.2  \\\n",
       "0                   WFC  ...                 WFC    ASGN      ATI       BK   \n",
       "1                   NaN  ...                 NaN     NaN      NaN      NaN   \n",
       "2     50.24272918701172  ...  61.040000915527344  338800  2551300  3633100   \n",
       "3    50.629268646240234  ...  61.220001220703125  175500  2195300  2409300   \n",
       "4    51.262550354003906  ...   61.97999954223633  167500  2419800  2886500   \n",
       "..                  ...  ...                 ...     ...      ...      ...   \n",
       "499    47.3770751953125  ...   53.34000015258789  187600  1313000  2084400   \n",
       "500   47.38588333129883  ...   53.95000076293945  167800   405700   763700   \n",
       "501   47.67642593383789  ...   54.04999923706055  246000   423200  1211700   \n",
       "502   47.47392272949219  ...  54.290000915527344  255900   747100  1859200   \n",
       "503   47.19218063354492  ...   54.16999816894531  237500   865300  3458200   \n",
       "\n",
       "    Volume.3 Volume.4 Volume.5 Volume.6 Volume.7  Volume.8  \n",
       "0       CASH     CCRN     HAIN    KELYA      MCD       WFC  \n",
       "1        NaN      NaN      NaN      NaN      NaN       NaN  \n",
       "2     246900   194600   989000   158100  3696900  13819300  \n",
       "3     313500   273400   757900   140300  3789600  14203700  \n",
       "4     189900   222300   692600   121300  2756400  18740500  \n",
       "..       ...      ...      ...      ...      ...       ...  \n",
       "499   143200   218700   696200   101300  2388900  17637700  \n",
       "500    47300    63900   212700    45700  1152500   4635500  \n",
       "501    95500    85500   487200    60500  1809600  12517100  \n",
       "502   129800    94100   587800    65400  2263900   9892000  \n",
       "503   155400   103400   414700   110000  2242400  10900500  \n",
       "\n",
       "[504 rows x 55 columns]"
      ]
     },
     "execution_count": 34,
     "metadata": {},
     "output_type": "execute_result"
    }
   ],
   "source": [
    "pd.read_csv('CEO.csv')"
   ]
  },
  {
   "cell_type": "code",
   "execution_count": 35,
   "id": "58218acc-502c-40b7-a02e-e7801320689c",
   "metadata": {},
   "outputs": [],
   "source": [
    "TENST = yf.Tickers([\"ASGN\", \"CASH\", \"WFC\", \"CCRN\", \"MCD\", \"CASH\", \"KELYA\",\"ATI\",\"BK\", \"HAIN\"])"
   ]
  },
  {
   "cell_type": "code",
   "execution_count": 36,
   "id": "93a2b718-d151-4d7f-8ac9-51a09cd95a74",
   "metadata": {},
   "outputs": [
    {
     "name": "stderr",
     "output_type": "stream",
     "text": [
      "[*********************100%***********************]  9 of 9 completed\n"
     ]
    },
    {
     "data": {
      "text/html": [
       "<div>\n",
       "<style scoped>\n",
       "    .dataframe tbody tr th:only-of-type {\n",
       "        vertical-align: middle;\n",
       "    }\n",
       "\n",
       "    .dataframe tbody tr th {\n",
       "        vertical-align: top;\n",
       "    }\n",
       "\n",
       "    .dataframe thead tr th {\n",
       "        text-align: left;\n",
       "    }\n",
       "\n",
       "    .dataframe thead tr:last-of-type th {\n",
       "        text-align: right;\n",
       "    }\n",
       "</style>\n",
       "<table border=\"1\" class=\"dataframe\">\n",
       "  <thead>\n",
       "    <tr>\n",
       "      <th>Price</th>\n",
       "      <th colspan=\"9\" halign=\"left\">Close</th>\n",
       "      <th>Dividends</th>\n",
       "      <th>...</th>\n",
       "      <th>Stock Splits</th>\n",
       "      <th colspan=\"9\" halign=\"left\">Volume</th>\n",
       "    </tr>\n",
       "    <tr>\n",
       "      <th>Ticker</th>\n",
       "      <th>ASGN</th>\n",
       "      <th>ATI</th>\n",
       "      <th>BK</th>\n",
       "      <th>CASH</th>\n",
       "      <th>CCRN</th>\n",
       "      <th>HAIN</th>\n",
       "      <th>KELYA</th>\n",
       "      <th>MCD</th>\n",
       "      <th>WFC</th>\n",
       "      <th>ASGN</th>\n",
       "      <th>...</th>\n",
       "      <th>WFC</th>\n",
       "      <th>ASGN</th>\n",
       "      <th>ATI</th>\n",
       "      <th>BK</th>\n",
       "      <th>CASH</th>\n",
       "      <th>CCRN</th>\n",
       "      <th>HAIN</th>\n",
       "      <th>KELYA</th>\n",
       "      <th>MCD</th>\n",
       "      <th>WFC</th>\n",
       "    </tr>\n",
       "    <tr>\n",
       "      <th>Date</th>\n",
       "      <th></th>\n",
       "      <th></th>\n",
       "      <th></th>\n",
       "      <th></th>\n",
       "      <th></th>\n",
       "      <th></th>\n",
       "      <th></th>\n",
       "      <th></th>\n",
       "      <th></th>\n",
       "      <th></th>\n",
       "      <th></th>\n",
       "      <th></th>\n",
       "      <th></th>\n",
       "      <th></th>\n",
       "      <th></th>\n",
       "      <th></th>\n",
       "      <th></th>\n",
       "      <th></th>\n",
       "      <th></th>\n",
       "      <th></th>\n",
       "      <th></th>\n",
       "    </tr>\n",
       "  </thead>\n",
       "  <tbody>\n",
       "    <tr>\n",
       "      <th>2024-08-26 00:00:00+00:00</th>\n",
       "      <td>95.349998</td>\n",
       "      <td>66.150002</td>\n",
       "      <td>67.000000</td>\n",
       "      <td>66.460762</td>\n",
       "      <td>14.94</td>\n",
       "      <td>6.83</td>\n",
       "      <td>20.910000</td>\n",
       "      <td>287.009888</td>\n",
       "      <td>56.720001</td>\n",
       "      <td>0.0</td>\n",
       "      <td>...</td>\n",
       "      <td>0.0</td>\n",
       "      <td>165300</td>\n",
       "      <td>502000</td>\n",
       "      <td>2440600</td>\n",
       "      <td>138400</td>\n",
       "      <td>349000</td>\n",
       "      <td>2153000</td>\n",
       "      <td>124300</td>\n",
       "      <td>2018500</td>\n",
       "      <td>9478800</td>\n",
       "    </tr>\n",
       "    <tr>\n",
       "      <th>2024-08-27 00:00:00+00:00</th>\n",
       "      <td>95.260002</td>\n",
       "      <td>65.379997</td>\n",
       "      <td>67.209999</td>\n",
       "      <td>66.190964</td>\n",
       "      <td>14.75</td>\n",
       "      <td>8.10</td>\n",
       "      <td>20.799999</td>\n",
       "      <td>287.964355</td>\n",
       "      <td>56.259998</td>\n",
       "      <td>0.0</td>\n",
       "      <td>...</td>\n",
       "      <td>0.0</td>\n",
       "      <td>244800</td>\n",
       "      <td>660000</td>\n",
       "      <td>2541900</td>\n",
       "      <td>97600</td>\n",
       "      <td>341900</td>\n",
       "      <td>11604400</td>\n",
       "      <td>92400</td>\n",
       "      <td>2897600</td>\n",
       "      <td>7638500</td>\n",
       "    </tr>\n",
       "    <tr>\n",
       "      <th>2024-08-28 00:00:00+00:00</th>\n",
       "      <td>95.139999</td>\n",
       "      <td>64.930000</td>\n",
       "      <td>67.000000</td>\n",
       "      <td>66.610657</td>\n",
       "      <td>15.01</td>\n",
       "      <td>8.26</td>\n",
       "      <td>20.830000</td>\n",
       "      <td>285.389313</td>\n",
       "      <td>57.070000</td>\n",
       "      <td>0.0</td>\n",
       "      <td>...</td>\n",
       "      <td>0.0</td>\n",
       "      <td>239700</td>\n",
       "      <td>460300</td>\n",
       "      <td>3393700</td>\n",
       "      <td>80000</td>\n",
       "      <td>334200</td>\n",
       "      <td>4142100</td>\n",
       "      <td>143200</td>\n",
       "      <td>2603800</td>\n",
       "      <td>11905200</td>\n",
       "    </tr>\n",
       "    <tr>\n",
       "      <th>2024-08-29 00:00:00+00:00</th>\n",
       "      <td>96.940002</td>\n",
       "      <td>64.510002</td>\n",
       "      <td>67.250000</td>\n",
       "      <td>66.810501</td>\n",
       "      <td>15.11</td>\n",
       "      <td>7.98</td>\n",
       "      <td>21.080000</td>\n",
       "      <td>286.194611</td>\n",
       "      <td>57.349998</td>\n",
       "      <td>0.0</td>\n",
       "      <td>...</td>\n",
       "      <td>0.0</td>\n",
       "      <td>309200</td>\n",
       "      <td>717600</td>\n",
       "      <td>2485600</td>\n",
       "      <td>134500</td>\n",
       "      <td>328900</td>\n",
       "      <td>2259700</td>\n",
       "      <td>115300</td>\n",
       "      <td>1797100</td>\n",
       "      <td>9283300</td>\n",
       "    </tr>\n",
       "    <tr>\n",
       "      <th>2024-08-30 00:00:00+00:00</th>\n",
       "      <td>96.160004</td>\n",
       "      <td>63.880001</td>\n",
       "      <td>68.220001</td>\n",
       "      <td>68.769051</td>\n",
       "      <td>14.92</td>\n",
       "      <td>8.00</td>\n",
       "      <td>21.110001</td>\n",
       "      <td>286.990021</td>\n",
       "      <td>58.470001</td>\n",
       "      <td>0.0</td>\n",
       "      <td>...</td>\n",
       "      <td>0.0</td>\n",
       "      <td>773300</td>\n",
       "      <td>1249400</td>\n",
       "      <td>4352000</td>\n",
       "      <td>493600</td>\n",
       "      <td>333700</td>\n",
       "      <td>1264300</td>\n",
       "      <td>94600</td>\n",
       "      <td>2528500</td>\n",
       "      <td>20377300</td>\n",
       "    </tr>\n",
       "    <tr>\n",
       "      <th>2024-09-03 00:00:00+00:00</th>\n",
       "      <td>92.709999</td>\n",
       "      <td>60.270000</td>\n",
       "      <td>67.889999</td>\n",
       "      <td>68.189484</td>\n",
       "      <td>14.63</td>\n",
       "      <td>8.32</td>\n",
       "      <td>20.629999</td>\n",
       "      <td>285.519989</td>\n",
       "      <td>58.369999</td>\n",
       "      <td>0.0</td>\n",
       "      <td>...</td>\n",
       "      <td>0.0</td>\n",
       "      <td>241400</td>\n",
       "      <td>1937600</td>\n",
       "      <td>3259200</td>\n",
       "      <td>140400</td>\n",
       "      <td>453100</td>\n",
       "      <td>1731200</td>\n",
       "      <td>133300</td>\n",
       "      <td>2902800</td>\n",
       "      <td>15933600</td>\n",
       "    </tr>\n",
       "    <tr>\n",
       "      <th>2024-09-04 00:00:00+00:00</th>\n",
       "      <td>93.059998</td>\n",
       "      <td>59.790001</td>\n",
       "      <td>67.739998</td>\n",
       "      <td>67.060318</td>\n",
       "      <td>15.05</td>\n",
       "      <td>8.50</td>\n",
       "      <td>20.740000</td>\n",
       "      <td>288.029999</td>\n",
       "      <td>58.119999</td>\n",
       "      <td>0.0</td>\n",
       "      <td>...</td>\n",
       "      <td>0.0</td>\n",
       "      <td>168200</td>\n",
       "      <td>6472200</td>\n",
       "      <td>2942700</td>\n",
       "      <td>90700</td>\n",
       "      <td>392900</td>\n",
       "      <td>1248900</td>\n",
       "      <td>118300</td>\n",
       "      <td>2558300</td>\n",
       "      <td>10985800</td>\n",
       "    </tr>\n",
       "    <tr>\n",
       "      <th>2024-09-05 00:00:00+00:00</th>\n",
       "      <td>92.019997</td>\n",
       "      <td>59.939999</td>\n",
       "      <td>68.000000</td>\n",
       "      <td>67.330116</td>\n",
       "      <td>14.68</td>\n",
       "      <td>8.59</td>\n",
       "      <td>20.540001</td>\n",
       "      <td>287.970001</td>\n",
       "      <td>56.860001</td>\n",
       "      <td>0.0</td>\n",
       "      <td>...</td>\n",
       "      <td>0.0</td>\n",
       "      <td>209100</td>\n",
       "      <td>3058700</td>\n",
       "      <td>3850100</td>\n",
       "      <td>132700</td>\n",
       "      <td>442000</td>\n",
       "      <td>1257900</td>\n",
       "      <td>135400</td>\n",
       "      <td>2412500</td>\n",
       "      <td>18301000</td>\n",
       "    </tr>\n",
       "    <tr>\n",
       "      <th>2024-09-06 00:00:00+00:00</th>\n",
       "      <td>89.739998</td>\n",
       "      <td>58.130001</td>\n",
       "      <td>66.410004</td>\n",
       "      <td>67.170242</td>\n",
       "      <td>13.59</td>\n",
       "      <td>8.47</td>\n",
       "      <td>20.010000</td>\n",
       "      <td>289.510010</td>\n",
       "      <td>54.000000</td>\n",
       "      <td>0.0</td>\n",
       "      <td>...</td>\n",
       "      <td>0.0</td>\n",
       "      <td>224500</td>\n",
       "      <td>2498700</td>\n",
       "      <td>4114900</td>\n",
       "      <td>201100</td>\n",
       "      <td>660100</td>\n",
       "      <td>760300</td>\n",
       "      <td>132700</td>\n",
       "      <td>3863600</td>\n",
       "      <td>21853800</td>\n",
       "    </tr>\n",
       "    <tr>\n",
       "      <th>2024-09-09 00:00:00+00:00</th>\n",
       "      <td>89.970001</td>\n",
       "      <td>59.220001</td>\n",
       "      <td>67.720001</td>\n",
       "      <td>67.490005</td>\n",
       "      <td>13.77</td>\n",
       "      <td>8.33</td>\n",
       "      <td>20.180000</td>\n",
       "      <td>291.290009</td>\n",
       "      <td>54.590000</td>\n",
       "      <td>0.0</td>\n",
       "      <td>...</td>\n",
       "      <td>0.0</td>\n",
       "      <td>300000</td>\n",
       "      <td>2083200</td>\n",
       "      <td>4495600</td>\n",
       "      <td>148400</td>\n",
       "      <td>665900</td>\n",
       "      <td>1284300</td>\n",
       "      <td>240200</td>\n",
       "      <td>3208600</td>\n",
       "      <td>17134800</td>\n",
       "    </tr>\n",
       "    <tr>\n",
       "      <th>2024-09-10 00:00:00+00:00</th>\n",
       "      <td>91.300003</td>\n",
       "      <td>59.529999</td>\n",
       "      <td>67.510002</td>\n",
       "      <td>66.040001</td>\n",
       "      <td>13.88</td>\n",
       "      <td>7.81</td>\n",
       "      <td>20.540001</td>\n",
       "      <td>291.269989</td>\n",
       "      <td>53.950001</td>\n",
       "      <td>0.0</td>\n",
       "      <td>...</td>\n",
       "      <td>0.0</td>\n",
       "      <td>314800</td>\n",
       "      <td>1256400</td>\n",
       "      <td>4946200</td>\n",
       "      <td>131600</td>\n",
       "      <td>739300</td>\n",
       "      <td>926900</td>\n",
       "      <td>168200</td>\n",
       "      <td>2497100</td>\n",
       "      <td>24650000</td>\n",
       "    </tr>\n",
       "    <tr>\n",
       "      <th>2024-09-11 00:00:00+00:00</th>\n",
       "      <td>89.169998</td>\n",
       "      <td>61.380001</td>\n",
       "      <td>68.099998</td>\n",
       "      <td>65.089996</td>\n",
       "      <td>13.47</td>\n",
       "      <td>7.89</td>\n",
       "      <td>20.959999</td>\n",
       "      <td>290.230011</td>\n",
       "      <td>53.730000</td>\n",
       "      <td>0.0</td>\n",
       "      <td>...</td>\n",
       "      <td>0.0</td>\n",
       "      <td>293400</td>\n",
       "      <td>1487900</td>\n",
       "      <td>4167500</td>\n",
       "      <td>125600</td>\n",
       "      <td>540300</td>\n",
       "      <td>1288500</td>\n",
       "      <td>282800</td>\n",
       "      <td>2747500</td>\n",
       "      <td>17322000</td>\n",
       "    </tr>\n",
       "    <tr>\n",
       "      <th>2024-09-12 00:00:00+00:00</th>\n",
       "      <td>89.739998</td>\n",
       "      <td>62.200001</td>\n",
       "      <td>69.019997</td>\n",
       "      <td>65.209999</td>\n",
       "      <td>13.51</td>\n",
       "      <td>8.13</td>\n",
       "      <td>20.650000</td>\n",
       "      <td>292.350006</td>\n",
       "      <td>51.570000</td>\n",
       "      <td>0.0</td>\n",
       "      <td>...</td>\n",
       "      <td>0.0</td>\n",
       "      <td>178800</td>\n",
       "      <td>1191200</td>\n",
       "      <td>4084000</td>\n",
       "      <td>192800</td>\n",
       "      <td>406000</td>\n",
       "      <td>1098700</td>\n",
       "      <td>166800</td>\n",
       "      <td>2274700</td>\n",
       "      <td>42605400</td>\n",
       "    </tr>\n",
       "    <tr>\n",
       "      <th>2024-09-13 00:00:00+00:00</th>\n",
       "      <td>92.720001</td>\n",
       "      <td>61.770000</td>\n",
       "      <td>68.699997</td>\n",
       "      <td>66.779999</td>\n",
       "      <td>14.16</td>\n",
       "      <td>8.33</td>\n",
       "      <td>21.139999</td>\n",
       "      <td>296.529999</td>\n",
       "      <td>52.779999</td>\n",
       "      <td>0.0</td>\n",
       "      <td>...</td>\n",
       "      <td>0.0</td>\n",
       "      <td>176400</td>\n",
       "      <td>1850100</td>\n",
       "      <td>3617500</td>\n",
       "      <td>162200</td>\n",
       "      <td>374000</td>\n",
       "      <td>734600</td>\n",
       "      <td>147500</td>\n",
       "      <td>2205500</td>\n",
       "      <td>24762000</td>\n",
       "    </tr>\n",
       "    <tr>\n",
       "      <th>2024-09-16 00:00:00+00:00</th>\n",
       "      <td>93.910004</td>\n",
       "      <td>61.610001</td>\n",
       "      <td>70.529999</td>\n",
       "      <td>68.099998</td>\n",
       "      <td>14.18</td>\n",
       "      <td>7.98</td>\n",
       "      <td>21.150000</td>\n",
       "      <td>296.690002</td>\n",
       "      <td>53.790001</td>\n",
       "      <td>0.0</td>\n",
       "      <td>...</td>\n",
       "      <td>0.0</td>\n",
       "      <td>162700</td>\n",
       "      <td>1456800</td>\n",
       "      <td>3409800</td>\n",
       "      <td>248400</td>\n",
       "      <td>369400</td>\n",
       "      <td>743800</td>\n",
       "      <td>202200</td>\n",
       "      <td>2916200</td>\n",
       "      <td>18066200</td>\n",
       "    </tr>\n",
       "    <tr>\n",
       "      <th>2024-09-17 00:00:00+00:00</th>\n",
       "      <td>92.510002</td>\n",
       "      <td>61.840000</td>\n",
       "      <td>70.809998</td>\n",
       "      <td>67.889999</td>\n",
       "      <td>14.37</td>\n",
       "      <td>8.06</td>\n",
       "      <td>21.350000</td>\n",
       "      <td>293.750000</td>\n",
       "      <td>54.509998</td>\n",
       "      <td>0.0</td>\n",
       "      <td>...</td>\n",
       "      <td>0.0</td>\n",
       "      <td>305900</td>\n",
       "      <td>778000</td>\n",
       "      <td>3263300</td>\n",
       "      <td>221100</td>\n",
       "      <td>408300</td>\n",
       "      <td>832800</td>\n",
       "      <td>147700</td>\n",
       "      <td>2997400</td>\n",
       "      <td>15885200</td>\n",
       "    </tr>\n",
       "    <tr>\n",
       "      <th>2024-09-18 00:00:00+00:00</th>\n",
       "      <td>92.089996</td>\n",
       "      <td>62.279999</td>\n",
       "      <td>71.040001</td>\n",
       "      <td>67.779999</td>\n",
       "      <td>14.81</td>\n",
       "      <td>8.03</td>\n",
       "      <td>21.309999</td>\n",
       "      <td>292.029999</td>\n",
       "      <td>54.259998</td>\n",
       "      <td>0.0</td>\n",
       "      <td>...</td>\n",
       "      <td>0.0</td>\n",
       "      <td>283100</td>\n",
       "      <td>635200</td>\n",
       "      <td>2974900</td>\n",
       "      <td>216000</td>\n",
       "      <td>435600</td>\n",
       "      <td>752600</td>\n",
       "      <td>179700</td>\n",
       "      <td>1788200</td>\n",
       "      <td>20109000</td>\n",
       "    </tr>\n",
       "    <tr>\n",
       "      <th>2024-09-19 00:00:00+00:00</th>\n",
       "      <td>93.980003</td>\n",
       "      <td>64.680000</td>\n",
       "      <td>71.720001</td>\n",
       "      <td>69.099998</td>\n",
       "      <td>14.96</td>\n",
       "      <td>7.87</td>\n",
       "      <td>21.590000</td>\n",
       "      <td>293.850006</td>\n",
       "      <td>55.799999</td>\n",
       "      <td>0.0</td>\n",
       "      <td>...</td>\n",
       "      <td>0.0</td>\n",
       "      <td>301800</td>\n",
       "      <td>760700</td>\n",
       "      <td>3701300</td>\n",
       "      <td>153500</td>\n",
       "      <td>507400</td>\n",
       "      <td>936700</td>\n",
       "      <td>109900</td>\n",
       "      <td>2271400</td>\n",
       "      <td>21399000</td>\n",
       "    </tr>\n",
       "    <tr>\n",
       "      <th>2024-09-20 00:00:00+00:00</th>\n",
       "      <td>93.250000</td>\n",
       "      <td>63.840000</td>\n",
       "      <td>71.820000</td>\n",
       "      <td>67.339996</td>\n",
       "      <td>14.53</td>\n",
       "      <td>7.74</td>\n",
       "      <td>21.180000</td>\n",
       "      <td>296.829987</td>\n",
       "      <td>56.290001</td>\n",
       "      <td>0.0</td>\n",
       "      <td>...</td>\n",
       "      <td>0.0</td>\n",
       "      <td>840800</td>\n",
       "      <td>2188100</td>\n",
       "      <td>8684500</td>\n",
       "      <td>635100</td>\n",
       "      <td>1806300</td>\n",
       "      <td>2426000</td>\n",
       "      <td>1263200</td>\n",
       "      <td>5817300</td>\n",
       "      <td>45276000</td>\n",
       "    </tr>\n",
       "    <tr>\n",
       "      <th>2024-09-23 00:00:00+00:00</th>\n",
       "      <td>94.139999</td>\n",
       "      <td>65.019997</td>\n",
       "      <td>72.139999</td>\n",
       "      <td>66.610001</td>\n",
       "      <td>14.06</td>\n",
       "      <td>7.57</td>\n",
       "      <td>20.959999</td>\n",
       "      <td>299.059998</td>\n",
       "      <td>55.110001</td>\n",
       "      <td>0.0</td>\n",
       "      <td>...</td>\n",
       "      <td>0.0</td>\n",
       "      <td>242400</td>\n",
       "      <td>719100</td>\n",
       "      <td>3634800</td>\n",
       "      <td>185900</td>\n",
       "      <td>607000</td>\n",
       "      <td>625600</td>\n",
       "      <td>205500</td>\n",
       "      <td>2311400</td>\n",
       "      <td>14758900</td>\n",
       "    </tr>\n",
       "  </tbody>\n",
       "</table>\n",
       "<p>20 rows × 63 columns</p>\n",
       "</div>"
      ],
      "text/plain": [
       "Price                          Close                                          \\\n",
       "Ticker                          ASGN        ATI         BK       CASH   CCRN   \n",
       "Date                                                                           \n",
       "2024-08-26 00:00:00+00:00  95.349998  66.150002  67.000000  66.460762  14.94   \n",
       "2024-08-27 00:00:00+00:00  95.260002  65.379997  67.209999  66.190964  14.75   \n",
       "2024-08-28 00:00:00+00:00  95.139999  64.930000  67.000000  66.610657  15.01   \n",
       "2024-08-29 00:00:00+00:00  96.940002  64.510002  67.250000  66.810501  15.11   \n",
       "2024-08-30 00:00:00+00:00  96.160004  63.880001  68.220001  68.769051  14.92   \n",
       "2024-09-03 00:00:00+00:00  92.709999  60.270000  67.889999  68.189484  14.63   \n",
       "2024-09-04 00:00:00+00:00  93.059998  59.790001  67.739998  67.060318  15.05   \n",
       "2024-09-05 00:00:00+00:00  92.019997  59.939999  68.000000  67.330116  14.68   \n",
       "2024-09-06 00:00:00+00:00  89.739998  58.130001  66.410004  67.170242  13.59   \n",
       "2024-09-09 00:00:00+00:00  89.970001  59.220001  67.720001  67.490005  13.77   \n",
       "2024-09-10 00:00:00+00:00  91.300003  59.529999  67.510002  66.040001  13.88   \n",
       "2024-09-11 00:00:00+00:00  89.169998  61.380001  68.099998  65.089996  13.47   \n",
       "2024-09-12 00:00:00+00:00  89.739998  62.200001  69.019997  65.209999  13.51   \n",
       "2024-09-13 00:00:00+00:00  92.720001  61.770000  68.699997  66.779999  14.16   \n",
       "2024-09-16 00:00:00+00:00  93.910004  61.610001  70.529999  68.099998  14.18   \n",
       "2024-09-17 00:00:00+00:00  92.510002  61.840000  70.809998  67.889999  14.37   \n",
       "2024-09-18 00:00:00+00:00  92.089996  62.279999  71.040001  67.779999  14.81   \n",
       "2024-09-19 00:00:00+00:00  93.980003  64.680000  71.720001  69.099998  14.96   \n",
       "2024-09-20 00:00:00+00:00  93.250000  63.840000  71.820000  67.339996  14.53   \n",
       "2024-09-23 00:00:00+00:00  94.139999  65.019997  72.139999  66.610001  14.06   \n",
       "\n",
       "Price                                                             Dividends  \\\n",
       "Ticker                     HAIN      KELYA         MCD        WFC      ASGN   \n",
       "Date                                                                          \n",
       "2024-08-26 00:00:00+00:00  6.83  20.910000  287.009888  56.720001       0.0   \n",
       "2024-08-27 00:00:00+00:00  8.10  20.799999  287.964355  56.259998       0.0   \n",
       "2024-08-28 00:00:00+00:00  8.26  20.830000  285.389313  57.070000       0.0   \n",
       "2024-08-29 00:00:00+00:00  7.98  21.080000  286.194611  57.349998       0.0   \n",
       "2024-08-30 00:00:00+00:00  8.00  21.110001  286.990021  58.470001       0.0   \n",
       "2024-09-03 00:00:00+00:00  8.32  20.629999  285.519989  58.369999       0.0   \n",
       "2024-09-04 00:00:00+00:00  8.50  20.740000  288.029999  58.119999       0.0   \n",
       "2024-09-05 00:00:00+00:00  8.59  20.540001  287.970001  56.860001       0.0   \n",
       "2024-09-06 00:00:00+00:00  8.47  20.010000  289.510010  54.000000       0.0   \n",
       "2024-09-09 00:00:00+00:00  8.33  20.180000  291.290009  54.590000       0.0   \n",
       "2024-09-10 00:00:00+00:00  7.81  20.540001  291.269989  53.950001       0.0   \n",
       "2024-09-11 00:00:00+00:00  7.89  20.959999  290.230011  53.730000       0.0   \n",
       "2024-09-12 00:00:00+00:00  8.13  20.650000  292.350006  51.570000       0.0   \n",
       "2024-09-13 00:00:00+00:00  8.33  21.139999  296.529999  52.779999       0.0   \n",
       "2024-09-16 00:00:00+00:00  7.98  21.150000  296.690002  53.790001       0.0   \n",
       "2024-09-17 00:00:00+00:00  8.06  21.350000  293.750000  54.509998       0.0   \n",
       "2024-09-18 00:00:00+00:00  8.03  21.309999  292.029999  54.259998       0.0   \n",
       "2024-09-19 00:00:00+00:00  7.87  21.590000  293.850006  55.799999       0.0   \n",
       "2024-09-20 00:00:00+00:00  7.74  21.180000  296.829987  56.290001       0.0   \n",
       "2024-09-23 00:00:00+00:00  7.57  20.959999  299.059998  55.110001       0.0   \n",
       "\n",
       "Price                      ... Stock Splits  Volume                            \\\n",
       "Ticker                     ...          WFC    ASGN      ATI       BK    CASH   \n",
       "Date                       ...                                                  \n",
       "2024-08-26 00:00:00+00:00  ...          0.0  165300   502000  2440600  138400   \n",
       "2024-08-27 00:00:00+00:00  ...          0.0  244800   660000  2541900   97600   \n",
       "2024-08-28 00:00:00+00:00  ...          0.0  239700   460300  3393700   80000   \n",
       "2024-08-29 00:00:00+00:00  ...          0.0  309200   717600  2485600  134500   \n",
       "2024-08-30 00:00:00+00:00  ...          0.0  773300  1249400  4352000  493600   \n",
       "2024-09-03 00:00:00+00:00  ...          0.0  241400  1937600  3259200  140400   \n",
       "2024-09-04 00:00:00+00:00  ...          0.0  168200  6472200  2942700   90700   \n",
       "2024-09-05 00:00:00+00:00  ...          0.0  209100  3058700  3850100  132700   \n",
       "2024-09-06 00:00:00+00:00  ...          0.0  224500  2498700  4114900  201100   \n",
       "2024-09-09 00:00:00+00:00  ...          0.0  300000  2083200  4495600  148400   \n",
       "2024-09-10 00:00:00+00:00  ...          0.0  314800  1256400  4946200  131600   \n",
       "2024-09-11 00:00:00+00:00  ...          0.0  293400  1487900  4167500  125600   \n",
       "2024-09-12 00:00:00+00:00  ...          0.0  178800  1191200  4084000  192800   \n",
       "2024-09-13 00:00:00+00:00  ...          0.0  176400  1850100  3617500  162200   \n",
       "2024-09-16 00:00:00+00:00  ...          0.0  162700  1456800  3409800  248400   \n",
       "2024-09-17 00:00:00+00:00  ...          0.0  305900   778000  3263300  221100   \n",
       "2024-09-18 00:00:00+00:00  ...          0.0  283100   635200  2974900  216000   \n",
       "2024-09-19 00:00:00+00:00  ...          0.0  301800   760700  3701300  153500   \n",
       "2024-09-20 00:00:00+00:00  ...          0.0  840800  2188100  8684500  635100   \n",
       "2024-09-23 00:00:00+00:00  ...          0.0  242400   719100  3634800  185900   \n",
       "\n",
       "Price                                                                     \n",
       "Ticker                        CCRN      HAIN    KELYA      MCD       WFC  \n",
       "Date                                                                      \n",
       "2024-08-26 00:00:00+00:00   349000   2153000   124300  2018500   9478800  \n",
       "2024-08-27 00:00:00+00:00   341900  11604400    92400  2897600   7638500  \n",
       "2024-08-28 00:00:00+00:00   334200   4142100   143200  2603800  11905200  \n",
       "2024-08-29 00:00:00+00:00   328900   2259700   115300  1797100   9283300  \n",
       "2024-08-30 00:00:00+00:00   333700   1264300    94600  2528500  20377300  \n",
       "2024-09-03 00:00:00+00:00   453100   1731200   133300  2902800  15933600  \n",
       "2024-09-04 00:00:00+00:00   392900   1248900   118300  2558300  10985800  \n",
       "2024-09-05 00:00:00+00:00   442000   1257900   135400  2412500  18301000  \n",
       "2024-09-06 00:00:00+00:00   660100    760300   132700  3863600  21853800  \n",
       "2024-09-09 00:00:00+00:00   665900   1284300   240200  3208600  17134800  \n",
       "2024-09-10 00:00:00+00:00   739300    926900   168200  2497100  24650000  \n",
       "2024-09-11 00:00:00+00:00   540300   1288500   282800  2747500  17322000  \n",
       "2024-09-12 00:00:00+00:00   406000   1098700   166800  2274700  42605400  \n",
       "2024-09-13 00:00:00+00:00   374000    734600   147500  2205500  24762000  \n",
       "2024-09-16 00:00:00+00:00   369400    743800   202200  2916200  18066200  \n",
       "2024-09-17 00:00:00+00:00   408300    832800   147700  2997400  15885200  \n",
       "2024-09-18 00:00:00+00:00   435600    752600   179700  1788200  20109000  \n",
       "2024-09-19 00:00:00+00:00   507400    936700   109900  2271400  21399000  \n",
       "2024-09-20 00:00:00+00:00  1806300   2426000  1263200  5817300  45276000  \n",
       "2024-09-23 00:00:00+00:00   607000    625600   205500  2311400  14758900  \n",
       "\n",
       "[20 rows x 63 columns]"
      ]
     },
     "execution_count": 36,
     "metadata": {},
     "output_type": "execute_result"
    }
   ],
   "source": [
    "TENST.history()"
   ]
  },
  {
   "cell_type": "code",
   "execution_count": 37,
   "id": "c8c3c3d9-99c5-468d-9ea0-f88c0cc81b69",
   "metadata": {},
   "outputs": [
    {
     "data": {
      "text/html": [
       "<div>\n",
       "<style scoped>\n",
       "    .dataframe tbody tr th:only-of-type {\n",
       "        vertical-align: middle;\n",
       "    }\n",
       "\n",
       "    .dataframe tbody tr th {\n",
       "        vertical-align: top;\n",
       "    }\n",
       "\n",
       "    .dataframe thead th {\n",
       "        text-align: right;\n",
       "    }\n",
       "</style>\n",
       "<table border=\"1\" class=\"dataframe\">\n",
       "  <thead>\n",
       "    <tr style=\"text-align: right;\">\n",
       "      <th>Ticker</th>\n",
       "      <th>ASGN</th>\n",
       "      <th>ATI</th>\n",
       "      <th>BK</th>\n",
       "      <th>CASH</th>\n",
       "      <th>CCRN</th>\n",
       "      <th>HAIN</th>\n",
       "      <th>KELYA</th>\n",
       "      <th>MCD</th>\n",
       "      <th>WFC</th>\n",
       "    </tr>\n",
       "    <tr>\n",
       "      <th>Date</th>\n",
       "      <th></th>\n",
       "      <th></th>\n",
       "      <th></th>\n",
       "      <th></th>\n",
       "      <th></th>\n",
       "      <th></th>\n",
       "      <th></th>\n",
       "      <th></th>\n",
       "      <th></th>\n",
       "    </tr>\n",
       "  </thead>\n",
       "  <tbody>\n",
       "    <tr>\n",
       "      <th>2018-01-02 00:00:00+00:00</th>\n",
       "      <td>63.360001</td>\n",
       "      <td>25.620001</td>\n",
       "      <td>53.820000</td>\n",
       "      <td>30.833332</td>\n",
       "      <td>12.92</td>\n",
       "      <td>41.950001</td>\n",
       "      <td>27.379999</td>\n",
       "      <td>173.220001</td>\n",
       "      <td>61.090000</td>\n",
       "    </tr>\n",
       "    <tr>\n",
       "      <th>2018-01-03 00:00:00+00:00</th>\n",
       "      <td>63.110001</td>\n",
       "      <td>26.110001</td>\n",
       "      <td>54.150002</td>\n",
       "      <td>30.083332</td>\n",
       "      <td>12.39</td>\n",
       "      <td>40.919998</td>\n",
       "      <td>27.580000</td>\n",
       "      <td>172.490005</td>\n",
       "      <td>61.560001</td>\n",
       "    </tr>\n",
       "    <tr>\n",
       "      <th>2018-01-04 00:00:00+00:00</th>\n",
       "      <td>64.190002</td>\n",
       "      <td>26.639999</td>\n",
       "      <td>54.689999</td>\n",
       "      <td>29.783333</td>\n",
       "      <td>12.46</td>\n",
       "      <td>40.599998</td>\n",
       "      <td>27.690001</td>\n",
       "      <td>173.699997</td>\n",
       "      <td>62.330002</td>\n",
       "    </tr>\n",
       "    <tr>\n",
       "      <th>2018-01-05 00:00:00+00:00</th>\n",
       "      <td>65.250000</td>\n",
       "      <td>26.670000</td>\n",
       "      <td>54.830002</td>\n",
       "      <td>30.049999</td>\n",
       "      <td>12.56</td>\n",
       "      <td>40.509998</td>\n",
       "      <td>27.820000</td>\n",
       "      <td>174.050003</td>\n",
       "      <td>62.750000</td>\n",
       "    </tr>\n",
       "    <tr>\n",
       "      <th>2018-01-08 00:00:00+00:00</th>\n",
       "      <td>67.940002</td>\n",
       "      <td>27.260000</td>\n",
       "      <td>55.060001</td>\n",
       "      <td>30.450001</td>\n",
       "      <td>12.64</td>\n",
       "      <td>41.070000</td>\n",
       "      <td>27.980000</td>\n",
       "      <td>173.929993</td>\n",
       "      <td>62.040001</td>\n",
       "    </tr>\n",
       "    <tr>\n",
       "      <th>...</th>\n",
       "      <td>...</td>\n",
       "      <td>...</td>\n",
       "      <td>...</td>\n",
       "      <td>...</td>\n",
       "      <td>...</td>\n",
       "      <td>...</td>\n",
       "      <td>...</td>\n",
       "      <td>...</td>\n",
       "      <td>...</td>\n",
       "    </tr>\n",
       "    <tr>\n",
       "      <th>2019-12-23 00:00:00+00:00</th>\n",
       "      <td>70.190002</td>\n",
       "      <td>21.139999</td>\n",
       "      <td>50.369999</td>\n",
       "      <td>35.110001</td>\n",
       "      <td>11.64</td>\n",
       "      <td>25.780001</td>\n",
       "      <td>22.790001</td>\n",
       "      <td>196.199997</td>\n",
       "      <td>53.810001</td>\n",
       "    </tr>\n",
       "    <tr>\n",
       "      <th>2019-12-24 00:00:00+00:00</th>\n",
       "      <td>70.800003</td>\n",
       "      <td>21.000000</td>\n",
       "      <td>50.349998</td>\n",
       "      <td>35.189999</td>\n",
       "      <td>11.62</td>\n",
       "      <td>25.740000</td>\n",
       "      <td>22.730000</td>\n",
       "      <td>196.669998</td>\n",
       "      <td>53.820000</td>\n",
       "    </tr>\n",
       "    <tr>\n",
       "      <th>2019-12-26 00:00:00+00:00</th>\n",
       "      <td>71.150002</td>\n",
       "      <td>20.830000</td>\n",
       "      <td>50.490002</td>\n",
       "      <td>35.560001</td>\n",
       "      <td>11.66</td>\n",
       "      <td>25.639999</td>\n",
       "      <td>22.280001</td>\n",
       "      <td>197.059998</td>\n",
       "      <td>54.150002</td>\n",
       "    </tr>\n",
       "    <tr>\n",
       "      <th>2019-12-27 00:00:00+00:00</th>\n",
       "      <td>71.150002</td>\n",
       "      <td>20.990000</td>\n",
       "      <td>50.320000</td>\n",
       "      <td>35.480000</td>\n",
       "      <td>11.55</td>\n",
       "      <td>25.580000</td>\n",
       "      <td>22.209999</td>\n",
       "      <td>198.169998</td>\n",
       "      <td>53.919998</td>\n",
       "    </tr>\n",
       "    <tr>\n",
       "      <th>2019-12-30 00:00:00+00:00</th>\n",
       "      <td>71.669998</td>\n",
       "      <td>20.520000</td>\n",
       "      <td>50.180000</td>\n",
       "      <td>35.709999</td>\n",
       "      <td>11.51</td>\n",
       "      <td>25.530001</td>\n",
       "      <td>22.299999</td>\n",
       "      <td>196.910004</td>\n",
       "      <td>53.599998</td>\n",
       "    </tr>\n",
       "  </tbody>\n",
       "</table>\n",
       "<p>502 rows × 9 columns</p>\n",
       "</div>"
      ],
      "text/plain": [
       "Ticker                          ASGN        ATI         BK       CASH   CCRN  \\\n",
       "Date                                                                           \n",
       "2018-01-02 00:00:00+00:00  63.360001  25.620001  53.820000  30.833332  12.92   \n",
       "2018-01-03 00:00:00+00:00  63.110001  26.110001  54.150002  30.083332  12.39   \n",
       "2018-01-04 00:00:00+00:00  64.190002  26.639999  54.689999  29.783333  12.46   \n",
       "2018-01-05 00:00:00+00:00  65.250000  26.670000  54.830002  30.049999  12.56   \n",
       "2018-01-08 00:00:00+00:00  67.940002  27.260000  55.060001  30.450001  12.64   \n",
       "...                              ...        ...        ...        ...    ...   \n",
       "2019-12-23 00:00:00+00:00  70.190002  21.139999  50.369999  35.110001  11.64   \n",
       "2019-12-24 00:00:00+00:00  70.800003  21.000000  50.349998  35.189999  11.62   \n",
       "2019-12-26 00:00:00+00:00  71.150002  20.830000  50.490002  35.560001  11.66   \n",
       "2019-12-27 00:00:00+00:00  71.150002  20.990000  50.320000  35.480000  11.55   \n",
       "2019-12-30 00:00:00+00:00  71.669998  20.520000  50.180000  35.709999  11.51   \n",
       "\n",
       "Ticker                          HAIN      KELYA         MCD        WFC  \n",
       "Date                                                                    \n",
       "2018-01-02 00:00:00+00:00  41.950001  27.379999  173.220001  61.090000  \n",
       "2018-01-03 00:00:00+00:00  40.919998  27.580000  172.490005  61.560001  \n",
       "2018-01-04 00:00:00+00:00  40.599998  27.690001  173.699997  62.330002  \n",
       "2018-01-05 00:00:00+00:00  40.509998  27.820000  174.050003  62.750000  \n",
       "2018-01-08 00:00:00+00:00  41.070000  27.980000  173.929993  62.040001  \n",
       "...                              ...        ...         ...        ...  \n",
       "2019-12-23 00:00:00+00:00  25.780001  22.790001  196.199997  53.810001  \n",
       "2019-12-24 00:00:00+00:00  25.740000  22.730000  196.669998  53.820000  \n",
       "2019-12-26 00:00:00+00:00  25.639999  22.280001  197.059998  54.150002  \n",
       "2019-12-27 00:00:00+00:00  25.580000  22.209999  198.169998  53.919998  \n",
       "2019-12-30 00:00:00+00:00  25.530001  22.299999  196.910004  53.599998  \n",
       "\n",
       "[502 rows x 9 columns]"
      ]
     },
     "execution_count": 37,
     "metadata": {},
     "output_type": "execute_result"
    }
   ],
   "source": [
    "df.Close      # Choosing a particular column "
   ]
  },
  {
   "cell_type": "code",
   "execution_count": 38,
   "id": "a3c06813-f709-4741-968f-ae9a394a3ebe",
   "metadata": {},
   "outputs": [
    {
     "name": "stdout",
     "output_type": "stream",
     "text": [
      "Requirement already satisfied: openpyxl in c:\\users\\v3_ag\\appdata\\local\\programs\\python\\python312\\lib\\site-packages (3.1.5)\n",
      "Requirement already satisfied: et-xmlfile in c:\\users\\v3_ag\\appdata\\local\\programs\\python\\python312\\lib\\site-packages (from openpyxl) (1.1.0)\n"
     ]
    }
   ],
   "source": [
    "!pip install openpyxl"
   ]
  },
  {
   "cell_type": "code",
   "execution_count": 39,
   "id": "24b64e72-f7f2-4a15-b740-a8933195b0d7",
   "metadata": {},
   "outputs": [],
   "source": [
    "import pandas as pd\n",
    "import numpy as np\n",
    "from datetime import date, datetime, timedelta\n",
    "import statsmodels.api as sm\n",
    "import yfinance as yf\n",
    "import pandas_datareader as pdr"
   ]
  },
  {
   "cell_type": "code",
   "execution_count": 40,
   "id": "42523107-38f7-4c08-bd0c-747ff7fbcd60",
   "metadata": {},
   "outputs": [],
   "source": [
    "file = \"CEO Dismissal Data 2021.02.03.xlsx\" # Can paste the full path here in front of the file name\n",
    "x1 = pd.ExcelFile(file)"
   ]
  },
  {
   "cell_type": "markdown",
   "id": "bfc65dba-e774-407f-a641-b4962347e6fc",
   "metadata": {},
   "source": [
    "### Pre-Event"
   ]
  },
  {
   "cell_type": "code",
   "execution_count": 41,
   "id": "88a77d60-b155-4ab0-b4ac-86477d271f9e",
   "metadata": {},
   "outputs": [
    {
     "data": {
      "text/plain": [
       "datetime.datetime(2018, 10, 30, 0, 0)"
      ]
     },
     "execution_count": 41,
     "metadata": {},
     "output_type": "execute_result"
    }
   ],
   "source": [
    "date_CASH = datetime(2018,10,30)   # Find it in the spreadsheet\n",
    "date_CASH"
   ]
  },
  {
   "cell_type": "code",
   "execution_count": 42,
   "id": "5296a703-88a2-4fca-bc3a-97710e29c860",
   "metadata": {},
   "outputs": [
    {
     "name": "stdout",
     "output_type": "stream",
     "text": [
      "51 50\n"
     ]
    }
   ],
   "source": [
    "w1_start   = date_CASH - timedelta(75)\n",
    "w1_end     = date_CASH - timedelta(1)\n",
    "df1_CASH    = yf.download('CASH', start=w1_start, end=w1_end, progress=False)['Adj Close']\n",
    "df1_SP1500 = yf.download('^SP1500', start=w1_start, end=w1_end, progress=False)['Adj Close']\n",
    "\n",
    "\n",
    "print(len(df1_CASH), len(df1_SP1500 ))                       # CASH is the code of Meta；SP1500 is the Market Index; Adj Close is adjusted price"
   ]
  },
  {
   "cell_type": "code",
   "execution_count": 43,
   "id": "0485d0a0-6df3-4012-8420-8c3163ebfa7a",
   "metadata": {},
   "outputs": [
    {
     "name": "stdout",
     "output_type": "stream",
     "text": [
      "49 49\n",
      "0.34580656247761754\n"
     ]
    }
   ],
   "source": [
    "# Calculate the percentage changes\n",
    "r1_CASH = df1_CASH.pct_change().dropna() * 100\n",
    "r1_SP1500 = df1_SP1500.pct_change().dropna() * 100\n",
    "\n",
    "# Align the indices\n",
    "aligned_data = pd.concat([r1_CASH, r1_SP1500], axis=1).dropna()\n",
    "r1_CASH_aligned = aligned_data.iloc[:, 0]\n",
    "r1_SP1500_aligned = aligned_data.iloc[:, 1]\n",
    "\n",
    "# Check the lengths of the aligned series\n",
    "print(len(r1_CASH_aligned), len(r1_SP1500_aligned))\n",
    "\n",
    "# Calculate the covariance and variance\n",
    "cov1_CASH = np.cov(r1_CASH_aligned, r1_SP1500_aligned)[0, 1]\n",
    "var1_mkt = np.var(r1_SP1500_aligned)\n",
    "\n",
    "# Calculate the beta\n",
    "beta1_CASH = cov1_CASH / var1_mkt\n",
    "print(beta1_CASH)"
   ]
  },
  {
   "cell_type": "code",
   "execution_count": 44,
   "id": "39950923-d77d-4280-9023-521501997976",
   "metadata": {},
   "outputs": [
    {
     "data": {
      "text/plain": [
       "Date\n",
       "2018-10-22   -2.084193\n",
       "2018-10-23   -0.626047\n",
       "2018-10-24   -3.443906\n",
       "2018-10-25    2.435832\n",
       "2018-10-26    0.594484\n",
       "Name: Adj Close, dtype: float64"
      ]
     },
     "execution_count": 44,
     "metadata": {},
     "output_type": "execute_result"
    }
   ],
   "source": [
    "r1_CASH.tail()"
   ]
  },
  {
   "cell_type": "code",
   "execution_count": 45,
   "id": "e3f48533-fe38-44ae-ac62-21542c8b10e4",
   "metadata": {},
   "outputs": [
    {
     "data": {
      "text/plain": [
       "np.float64(-0.3183245120947684)"
      ]
     },
     "execution_count": 45,
     "metadata": {},
     "output_type": "execute_result"
    }
   ],
   "source": [
    "abr1_CASH = r1_CASH -  beta1_CASH * r1_SP1500\n",
    "abr1_CASH.mean()"
   ]
  },
  {
   "cell_type": "markdown",
   "id": "67a21bc5-cc91-4b8e-a22f-ad7e59c9673f",
   "metadata": {},
   "source": [
    "### Post-Event"
   ]
  },
  {
   "cell_type": "code",
   "execution_count": 52,
   "id": "b4cce153-fe40-4171-b07b-895f17cf1e4d",
   "metadata": {},
   "outputs": [
    {
     "name": "stdout",
     "output_type": "stream",
     "text": [
      "55 51\n"
     ]
    }
   ],
   "source": [
    "w2_start = date_CASH+timedelta(1)\n",
    "w2_end = date_CASH+timedelta(85)\n",
    "df2_CASH = yf.download('CASH', start=w2_start, end=w2_end, progress=False)['Adj Close']\n",
    "df2_SP1500 = yf.download('^SP1500', start=w2_start, end=w2_end, progress=False)['Adj Close']\n",
    "print(len(df2_CASH), len(df2_SP1500 ))"
   ]
  },
  {
   "cell_type": "code",
   "execution_count": 53,
   "id": "cf8e9715-1807-4d31-9abe-9d30db766c63",
   "metadata": {},
   "outputs": [
    {
     "name": "stdout",
     "output_type": "stream",
     "text": [
      "50 50\n",
      "0.835245456026178\n"
     ]
    }
   ],
   "source": [
    "# Calculate the percentage changes\n",
    "r2_CASH = df2_CASH.pct_change().dropna() * 100\n",
    "r2_SP1500 = df2_SP1500.pct_change().dropna() * 100\n",
    "\n",
    "# Align the indices\n",
    "aligned_data = pd.concat([r2_CASH, r2_SP1500], axis=1).dropna()\n",
    "r2_CASH_aligned = aligned_data.iloc[:, 0]\n",
    "r2_SP1500_aligned = aligned_data.iloc[:, 1]\n",
    "\n",
    "# Check the lengths of the aligned series\n",
    "print(len(r2_CASH_aligned), len(r2_SP1500_aligned))\n",
    "\n",
    "# Calculate the covariance and variance\n",
    "cov2_CASH = np.cov(r2_CASH_aligned, r2_SP1500_aligned)[0, 1]\n",
    "var2_mkt = np.var(r2_SP1500_aligned)\n",
    "\n",
    "# Calculate the beta\n",
    "beta2_CASH = cov2_CASH / var2_mkt\n",
    "print(beta2_CASH)"
   ]
  },
  {
   "cell_type": "code",
   "execution_count": 54,
   "id": "59175272-54a4-46aa-9aaf-3988eb137e1e",
   "metadata": {},
   "outputs": [
    {
     "data": {
      "text/plain": [
       "Date\n",
       "2018-11-01   -0.950841\n",
       "2018-11-02    0.039984\n",
       "2018-11-05   -1.519397\n",
       "2018-11-06    3.166854\n",
       "2018-11-07    1.101928\n",
       "Name: Adj Close, dtype: float64"
      ]
     },
     "execution_count": 54,
     "metadata": {},
     "output_type": "execute_result"
    }
   ],
   "source": [
    "r2_CASH.head()"
   ]
  },
  {
   "cell_type": "code",
   "execution_count": 55,
   "id": "911147df-450c-4e04-acc9-9cdfcbab7857",
   "metadata": {},
   "outputs": [
    {
     "data": {
      "text/plain": [
       "np.float64(-0.2944128254010507)"
      ]
     },
     "execution_count": 55,
     "metadata": {},
     "output_type": "execute_result"
    }
   ],
   "source": [
    "abr2_CASH = r2_CASH -  beta2_CASH * r2_SP1500\n",
    "abr2_CASH.mean()"
   ]
  },
  {
   "cell_type": "code",
   "execution_count": 56,
   "id": "ef7ee406-3d52-454b-9cfb-4086175e6cd3",
   "metadata": {},
   "outputs": [
    {
     "name": "stdout",
     "output_type": "stream",
     "text": [
      "Abnormal returns change from -0.32 to -0.29.\n"
     ]
    }
   ],
   "source": [
    "print(f'Abnormal returns change from {abr1_CASH.mean():.2f} to {abr2_CASH.mean():.2f}.')"
   ]
  },
  {
   "cell_type": "code",
   "execution_count": null,
   "id": "8c9149de-3e45-47be-b262-337e56fd7741",
   "metadata": {},
   "outputs": [],
   "source": []
  },
  {
   "cell_type": "markdown",
   "id": "17e6bdd7-e83f-4942-b2c8-8002093f8b4b",
   "metadata": {},
   "source": [
    "### Libraries and Data"
   ]
  },
  {
   "cell_type": "code",
   "execution_count": 119,
   "id": "a0f3d700",
   "metadata": {},
   "outputs": [],
   "source": [
    "#!pip install matplotlib\n",
    "import matplotlib.pyplot as plt\n",
    "plt.rcParams['figure.dpi']=300      "
   ]
  },
  {
   "cell_type": "code",
   "execution_count": 120,
   "id": "730463e7",
   "metadata": {},
   "outputs": [],
   "source": [
    "import pandas as pd\n",
    "import yfinance as yf"
   ]
  },
  {
   "cell_type": "code",
   "execution_count": 121,
   "id": "ee47d3d5",
   "metadata": {},
   "outputs": [],
   "source": [
    "df = yf.download([\"BK\"],\n",
    "                 start=\"2019-01-01\",\n",
    "                 end=\"2019-12-31\",\n",
    "                progress=False)"
   ]
  },
  {
   "cell_type": "code",
   "execution_count": 122,
   "id": "a7254f3c",
   "metadata": {},
   "outputs": [
    {
     "data": {
      "text/html": [
       "<div>\n",
       "<style scoped>\n",
       "    .dataframe tbody tr th:only-of-type {\n",
       "        vertical-align: middle;\n",
       "    }\n",
       "\n",
       "    .dataframe tbody tr th {\n",
       "        vertical-align: top;\n",
       "    }\n",
       "\n",
       "    .dataframe thead th {\n",
       "        text-align: right;\n",
       "    }\n",
       "</style>\n",
       "<table border=\"1\" class=\"dataframe\">\n",
       "  <thead>\n",
       "    <tr style=\"text-align: right;\">\n",
       "      <th></th>\n",
       "      <th>Open</th>\n",
       "      <th>High</th>\n",
       "      <th>Low</th>\n",
       "      <th>Close</th>\n",
       "      <th>Adj Close</th>\n",
       "      <th>Volume</th>\n",
       "    </tr>\n",
       "    <tr>\n",
       "      <th>Date</th>\n",
       "      <th></th>\n",
       "      <th></th>\n",
       "      <th></th>\n",
       "      <th></th>\n",
       "      <th></th>\n",
       "      <th></th>\n",
       "    </tr>\n",
       "  </thead>\n",
       "  <tbody>\n",
       "    <tr>\n",
       "      <th>2019-01-02</th>\n",
       "      <td>46.549999</td>\n",
       "      <td>47.549999</td>\n",
       "      <td>46.410000</td>\n",
       "      <td>47.500000</td>\n",
       "      <td>39.959984</td>\n",
       "      <td>4229500</td>\n",
       "    </tr>\n",
       "    <tr>\n",
       "      <th>2019-01-03</th>\n",
       "      <td>47.340000</td>\n",
       "      <td>47.380001</td>\n",
       "      <td>46.490002</td>\n",
       "      <td>46.560001</td>\n",
       "      <td>39.169197</td>\n",
       "      <td>4415700</td>\n",
       "    </tr>\n",
       "    <tr>\n",
       "      <th>2019-01-04</th>\n",
       "      <td>47.380001</td>\n",
       "      <td>47.970001</td>\n",
       "      <td>46.910000</td>\n",
       "      <td>47.910000</td>\n",
       "      <td>40.304893</td>\n",
       "      <td>4881500</td>\n",
       "    </tr>\n",
       "    <tr>\n",
       "      <th>2019-01-07</th>\n",
       "      <td>47.650002</td>\n",
       "      <td>48.330002</td>\n",
       "      <td>47.259998</td>\n",
       "      <td>47.799999</td>\n",
       "      <td>40.212364</td>\n",
       "      <td>4223100</td>\n",
       "    </tr>\n",
       "    <tr>\n",
       "      <th>2019-01-08</th>\n",
       "      <td>48.080002</td>\n",
       "      <td>48.209999</td>\n",
       "      <td>47.020000</td>\n",
       "      <td>47.619999</td>\n",
       "      <td>40.060936</td>\n",
       "      <td>4594500</td>\n",
       "    </tr>\n",
       "    <tr>\n",
       "      <th>...</th>\n",
       "      <td>...</td>\n",
       "      <td>...</td>\n",
       "      <td>...</td>\n",
       "      <td>...</td>\n",
       "      <td>...</td>\n",
       "      <td>...</td>\n",
       "    </tr>\n",
       "    <tr>\n",
       "      <th>2019-12-23</th>\n",
       "      <td>50.650002</td>\n",
       "      <td>50.700001</td>\n",
       "      <td>50.090000</td>\n",
       "      <td>50.369999</td>\n",
       "      <td>43.417088</td>\n",
       "      <td>2084400</td>\n",
       "    </tr>\n",
       "    <tr>\n",
       "      <th>2019-12-24</th>\n",
       "      <td>50.389999</td>\n",
       "      <td>50.470001</td>\n",
       "      <td>50.169998</td>\n",
       "      <td>50.349998</td>\n",
       "      <td>43.399853</td>\n",
       "      <td>763700</td>\n",
       "    </tr>\n",
       "    <tr>\n",
       "      <th>2019-12-26</th>\n",
       "      <td>50.459999</td>\n",
       "      <td>50.650002</td>\n",
       "      <td>50.290001</td>\n",
       "      <td>50.490002</td>\n",
       "      <td>43.520527</td>\n",
       "      <td>1211700</td>\n",
       "    </tr>\n",
       "    <tr>\n",
       "      <th>2019-12-27</th>\n",
       "      <td>50.529999</td>\n",
       "      <td>50.639999</td>\n",
       "      <td>50.169998</td>\n",
       "      <td>50.320000</td>\n",
       "      <td>43.373993</td>\n",
       "      <td>1859200</td>\n",
       "    </tr>\n",
       "    <tr>\n",
       "      <th>2019-12-30</th>\n",
       "      <td>50.540001</td>\n",
       "      <td>50.709999</td>\n",
       "      <td>50.090000</td>\n",
       "      <td>50.180000</td>\n",
       "      <td>43.253323</td>\n",
       "      <td>3458200</td>\n",
       "    </tr>\n",
       "  </tbody>\n",
       "</table>\n",
       "<p>251 rows × 6 columns</p>\n",
       "</div>"
      ],
      "text/plain": [
       "                 Open       High        Low      Close  Adj Close   Volume\n",
       "Date                                                                      \n",
       "2019-01-02  46.549999  47.549999  46.410000  47.500000  39.959984  4229500\n",
       "2019-01-03  47.340000  47.380001  46.490002  46.560001  39.169197  4415700\n",
       "2019-01-04  47.380001  47.970001  46.910000  47.910000  40.304893  4881500\n",
       "2019-01-07  47.650002  48.330002  47.259998  47.799999  40.212364  4223100\n",
       "2019-01-08  48.080002  48.209999  47.020000  47.619999  40.060936  4594500\n",
       "...               ...        ...        ...        ...        ...      ...\n",
       "2019-12-23  50.650002  50.700001  50.090000  50.369999  43.417088  2084400\n",
       "2019-12-24  50.389999  50.470001  50.169998  50.349998  43.399853   763700\n",
       "2019-12-26  50.459999  50.650002  50.290001  50.490002  43.520527  1211700\n",
       "2019-12-27  50.529999  50.639999  50.169998  50.320000  43.373993  1859200\n",
       "2019-12-30  50.540001  50.709999  50.090000  50.180000  43.253323  3458200\n",
       "\n",
       "[251 rows x 6 columns]"
      ]
     },
     "execution_count": 122,
     "metadata": {},
     "output_type": "execute_result"
    }
   ],
   "source": [
    "df"
   ]
  },
  {
   "cell_type": "code",
   "execution_count": 123,
   "id": "74f760fc",
   "metadata": {},
   "outputs": [
    {
     "data": {
      "text/plain": [
       "Date\n",
       "2019-01-02    47.500000\n",
       "2019-01-03    46.560001\n",
       "2019-01-04    47.910000\n",
       "2019-01-07    47.799999\n",
       "2019-01-08    47.619999\n",
       "                ...    \n",
       "2019-12-23    50.369999\n",
       "2019-12-24    50.349998\n",
       "2019-12-26    50.490002\n",
       "2019-12-27    50.320000\n",
       "2019-12-30    50.180000\n",
       "Name: Close, Length: 251, dtype: float64"
      ]
     },
     "execution_count": 123,
     "metadata": {},
     "output_type": "execute_result"
    }
   ],
   "source": [
    "df.Close"
   ]
  },
  {
   "cell_type": "code",
   "execution_count": 124,
   "id": "36ccd5fd",
   "metadata": {},
   "outputs": [],
   "source": [
    "df.to_csv('CEO BK.csv') "
   ]
  },
  {
   "cell_type": "code",
   "execution_count": 125,
   "id": "c29db79d",
   "metadata": {},
   "outputs": [
    {
     "data": {
      "text/html": [
       "<div>\n",
       "<style scoped>\n",
       "    .dataframe tbody tr th:only-of-type {\n",
       "        vertical-align: middle;\n",
       "    }\n",
       "\n",
       "    .dataframe tbody tr th {\n",
       "        vertical-align: top;\n",
       "    }\n",
       "\n",
       "    .dataframe thead th {\n",
       "        text-align: right;\n",
       "    }\n",
       "</style>\n",
       "<table border=\"1\" class=\"dataframe\">\n",
       "  <thead>\n",
       "    <tr style=\"text-align: right;\">\n",
       "      <th></th>\n",
       "      <th>Date</th>\n",
       "      <th>Open</th>\n",
       "      <th>High</th>\n",
       "      <th>Low</th>\n",
       "      <th>Close</th>\n",
       "      <th>Adj Close</th>\n",
       "      <th>Volume</th>\n",
       "    </tr>\n",
       "  </thead>\n",
       "  <tbody>\n",
       "    <tr>\n",
       "      <th>0</th>\n",
       "      <td>2019-01-02</td>\n",
       "      <td>46.549999</td>\n",
       "      <td>47.549999</td>\n",
       "      <td>46.410000</td>\n",
       "      <td>47.500000</td>\n",
       "      <td>39.959984</td>\n",
       "      <td>4229500</td>\n",
       "    </tr>\n",
       "    <tr>\n",
       "      <th>1</th>\n",
       "      <td>2019-01-03</td>\n",
       "      <td>47.340000</td>\n",
       "      <td>47.380001</td>\n",
       "      <td>46.490002</td>\n",
       "      <td>46.560001</td>\n",
       "      <td>39.169197</td>\n",
       "      <td>4415700</td>\n",
       "    </tr>\n",
       "    <tr>\n",
       "      <th>2</th>\n",
       "      <td>2019-01-04</td>\n",
       "      <td>47.380001</td>\n",
       "      <td>47.970001</td>\n",
       "      <td>46.910000</td>\n",
       "      <td>47.910000</td>\n",
       "      <td>40.304893</td>\n",
       "      <td>4881500</td>\n",
       "    </tr>\n",
       "    <tr>\n",
       "      <th>3</th>\n",
       "      <td>2019-01-07</td>\n",
       "      <td>47.650002</td>\n",
       "      <td>48.330002</td>\n",
       "      <td>47.259998</td>\n",
       "      <td>47.799999</td>\n",
       "      <td>40.212364</td>\n",
       "      <td>4223100</td>\n",
       "    </tr>\n",
       "    <tr>\n",
       "      <th>4</th>\n",
       "      <td>2019-01-08</td>\n",
       "      <td>48.080002</td>\n",
       "      <td>48.209999</td>\n",
       "      <td>47.020000</td>\n",
       "      <td>47.619999</td>\n",
       "      <td>40.060936</td>\n",
       "      <td>4594500</td>\n",
       "    </tr>\n",
       "    <tr>\n",
       "      <th>...</th>\n",
       "      <td>...</td>\n",
       "      <td>...</td>\n",
       "      <td>...</td>\n",
       "      <td>...</td>\n",
       "      <td>...</td>\n",
       "      <td>...</td>\n",
       "      <td>...</td>\n",
       "    </tr>\n",
       "    <tr>\n",
       "      <th>246</th>\n",
       "      <td>2019-12-23</td>\n",
       "      <td>50.650002</td>\n",
       "      <td>50.700001</td>\n",
       "      <td>50.090000</td>\n",
       "      <td>50.369999</td>\n",
       "      <td>43.417088</td>\n",
       "      <td>2084400</td>\n",
       "    </tr>\n",
       "    <tr>\n",
       "      <th>247</th>\n",
       "      <td>2019-12-24</td>\n",
       "      <td>50.389999</td>\n",
       "      <td>50.470001</td>\n",
       "      <td>50.169998</td>\n",
       "      <td>50.349998</td>\n",
       "      <td>43.399853</td>\n",
       "      <td>763700</td>\n",
       "    </tr>\n",
       "    <tr>\n",
       "      <th>248</th>\n",
       "      <td>2019-12-26</td>\n",
       "      <td>50.459999</td>\n",
       "      <td>50.650002</td>\n",
       "      <td>50.290001</td>\n",
       "      <td>50.490002</td>\n",
       "      <td>43.520527</td>\n",
       "      <td>1211700</td>\n",
       "    </tr>\n",
       "    <tr>\n",
       "      <th>249</th>\n",
       "      <td>2019-12-27</td>\n",
       "      <td>50.529999</td>\n",
       "      <td>50.639999</td>\n",
       "      <td>50.169998</td>\n",
       "      <td>50.320000</td>\n",
       "      <td>43.373993</td>\n",
       "      <td>1859200</td>\n",
       "    </tr>\n",
       "    <tr>\n",
       "      <th>250</th>\n",
       "      <td>2019-12-30</td>\n",
       "      <td>50.540001</td>\n",
       "      <td>50.709999</td>\n",
       "      <td>50.090000</td>\n",
       "      <td>50.180000</td>\n",
       "      <td>43.253323</td>\n",
       "      <td>3458200</td>\n",
       "    </tr>\n",
       "  </tbody>\n",
       "</table>\n",
       "<p>251 rows × 7 columns</p>\n",
       "</div>"
      ],
      "text/plain": [
       "           Date       Open       High        Low      Close  Adj Close  \\\n",
       "0    2019-01-02  46.549999  47.549999  46.410000  47.500000  39.959984   \n",
       "1    2019-01-03  47.340000  47.380001  46.490002  46.560001  39.169197   \n",
       "2    2019-01-04  47.380001  47.970001  46.910000  47.910000  40.304893   \n",
       "3    2019-01-07  47.650002  48.330002  47.259998  47.799999  40.212364   \n",
       "4    2019-01-08  48.080002  48.209999  47.020000  47.619999  40.060936   \n",
       "..          ...        ...        ...        ...        ...        ...   \n",
       "246  2019-12-23  50.650002  50.700001  50.090000  50.369999  43.417088   \n",
       "247  2019-12-24  50.389999  50.470001  50.169998  50.349998  43.399853   \n",
       "248  2019-12-26  50.459999  50.650002  50.290001  50.490002  43.520527   \n",
       "249  2019-12-27  50.529999  50.639999  50.169998  50.320000  43.373993   \n",
       "250  2019-12-30  50.540001  50.709999  50.090000  50.180000  43.253323   \n",
       "\n",
       "      Volume  \n",
       "0    4229500  \n",
       "1    4415700  \n",
       "2    4881500  \n",
       "3    4223100  \n",
       "4    4594500  \n",
       "..       ...  \n",
       "246  2084400  \n",
       "247   763700  \n",
       "248  1211700  \n",
       "249  1859200  \n",
       "250  3458200  \n",
       "\n",
       "[251 rows x 7 columns]"
      ]
     },
     "execution_count": 125,
     "metadata": {},
     "output_type": "execute_result"
    }
   ],
   "source": [
    "pd.read_csv('CEO BK.csv')"
   ]
  },
  {
   "cell_type": "code",
   "execution_count": 126,
   "id": "866357ac",
   "metadata": {},
   "outputs": [],
   "source": [
    "import pandas as pd\n",
    "import numpy as np\n",
    "from datetime import date, datetime, timedelta\n",
    "import statsmodels.api as sm\n",
    "import yfinance as yf\n",
    "import pandas_datareader as pdr"
   ]
  },
  {
   "cell_type": "code",
   "execution_count": 127,
   "id": "f714e436",
   "metadata": {},
   "outputs": [],
   "source": [
    "file = \"CEO BK.csv\" # Can paste the full path here in front of the file name\n",
    "x1 = pd.read_csv(file)"
   ]
  },
  {
   "cell_type": "code",
   "execution_count": 128,
   "id": "43961e71",
   "metadata": {},
   "outputs": [
    {
     "data": {
      "text/plain": [
       "datetime.datetime(2019, 10, 20, 0, 0)"
      ]
     },
     "execution_count": 128,
     "metadata": {},
     "output_type": "execute_result"
    }
   ],
   "source": [
    "date_BK = datetime(2019,10,20)   # Find it in the spreadsheet\n",
    "date_BK"
   ]
  },
  {
   "cell_type": "markdown",
   "id": "f38caa54-74d6-44f1-bc06-437ff708a973",
   "metadata": {},
   "source": [
    "### Pre-Event"
   ]
  },
  {
   "cell_type": "code",
   "execution_count": 129,
   "id": "b8d77e99",
   "metadata": {},
   "outputs": [
    {
     "name": "stdout",
     "output_type": "stream",
     "text": [
      "51 51\n"
     ]
    }
   ],
   "source": [
    "w1_start   = date_BK - timedelta(74)\n",
    "w1_end     = date_BK - timedelta(2)\n",
    "df1_BK    = yf.download('BK', start=w1_start, end=w1_end, progress=False)['Adj Close']\n",
    "df1_SP1500 = yf.download('^SP1500', start=w1_start, end=w1_end, progress=False)['Adj Close']\n",
    "\n",
    "\n",
    "print(len(df1_BK), len(df1_SP1500 ))                       # BK is the code of Meta；SP1500 is the Market Index; Adj Close is adjusted price"
   ]
  },
  {
   "cell_type": "code",
   "execution_count": 130,
   "id": "9ef80dce-94c2-47a5-9155-3d61cb847976",
   "metadata": {},
   "outputs": [
    {
     "name": "stdout",
     "output_type": "stream",
     "text": [
      "50 50\n"
     ]
    }
   ],
   "source": [
    "r1_BK = df1_BK.pct_change().dropna()*100\n",
    "r1_SP1500 = df1_SP1500.pct_change().dropna()*100\n",
    "print(len(r1_BK), len(r1_SP1500 ))"
   ]
  },
  {
   "cell_type": "code",
   "execution_count": 131,
   "id": "85f2b5c8",
   "metadata": {},
   "outputs": [
    {
     "data": {
      "text/plain": [
       "Date\n",
       "2019-10-11    1.425278\n",
       "2019-10-14   -0.475970\n",
       "2019-10-15    1.024811\n",
       "2019-10-16    0.180337\n",
       "2019-10-17   -0.135007\n",
       "Name: Adj Close, dtype: float64"
      ]
     },
     "execution_count": 131,
     "metadata": {},
     "output_type": "execute_result"
    }
   ],
   "source": [
    "r1_BK.tail()"
   ]
  },
  {
   "cell_type": "markdown",
   "id": "ea51c4dd-f089-4f44-884f-62fa6621e003",
   "metadata": {},
   "source": [
    "#### Beta"
   ]
  },
  {
   "cell_type": "code",
   "execution_count": 132,
   "id": "7709023e",
   "metadata": {},
   "outputs": [
    {
     "data": {
      "text/plain": [
       "np.float64(1.1368663923491262)"
      ]
     },
     "execution_count": 132,
     "metadata": {},
     "output_type": "execute_result"
    }
   ],
   "source": [
    "cov1_BK   = np.cov(r1_BK, r1_SP1500)[0,1]\n",
    "var1_mkt  = np.var(r1_SP1500)\n",
    "beta1_BK  = cov1_BK/var1_mkt\n",
    "beta1_BK"
   ]
  },
  {
   "cell_type": "markdown",
   "id": "71dc08f5-4f06-4409-8c93-288c6c6119c8",
   "metadata": {},
   "source": [
    "#### Abnormal Return"
   ]
  },
  {
   "cell_type": "code",
   "execution_count": 133,
   "id": "40813b3d",
   "metadata": {},
   "outputs": [
    {
     "data": {
      "text/plain": [
       "np.float64(-0.09261767639663412)"
      ]
     },
     "execution_count": 133,
     "metadata": {},
     "output_type": "execute_result"
    }
   ],
   "source": [
    "abr1_BK = r1_BK -  beta1_BK * r1_SP1500\n",
    "abr1_BK.mean()"
   ]
  },
  {
   "cell_type": "code",
   "execution_count": 136,
   "id": "fa82d88e",
   "metadata": {},
   "outputs": [
    {
     "name": "stdout",
     "output_type": "stream",
     "text": [
      "51 51\n"
     ]
    }
   ],
   "source": [
    "w2_start = date_BK+timedelta(1)\n",
    "w2_end = date_BK+timedelta(75)\n",
    "df2_BK = yf.download('BK', start=w2_start, end=w2_end, progress=False)['Adj Close']\n",
    "df2_SP1500 = yf.download('^SP1500', start=w2_start, end=w2_end, progress=False)['Adj Close']\n",
    "print(len(df2_BK), len(df2_SP1500 ))"
   ]
  },
  {
   "cell_type": "code",
   "execution_count": 137,
   "id": "b61fe3cf-acfc-4d60-a2a1-ad50e16e4967",
   "metadata": {},
   "outputs": [
    {
     "name": "stdout",
     "output_type": "stream",
     "text": [
      "50 50\n",
      "0.9994778970292769\n"
     ]
    }
   ],
   "source": [
    "# Calculate the percentage changes\n",
    "r2_BK = df2_BK.pct_change().dropna() * 100\n",
    "r2_SP1500 = df2_SP1500.pct_change().dropna() * 100\n",
    "\n",
    "# Align the indices\n",
    "aligned_data = pd.concat([r2_BK, r2_SP1500], axis=1).dropna()\n",
    "r2_BK_aligned = aligned_data.iloc[:, 0]\n",
    "r2_SP1500_aligned = aligned_data.iloc[:, 1]\n",
    "\n",
    "# Check the lengths of the aligned series\n",
    "print(len(r2_BK_aligned), len(r2_SP1500_aligned))\n",
    "\n",
    "# Calculate the covariance and variance\n",
    "cov2_BK = np.cov(r2_BK_aligned, r2_SP1500_aligned)[0, 1]\n",
    "var2_mkt = np.var(r2_SP1500_aligned)\n",
    "\n",
    "# Calculate the beta\n",
    "beta2_BK = cov2_BK / var2_mkt\n",
    "print(beta2_BK)"
   ]
  },
  {
   "cell_type": "code",
   "execution_count": 138,
   "id": "586d4805-1bb3-428b-a1ef-7013e154eda3",
   "metadata": {},
   "outputs": [
    {
     "data": {
      "text/plain": [
       "Date\n",
       "2019-10-22    1.029101\n",
       "2019-10-23    1.278741\n",
       "2019-10-24   -0.962996\n",
       "2019-10-25    0.891896\n",
       "2019-10-28    1.099614\n",
       "Name: Adj Close, dtype: float64"
      ]
     },
     "execution_count": 138,
     "metadata": {},
     "output_type": "execute_result"
    }
   ],
   "source": [
    "r2_BK.head()"
   ]
  },
  {
   "cell_type": "markdown",
   "id": "6c3a46e0-46b2-47bc-8f09-11dbc9a9b66b",
   "metadata": {},
   "source": [
    "#### Abnormal Returns"
   ]
  },
  {
   "cell_type": "code",
   "execution_count": 139,
   "id": "87a6b20b",
   "metadata": {},
   "outputs": [
    {
     "data": {
      "text/plain": [
       "np.float64(0.07828242233324825)"
      ]
     },
     "execution_count": 139,
     "metadata": {},
     "output_type": "execute_result"
    }
   ],
   "source": [
    "abr2_BK = r2_BK -  beta2_BK * r2_SP1500\n",
    "abr2_BK.mean()"
   ]
  },
  {
   "cell_type": "markdown",
   "id": "8c959cab-97d0-446a-b06b-ebde7c79931e",
   "metadata": {},
   "source": [
    "### Abnormal Returns Change"
   ]
  },
  {
   "cell_type": "code",
   "execution_count": 140,
   "id": "340a0819",
   "metadata": {},
   "outputs": [
    {
     "name": "stdout",
     "output_type": "stream",
     "text": [
      "Abnormal returns change from -0.09 to 0.08.\n"
     ]
    }
   ],
   "source": [
    "print(f'Abnormal returns change from {abr1_BK.mean():.2f} to {abr2_BK.mean():.2f}.')"
   ]
  },
  {
   "cell_type": "code",
   "execution_count": null,
   "id": "ed053ba1",
   "metadata": {},
   "outputs": [],
   "source": []
  },
  {
   "cell_type": "markdown",
   "id": "7ddf1be3-16ba-42b5-adc5-18da6f74e97c",
   "metadata": {
    "jp-MarkdownHeadingCollapsed": true
   },
   "source": [
    "### Libraries and Data"
   ]
  },
  {
   "cell_type": "code",
   "execution_count": 121,
   "id": "6f8d15b8",
   "metadata": {},
   "outputs": [],
   "source": [
    "#!pip install matplotlib\n",
    "import matplotlib.pyplot as plt\n",
    "plt.rcParams['figure.dpi']=300      "
   ]
  },
  {
   "cell_type": "code",
   "execution_count": 122,
   "id": "ddc237b4",
   "metadata": {},
   "outputs": [],
   "source": [
    "import pandas as pd\n",
    "import yfinance as yf"
   ]
  },
  {
   "cell_type": "code",
   "execution_count": 123,
   "id": "e6c8924d",
   "metadata": {},
   "outputs": [],
   "source": [
    "df = yf.download([\"ATI\"],\n",
    "                 start=\"2019-01-01\",\n",
    "                 end=\"2019-12-31\",\n",
    "                progress=False)"
   ]
  },
  {
   "cell_type": "code",
   "execution_count": 124,
   "id": "5577c349",
   "metadata": {},
   "outputs": [
    {
     "data": {
      "text/html": [
       "<div>\n",
       "<style scoped>\n",
       "    .dataframe tbody tr th:only-of-type {\n",
       "        vertical-align: middle;\n",
       "    }\n",
       "\n",
       "    .dataframe tbody tr th {\n",
       "        vertical-align: top;\n",
       "    }\n",
       "\n",
       "    .dataframe thead th {\n",
       "        text-align: right;\n",
       "    }\n",
       "</style>\n",
       "<table border=\"1\" class=\"dataframe\">\n",
       "  <thead>\n",
       "    <tr style=\"text-align: right;\">\n",
       "      <th></th>\n",
       "      <th>Open</th>\n",
       "      <th>High</th>\n",
       "      <th>Low</th>\n",
       "      <th>Close</th>\n",
       "      <th>Adj Close</th>\n",
       "      <th>Volume</th>\n",
       "    </tr>\n",
       "    <tr>\n",
       "      <th>Date</th>\n",
       "      <th></th>\n",
       "      <th></th>\n",
       "      <th></th>\n",
       "      <th></th>\n",
       "      <th></th>\n",
       "      <th></th>\n",
       "    </tr>\n",
       "  </thead>\n",
       "  <tbody>\n",
       "    <tr>\n",
       "      <th>2019-01-02</th>\n",
       "      <td>21.240000</td>\n",
       "      <td>22.420000</td>\n",
       "      <td>21.000000</td>\n",
       "      <td>22.350000</td>\n",
       "      <td>22.350000</td>\n",
       "      <td>1434600</td>\n",
       "    </tr>\n",
       "    <tr>\n",
       "      <th>2019-01-03</th>\n",
       "      <td>22.320000</td>\n",
       "      <td>22.330000</td>\n",
       "      <td>21.340000</td>\n",
       "      <td>21.430000</td>\n",
       "      <td>21.430000</td>\n",
       "      <td>1155300</td>\n",
       "    </tr>\n",
       "    <tr>\n",
       "      <th>2019-01-04</th>\n",
       "      <td>21.850000</td>\n",
       "      <td>23.090000</td>\n",
       "      <td>21.850000</td>\n",
       "      <td>22.610001</td>\n",
       "      <td>22.610001</td>\n",
       "      <td>1746500</td>\n",
       "    </tr>\n",
       "    <tr>\n",
       "      <th>2019-01-07</th>\n",
       "      <td>22.740000</td>\n",
       "      <td>23.090000</td>\n",
       "      <td>22.100000</td>\n",
       "      <td>22.600000</td>\n",
       "      <td>22.600000</td>\n",
       "      <td>2013500</td>\n",
       "    </tr>\n",
       "    <tr>\n",
       "      <th>2019-01-08</th>\n",
       "      <td>22.700001</td>\n",
       "      <td>23.320000</td>\n",
       "      <td>22.400000</td>\n",
       "      <td>23.299999</td>\n",
       "      <td>23.299999</td>\n",
       "      <td>2153800</td>\n",
       "    </tr>\n",
       "    <tr>\n",
       "      <th>...</th>\n",
       "      <td>...</td>\n",
       "      <td>...</td>\n",
       "      <td>...</td>\n",
       "      <td>...</td>\n",
       "      <td>...</td>\n",
       "      <td>...</td>\n",
       "    </tr>\n",
       "    <tr>\n",
       "      <th>2019-12-23</th>\n",
       "      <td>20.639999</td>\n",
       "      <td>21.260000</td>\n",
       "      <td>20.559999</td>\n",
       "      <td>21.139999</td>\n",
       "      <td>21.139999</td>\n",
       "      <td>1313000</td>\n",
       "    </tr>\n",
       "    <tr>\n",
       "      <th>2019-12-24</th>\n",
       "      <td>21.219999</td>\n",
       "      <td>21.299999</td>\n",
       "      <td>20.910000</td>\n",
       "      <td>21.000000</td>\n",
       "      <td>21.000000</td>\n",
       "      <td>405700</td>\n",
       "    </tr>\n",
       "    <tr>\n",
       "      <th>2019-12-26</th>\n",
       "      <td>21.110001</td>\n",
       "      <td>21.260000</td>\n",
       "      <td>20.740000</td>\n",
       "      <td>20.830000</td>\n",
       "      <td>20.830000</td>\n",
       "      <td>423200</td>\n",
       "    </tr>\n",
       "    <tr>\n",
       "      <th>2019-12-27</th>\n",
       "      <td>20.850000</td>\n",
       "      <td>21.250000</td>\n",
       "      <td>20.780001</td>\n",
       "      <td>20.990000</td>\n",
       "      <td>20.990000</td>\n",
       "      <td>747100</td>\n",
       "    </tr>\n",
       "    <tr>\n",
       "      <th>2019-12-30</th>\n",
       "      <td>21.010000</td>\n",
       "      <td>21.100000</td>\n",
       "      <td>20.500000</td>\n",
       "      <td>20.520000</td>\n",
       "      <td>20.520000</td>\n",
       "      <td>865300</td>\n",
       "    </tr>\n",
       "  </tbody>\n",
       "</table>\n",
       "<p>251 rows × 6 columns</p>\n",
       "</div>"
      ],
      "text/plain": [
       "                 Open       High        Low      Close  Adj Close   Volume\n",
       "Date                                                                      \n",
       "2019-01-02  21.240000  22.420000  21.000000  22.350000  22.350000  1434600\n",
       "2019-01-03  22.320000  22.330000  21.340000  21.430000  21.430000  1155300\n",
       "2019-01-04  21.850000  23.090000  21.850000  22.610001  22.610001  1746500\n",
       "2019-01-07  22.740000  23.090000  22.100000  22.600000  22.600000  2013500\n",
       "2019-01-08  22.700001  23.320000  22.400000  23.299999  23.299999  2153800\n",
       "...               ...        ...        ...        ...        ...      ...\n",
       "2019-12-23  20.639999  21.260000  20.559999  21.139999  21.139999  1313000\n",
       "2019-12-24  21.219999  21.299999  20.910000  21.000000  21.000000   405700\n",
       "2019-12-26  21.110001  21.260000  20.740000  20.830000  20.830000   423200\n",
       "2019-12-27  20.850000  21.250000  20.780001  20.990000  20.990000   747100\n",
       "2019-12-30  21.010000  21.100000  20.500000  20.520000  20.520000   865300\n",
       "\n",
       "[251 rows x 6 columns]"
      ]
     },
     "execution_count": 124,
     "metadata": {},
     "output_type": "execute_result"
    }
   ],
   "source": [
    "df"
   ]
  },
  {
   "cell_type": "code",
   "execution_count": 125,
   "id": "a498618a",
   "metadata": {},
   "outputs": [
    {
     "data": {
      "text/plain": [
       "Date\n",
       "2019-01-02    22.350000\n",
       "2019-01-03    21.430000\n",
       "2019-01-04    22.610001\n",
       "2019-01-07    22.600000\n",
       "2019-01-08    23.299999\n",
       "                ...    \n",
       "2019-12-23    21.139999\n",
       "2019-12-24    21.000000\n",
       "2019-12-26    20.830000\n",
       "2019-12-27    20.990000\n",
       "2019-12-30    20.520000\n",
       "Name: Close, Length: 251, dtype: float64"
      ]
     },
     "execution_count": 125,
     "metadata": {},
     "output_type": "execute_result"
    }
   ],
   "source": [
    "df.Close"
   ]
  },
  {
   "cell_type": "code",
   "execution_count": 126,
   "id": "ab58bc99",
   "metadata": {},
   "outputs": [],
   "source": [
    "df.to_csv('CEO ATI.csv') "
   ]
  },
  {
   "cell_type": "code",
   "execution_count": 127,
   "id": "58b5f236",
   "metadata": {},
   "outputs": [
    {
     "data": {
      "text/html": [
       "<div>\n",
       "<style scoped>\n",
       "    .dataframe tbody tr th:only-of-type {\n",
       "        vertical-align: middle;\n",
       "    }\n",
       "\n",
       "    .dataframe tbody tr th {\n",
       "        vertical-align: top;\n",
       "    }\n",
       "\n",
       "    .dataframe thead th {\n",
       "        text-align: right;\n",
       "    }\n",
       "</style>\n",
       "<table border=\"1\" class=\"dataframe\">\n",
       "  <thead>\n",
       "    <tr style=\"text-align: right;\">\n",
       "      <th></th>\n",
       "      <th>Date</th>\n",
       "      <th>Open</th>\n",
       "      <th>High</th>\n",
       "      <th>Low</th>\n",
       "      <th>Close</th>\n",
       "      <th>Adj Close</th>\n",
       "      <th>Volume</th>\n",
       "    </tr>\n",
       "  </thead>\n",
       "  <tbody>\n",
       "    <tr>\n",
       "      <th>0</th>\n",
       "      <td>2019-01-02</td>\n",
       "      <td>21.240000</td>\n",
       "      <td>22.420000</td>\n",
       "      <td>21.000000</td>\n",
       "      <td>22.350000</td>\n",
       "      <td>22.350000</td>\n",
       "      <td>1434600</td>\n",
       "    </tr>\n",
       "    <tr>\n",
       "      <th>1</th>\n",
       "      <td>2019-01-03</td>\n",
       "      <td>22.320000</td>\n",
       "      <td>22.330000</td>\n",
       "      <td>21.340000</td>\n",
       "      <td>21.430000</td>\n",
       "      <td>21.430000</td>\n",
       "      <td>1155300</td>\n",
       "    </tr>\n",
       "    <tr>\n",
       "      <th>2</th>\n",
       "      <td>2019-01-04</td>\n",
       "      <td>21.850000</td>\n",
       "      <td>23.090000</td>\n",
       "      <td>21.850000</td>\n",
       "      <td>22.610001</td>\n",
       "      <td>22.610001</td>\n",
       "      <td>1746500</td>\n",
       "    </tr>\n",
       "    <tr>\n",
       "      <th>3</th>\n",
       "      <td>2019-01-07</td>\n",
       "      <td>22.740000</td>\n",
       "      <td>23.090000</td>\n",
       "      <td>22.100000</td>\n",
       "      <td>22.600000</td>\n",
       "      <td>22.600000</td>\n",
       "      <td>2013500</td>\n",
       "    </tr>\n",
       "    <tr>\n",
       "      <th>4</th>\n",
       "      <td>2019-01-08</td>\n",
       "      <td>22.700001</td>\n",
       "      <td>23.320000</td>\n",
       "      <td>22.400000</td>\n",
       "      <td>23.299999</td>\n",
       "      <td>23.299999</td>\n",
       "      <td>2153800</td>\n",
       "    </tr>\n",
       "    <tr>\n",
       "      <th>...</th>\n",
       "      <td>...</td>\n",
       "      <td>...</td>\n",
       "      <td>...</td>\n",
       "      <td>...</td>\n",
       "      <td>...</td>\n",
       "      <td>...</td>\n",
       "      <td>...</td>\n",
       "    </tr>\n",
       "    <tr>\n",
       "      <th>246</th>\n",
       "      <td>2019-12-23</td>\n",
       "      <td>20.639999</td>\n",
       "      <td>21.260000</td>\n",
       "      <td>20.559999</td>\n",
       "      <td>21.139999</td>\n",
       "      <td>21.139999</td>\n",
       "      <td>1313000</td>\n",
       "    </tr>\n",
       "    <tr>\n",
       "      <th>247</th>\n",
       "      <td>2019-12-24</td>\n",
       "      <td>21.219999</td>\n",
       "      <td>21.299999</td>\n",
       "      <td>20.910000</td>\n",
       "      <td>21.000000</td>\n",
       "      <td>21.000000</td>\n",
       "      <td>405700</td>\n",
       "    </tr>\n",
       "    <tr>\n",
       "      <th>248</th>\n",
       "      <td>2019-12-26</td>\n",
       "      <td>21.110001</td>\n",
       "      <td>21.260000</td>\n",
       "      <td>20.740000</td>\n",
       "      <td>20.830000</td>\n",
       "      <td>20.830000</td>\n",
       "      <td>423200</td>\n",
       "    </tr>\n",
       "    <tr>\n",
       "      <th>249</th>\n",
       "      <td>2019-12-27</td>\n",
       "      <td>20.850000</td>\n",
       "      <td>21.250000</td>\n",
       "      <td>20.780001</td>\n",
       "      <td>20.990000</td>\n",
       "      <td>20.990000</td>\n",
       "      <td>747100</td>\n",
       "    </tr>\n",
       "    <tr>\n",
       "      <th>250</th>\n",
       "      <td>2019-12-30</td>\n",
       "      <td>21.010000</td>\n",
       "      <td>21.100000</td>\n",
       "      <td>20.500000</td>\n",
       "      <td>20.520000</td>\n",
       "      <td>20.520000</td>\n",
       "      <td>865300</td>\n",
       "    </tr>\n",
       "  </tbody>\n",
       "</table>\n",
       "<p>251 rows × 7 columns</p>\n",
       "</div>"
      ],
      "text/plain": [
       "           Date       Open       High        Low      Close  Adj Close  \\\n",
       "0    2019-01-02  21.240000  22.420000  21.000000  22.350000  22.350000   \n",
       "1    2019-01-03  22.320000  22.330000  21.340000  21.430000  21.430000   \n",
       "2    2019-01-04  21.850000  23.090000  21.850000  22.610001  22.610001   \n",
       "3    2019-01-07  22.740000  23.090000  22.100000  22.600000  22.600000   \n",
       "4    2019-01-08  22.700001  23.320000  22.400000  23.299999  23.299999   \n",
       "..          ...        ...        ...        ...        ...        ...   \n",
       "246  2019-12-23  20.639999  21.260000  20.559999  21.139999  21.139999   \n",
       "247  2019-12-24  21.219999  21.299999  20.910000  21.000000  21.000000   \n",
       "248  2019-12-26  21.110001  21.260000  20.740000  20.830000  20.830000   \n",
       "249  2019-12-27  20.850000  21.250000  20.780001  20.990000  20.990000   \n",
       "250  2019-12-30  21.010000  21.100000  20.500000  20.520000  20.520000   \n",
       "\n",
       "      Volume  \n",
       "0    1434600  \n",
       "1    1155300  \n",
       "2    1746500  \n",
       "3    2013500  \n",
       "4    2153800  \n",
       "..       ...  \n",
       "246  1313000  \n",
       "247   405700  \n",
       "248   423200  \n",
       "249   747100  \n",
       "250   865300  \n",
       "\n",
       "[251 rows x 7 columns]"
      ]
     },
     "execution_count": 127,
     "metadata": {},
     "output_type": "execute_result"
    }
   ],
   "source": [
    "pd.read_csv('CEO ATI.csv')"
   ]
  },
  {
   "cell_type": "code",
   "execution_count": 128,
   "id": "3ca13380",
   "metadata": {},
   "outputs": [],
   "source": [
    "import pandas as pd\n",
    "import numpy as np\n",
    "from datetime import date, datetime, timedelta\n",
    "import statsmodels.api as sm\n",
    "import yfinance as yf\n",
    "import pandas_datareader as pdr"
   ]
  },
  {
   "cell_type": "code",
   "execution_count": 129,
   "id": "405ced7b",
   "metadata": {},
   "outputs": [],
   "source": [
    "file = \"CEO ATI.csv\" # Can paste the full path here in front of the file name\n",
    "x1 = pd.read_csv(file)"
   ]
  },
  {
   "cell_type": "code",
   "execution_count": 130,
   "id": "f01b0620",
   "metadata": {},
   "outputs": [
    {
     "data": {
      "text/plain": [
       "datetime.datetime(2019, 1, 1, 0, 0)"
      ]
     },
     "execution_count": 130,
     "metadata": {},
     "output_type": "execute_result"
    }
   ],
   "source": [
    "date_ATI = datetime(2019,1,1)   # Find it in the spreadsheet\n",
    "date_ATI"
   ]
  },
  {
   "cell_type": "markdown",
   "id": "1a4eaa87-5be4-421c-8ae9-80db621ed898",
   "metadata": {},
   "source": [
    "### Pre-Event"
   ]
  },
  {
   "cell_type": "code",
   "execution_count": 136,
   "id": "1c7e432b",
   "metadata": {},
   "outputs": [
    {
     "name": "stdout",
     "output_type": "stream",
     "text": [
      "53 51\n"
     ]
    }
   ],
   "source": [
    "w1_start   = date_ATI - timedelta(81)\n",
    "w1_end     = date_ATI - timedelta(3)\n",
    "df1_ATI    = yf.download('ATI', start=w1_start, end=w1_end, progress=False)['Adj Close']\n",
    "df1_SP1500 = yf.download('^SP1500', start=w1_start, end=w1_end, progress=False)['Adj Close']\n",
    "\n",
    "\n",
    "print(len(df1_ATI), len(df1_SP1500 ))                       # ATI is the code of Meta；SP1500 is the Market Index; Adj Close is adjusted price"
   ]
  },
  {
   "cell_type": "code",
   "execution_count": 137,
   "id": "0bce03a5-708e-4a17-a125-e4aa942672ea",
   "metadata": {},
   "outputs": [
    {
     "name": "stdout",
     "output_type": "stream",
     "text": [
      "50 50\n",
      "1.4511079747435804\n"
     ]
    }
   ],
   "source": [
    "# Calculate the percentage changes\n",
    "r1_ATI = df1_ATI.pct_change().dropna() * 100\n",
    "r1_SP1500 = df1_SP1500.pct_change().dropna() * 100\n",
    "\n",
    "# Align the indices\n",
    "aligned_data = pd.concat([r1_ATI, r1_SP1500], axis=1).dropna()\n",
    "r1_ATI_aligned = aligned_data.iloc[:, 0]\n",
    "r1_SP1500_aligned = aligned_data.iloc[:, 1]\n",
    "\n",
    "# Check the lengths of the aligned series\n",
    "print(len(r1_ATI_aligned), len(r1_SP1500_aligned))\n",
    "\n",
    "# Calculate the covariance and variance\n",
    "cov1_ATI = np.cov(r1_ATI_aligned, r1_SP1500_aligned)[0, 1]\n",
    "var1_mkt = np.var(r1_SP1500_aligned)\n",
    "\n",
    "# Calculate the beta\n",
    "beta1_ATI = cov1_ATI / var1_mkt\n",
    "print(beta1_ATI)"
   ]
  },
  {
   "cell_type": "code",
   "execution_count": 139,
   "id": "f35f7abe",
   "metadata": {},
   "outputs": [
    {
     "data": {
      "text/plain": [
       "Date\n",
       "2018-12-21   -1.181819\n",
       "2018-12-24   -2.437906\n",
       "2018-12-26    4.526172\n",
       "2018-12-27    0.586374\n",
       "2018-12-28   -1.614344\n",
       "Name: Adj Close, dtype: float64"
      ]
     },
     "execution_count": 139,
     "metadata": {},
     "output_type": "execute_result"
    }
   ],
   "source": [
    "r1_ATI.tail()"
   ]
  },
  {
   "cell_type": "markdown",
   "id": "93ab4795-f114-4a5f-a95c-7f05542ece05",
   "metadata": {},
   "source": [
    "#### Abnormal Return"
   ]
  },
  {
   "cell_type": "code",
   "execution_count": 140,
   "id": "43d70863",
   "metadata": {},
   "outputs": [
    {
     "data": {
      "text/plain": [
       "np.float64(-0.020827830410049562)"
      ]
     },
     "execution_count": 140,
     "metadata": {},
     "output_type": "execute_result"
    }
   ],
   "source": [
    "abr1_ATI = r1_ATI -  beta1_ATI * r1_SP1500\n",
    "abr1_ATI.mean()"
   ]
  },
  {
   "cell_type": "markdown",
   "id": "7e81fbc7-f2a5-4f02-ac30-fa59727cffcd",
   "metadata": {},
   "source": [
    "### Post-Event"
   ]
  },
  {
   "cell_type": "code",
   "execution_count": 142,
   "id": "64badd7d",
   "metadata": {},
   "outputs": [
    {
     "name": "stdout",
     "output_type": "stream",
     "text": [
      "54 51\n"
     ]
    }
   ],
   "source": [
    "w2_start = date_ATI+timedelta(3)\n",
    "w2_end = date_ATI+timedelta(82)\n",
    "df2_ATI = yf.download('ATI', start=w2_start, end=w2_end, progress=False)['Adj Close']\n",
    "df2_SP1500 = yf.download('^SP1500', start=w2_start, end=w2_end, progress=False)['Adj Close']\n",
    "print(len(df2_ATI), len(df2_SP1500 ))"
   ]
  },
  {
   "cell_type": "code",
   "execution_count": 144,
   "id": "c2c60853-a0a5-40bc-a1a8-2666506a6afa",
   "metadata": {},
   "outputs": [
    {
     "name": "stdout",
     "output_type": "stream",
     "text": [
      "50 50\n",
      "1.949955509700005\n"
     ]
    }
   ],
   "source": [
    "# Calculate the percentage changes\n",
    "r2_ATI = df2_ATI.pct_change().dropna() * 100\n",
    "r2_SP1500 = df2_SP1500.pct_change().dropna() * 100\n",
    "\n",
    "# Align the indices\n",
    "aligned_data = pd.concat([r2_ATI, r2_SP1500], axis=1).dropna()\n",
    "r2_ATI_aligned = aligned_data.iloc[:, 0]\n",
    "r2_SP1500_aligned = aligned_data.iloc[:, 1]\n",
    "\n",
    "# Check the lengths of the aligned series\n",
    "print(len(r2_ATI_aligned), len(r2_SP1500_aligned))\n",
    "\n",
    "# Calculate the covariance and variance\n",
    "cov2_ATI = np.cov(r2_ATI_aligned, r2_SP1500_aligned)[0, 1]\n",
    "var2_mkt = np.var(r2_SP1500_aligned)\n",
    "\n",
    "# Calculate the beta\n",
    "beta2_ATI = cov2_ATI / var2_mkt\n",
    "print(beta2_ATI)"
   ]
  },
  {
   "cell_type": "code",
   "execution_count": 145,
   "id": "e5293e8e-fb65-4f11-ab18-7059451b09ae",
   "metadata": {},
   "outputs": [
    {
     "data": {
      "text/plain": [
       "Date\n",
       "2019-01-07   -0.044229\n",
       "2019-01-08    3.097340\n",
       "2019-01-09    6.266099\n",
       "2019-01-10   -1.696285\n",
       "2019-01-11    1.848812\n",
       "Name: Adj Close, dtype: float64"
      ]
     },
     "execution_count": 145,
     "metadata": {},
     "output_type": "execute_result"
    }
   ],
   "source": [
    "r2_ATI.head()"
   ]
  },
  {
   "cell_type": "markdown",
   "id": "10496b7e-f056-46d7-b9a9-b0dd4f2404da",
   "metadata": {},
   "source": [
    "#### Abnormal Return"
   ]
  },
  {
   "cell_type": "code",
   "execution_count": 146,
   "id": "a8b3a51b",
   "metadata": {},
   "outputs": [
    {
     "data": {
      "text/plain": [
       "np.float64(-0.2387207461897456)"
      ]
     },
     "execution_count": 146,
     "metadata": {},
     "output_type": "execute_result"
    }
   ],
   "source": [
    "abr2_ATI = r2_ATI -  beta2_ATI * r2_SP1500\n",
    "abr2_ATI.mean()"
   ]
  },
  {
   "cell_type": "markdown",
   "id": "022adbe8-7618-4b1f-b0ae-1f142dd9cad1",
   "metadata": {},
   "source": [
    "### Abnormal Returns Change"
   ]
  },
  {
   "cell_type": "code",
   "execution_count": 147,
   "id": "6981701e",
   "metadata": {},
   "outputs": [
    {
     "name": "stdout",
     "output_type": "stream",
     "text": [
      "Abnormal returns change from -0.02 to -0.24.\n"
     ]
    }
   ],
   "source": [
    "print(f'Abnormal returns change from {abr1_ATI.mean():.2f} to {abr2_ATI.mean():.2f}.')"
   ]
  },
  {
   "cell_type": "code",
   "execution_count": null,
   "id": "8e5b19a0",
   "metadata": {},
   "outputs": [],
   "source": []
  },
  {
   "cell_type": "markdown",
   "id": "afa62bfd-7e49-4ef4-9848-a6fb523498d3",
   "metadata": {
    "jp-MarkdownHeadingCollapsed": true
   },
   "source": [
    "### Libraries and Data"
   ]
  },
  {
   "cell_type": "code",
   "execution_count": 34,
   "id": "75957303-5854-4b3d-8fc8-270ae35890ef",
   "metadata": {},
   "outputs": [],
   "source": [
    "#!pip install matplotlib\n",
    "import matplotlib.pyplot as plt\n",
    "plt.rcParams['figure.dpi']=300      "
   ]
  },
  {
   "cell_type": "code",
   "execution_count": 35,
   "id": "cfc7ea13",
   "metadata": {},
   "outputs": [],
   "source": [
    "import pandas as pd\n",
    "import yfinance as yf"
   ]
  },
  {
   "cell_type": "code",
   "execution_count": 36,
   "id": "c0884d95",
   "metadata": {},
   "outputs": [],
   "source": [
    "df = yf.download([\"ASGN\"],\n",
    "                 start=\"2019-01-01\",\n",
    "                 end=\"2019-12-31\",\n",
    "                progress=False)"
   ]
  },
  {
   "cell_type": "code",
   "execution_count": 37,
   "id": "5701dda8",
   "metadata": {},
   "outputs": [
    {
     "data": {
      "text/html": [
       "<div>\n",
       "<style scoped>\n",
       "    .dataframe tbody tr th:only-of-type {\n",
       "        vertical-align: middle;\n",
       "    }\n",
       "\n",
       "    .dataframe tbody tr th {\n",
       "        vertical-align: top;\n",
       "    }\n",
       "\n",
       "    .dataframe thead th {\n",
       "        text-align: right;\n",
       "    }\n",
       "</style>\n",
       "<table border=\"1\" class=\"dataframe\">\n",
       "  <thead>\n",
       "    <tr style=\"text-align: right;\">\n",
       "      <th></th>\n",
       "      <th>Open</th>\n",
       "      <th>High</th>\n",
       "      <th>Low</th>\n",
       "      <th>Close</th>\n",
       "      <th>Adj Close</th>\n",
       "      <th>Volume</th>\n",
       "    </tr>\n",
       "    <tr>\n",
       "      <th>Date</th>\n",
       "      <th></th>\n",
       "      <th></th>\n",
       "      <th></th>\n",
       "      <th></th>\n",
       "      <th></th>\n",
       "      <th></th>\n",
       "    </tr>\n",
       "  </thead>\n",
       "  <tbody>\n",
       "    <tr>\n",
       "      <th>2019-01-02</th>\n",
       "      <td>53.340000</td>\n",
       "      <td>55.130001</td>\n",
       "      <td>52.770000</td>\n",
       "      <td>54.310001</td>\n",
       "      <td>54.310001</td>\n",
       "      <td>390800</td>\n",
       "    </tr>\n",
       "    <tr>\n",
       "      <th>2019-01-03</th>\n",
       "      <td>53.480000</td>\n",
       "      <td>53.639999</td>\n",
       "      <td>51.750000</td>\n",
       "      <td>53.150002</td>\n",
       "      <td>53.150002</td>\n",
       "      <td>446800</td>\n",
       "    </tr>\n",
       "    <tr>\n",
       "      <th>2019-01-04</th>\n",
       "      <td>54.209999</td>\n",
       "      <td>56.160000</td>\n",
       "      <td>54.160000</td>\n",
       "      <td>55.910000</td>\n",
       "      <td>55.910000</td>\n",
       "      <td>380900</td>\n",
       "    </tr>\n",
       "    <tr>\n",
       "      <th>2019-01-07</th>\n",
       "      <td>55.700001</td>\n",
       "      <td>57.540001</td>\n",
       "      <td>55.000000</td>\n",
       "      <td>57.029999</td>\n",
       "      <td>57.029999</td>\n",
       "      <td>733400</td>\n",
       "    </tr>\n",
       "    <tr>\n",
       "      <th>2019-01-08</th>\n",
       "      <td>57.849998</td>\n",
       "      <td>58.939999</td>\n",
       "      <td>57.509998</td>\n",
       "      <td>58.889999</td>\n",
       "      <td>58.889999</td>\n",
       "      <td>317700</td>\n",
       "    </tr>\n",
       "    <tr>\n",
       "      <th>...</th>\n",
       "      <td>...</td>\n",
       "      <td>...</td>\n",
       "      <td>...</td>\n",
       "      <td>...</td>\n",
       "      <td>...</td>\n",
       "      <td>...</td>\n",
       "    </tr>\n",
       "    <tr>\n",
       "      <th>2019-12-23</th>\n",
       "      <td>70.239998</td>\n",
       "      <td>70.790001</td>\n",
       "      <td>69.099998</td>\n",
       "      <td>70.190002</td>\n",
       "      <td>70.190002</td>\n",
       "      <td>187600</td>\n",
       "    </tr>\n",
       "    <tr>\n",
       "      <th>2019-12-24</th>\n",
       "      <td>70.190002</td>\n",
       "      <td>70.989998</td>\n",
       "      <td>69.709999</td>\n",
       "      <td>70.800003</td>\n",
       "      <td>70.800003</td>\n",
       "      <td>167800</td>\n",
       "    </tr>\n",
       "    <tr>\n",
       "      <th>2019-12-26</th>\n",
       "      <td>70.790001</td>\n",
       "      <td>71.309998</td>\n",
       "      <td>70.550003</td>\n",
       "      <td>71.150002</td>\n",
       "      <td>71.150002</td>\n",
       "      <td>246000</td>\n",
       "    </tr>\n",
       "    <tr>\n",
       "      <th>2019-12-27</th>\n",
       "      <td>71.400002</td>\n",
       "      <td>71.709999</td>\n",
       "      <td>70.870003</td>\n",
       "      <td>71.150002</td>\n",
       "      <td>71.150002</td>\n",
       "      <td>255900</td>\n",
       "    </tr>\n",
       "    <tr>\n",
       "      <th>2019-12-30</th>\n",
       "      <td>71.250000</td>\n",
       "      <td>71.959999</td>\n",
       "      <td>70.550003</td>\n",
       "      <td>71.669998</td>\n",
       "      <td>71.669998</td>\n",
       "      <td>237500</td>\n",
       "    </tr>\n",
       "  </tbody>\n",
       "</table>\n",
       "<p>251 rows × 6 columns</p>\n",
       "</div>"
      ],
      "text/plain": [
       "                 Open       High        Low      Close  Adj Close  Volume\n",
       "Date                                                                     \n",
       "2019-01-02  53.340000  55.130001  52.770000  54.310001  54.310001  390800\n",
       "2019-01-03  53.480000  53.639999  51.750000  53.150002  53.150002  446800\n",
       "2019-01-04  54.209999  56.160000  54.160000  55.910000  55.910000  380900\n",
       "2019-01-07  55.700001  57.540001  55.000000  57.029999  57.029999  733400\n",
       "2019-01-08  57.849998  58.939999  57.509998  58.889999  58.889999  317700\n",
       "...               ...        ...        ...        ...        ...     ...\n",
       "2019-12-23  70.239998  70.790001  69.099998  70.190002  70.190002  187600\n",
       "2019-12-24  70.190002  70.989998  69.709999  70.800003  70.800003  167800\n",
       "2019-12-26  70.790001  71.309998  70.550003  71.150002  71.150002  246000\n",
       "2019-12-27  71.400002  71.709999  70.870003  71.150002  71.150002  255900\n",
       "2019-12-30  71.250000  71.959999  70.550003  71.669998  71.669998  237500\n",
       "\n",
       "[251 rows x 6 columns]"
      ]
     },
     "execution_count": 37,
     "metadata": {},
     "output_type": "execute_result"
    }
   ],
   "source": [
    "df"
   ]
  },
  {
   "cell_type": "code",
   "execution_count": 38,
   "id": "17f09788",
   "metadata": {},
   "outputs": [
    {
     "data": {
      "text/plain": [
       "Date\n",
       "2019-01-02    54.310001\n",
       "2019-01-03    53.150002\n",
       "2019-01-04    55.910000\n",
       "2019-01-07    57.029999\n",
       "2019-01-08    58.889999\n",
       "                ...    \n",
       "2019-12-23    70.190002\n",
       "2019-12-24    70.800003\n",
       "2019-12-26    71.150002\n",
       "2019-12-27    71.150002\n",
       "2019-12-30    71.669998\n",
       "Name: Close, Length: 251, dtype: float64"
      ]
     },
     "execution_count": 38,
     "metadata": {},
     "output_type": "execute_result"
    }
   ],
   "source": [
    "df.Close"
   ]
  },
  {
   "cell_type": "code",
   "execution_count": 39,
   "id": "d82827e2",
   "metadata": {},
   "outputs": [],
   "source": [
    "df.to_csv('CEO ASGN.csv') "
   ]
  },
  {
   "cell_type": "code",
   "execution_count": 40,
   "id": "62a2e47e",
   "metadata": {},
   "outputs": [
    {
     "data": {
      "text/html": [
       "<div>\n",
       "<style scoped>\n",
       "    .dataframe tbody tr th:only-of-type {\n",
       "        vertical-align: middle;\n",
       "    }\n",
       "\n",
       "    .dataframe tbody tr th {\n",
       "        vertical-align: top;\n",
       "    }\n",
       "\n",
       "    .dataframe thead th {\n",
       "        text-align: right;\n",
       "    }\n",
       "</style>\n",
       "<table border=\"1\" class=\"dataframe\">\n",
       "  <thead>\n",
       "    <tr style=\"text-align: right;\">\n",
       "      <th></th>\n",
       "      <th>Date</th>\n",
       "      <th>Open</th>\n",
       "      <th>High</th>\n",
       "      <th>Low</th>\n",
       "      <th>Close</th>\n",
       "      <th>Adj Close</th>\n",
       "      <th>Volume</th>\n",
       "    </tr>\n",
       "  </thead>\n",
       "  <tbody>\n",
       "    <tr>\n",
       "      <th>0</th>\n",
       "      <td>2019-01-02</td>\n",
       "      <td>53.340000</td>\n",
       "      <td>55.130001</td>\n",
       "      <td>52.770000</td>\n",
       "      <td>54.310001</td>\n",
       "      <td>54.310001</td>\n",
       "      <td>390800</td>\n",
       "    </tr>\n",
       "    <tr>\n",
       "      <th>1</th>\n",
       "      <td>2019-01-03</td>\n",
       "      <td>53.480000</td>\n",
       "      <td>53.639999</td>\n",
       "      <td>51.750000</td>\n",
       "      <td>53.150002</td>\n",
       "      <td>53.150002</td>\n",
       "      <td>446800</td>\n",
       "    </tr>\n",
       "    <tr>\n",
       "      <th>2</th>\n",
       "      <td>2019-01-04</td>\n",
       "      <td>54.209999</td>\n",
       "      <td>56.160000</td>\n",
       "      <td>54.160000</td>\n",
       "      <td>55.910000</td>\n",
       "      <td>55.910000</td>\n",
       "      <td>380900</td>\n",
       "    </tr>\n",
       "    <tr>\n",
       "      <th>3</th>\n",
       "      <td>2019-01-07</td>\n",
       "      <td>55.700001</td>\n",
       "      <td>57.540001</td>\n",
       "      <td>55.000000</td>\n",
       "      <td>57.029999</td>\n",
       "      <td>57.029999</td>\n",
       "      <td>733400</td>\n",
       "    </tr>\n",
       "    <tr>\n",
       "      <th>4</th>\n",
       "      <td>2019-01-08</td>\n",
       "      <td>57.849998</td>\n",
       "      <td>58.939999</td>\n",
       "      <td>57.509998</td>\n",
       "      <td>58.889999</td>\n",
       "      <td>58.889999</td>\n",
       "      <td>317700</td>\n",
       "    </tr>\n",
       "    <tr>\n",
       "      <th>...</th>\n",
       "      <td>...</td>\n",
       "      <td>...</td>\n",
       "      <td>...</td>\n",
       "      <td>...</td>\n",
       "      <td>...</td>\n",
       "      <td>...</td>\n",
       "      <td>...</td>\n",
       "    </tr>\n",
       "    <tr>\n",
       "      <th>246</th>\n",
       "      <td>2019-12-23</td>\n",
       "      <td>70.239998</td>\n",
       "      <td>70.790001</td>\n",
       "      <td>69.099998</td>\n",
       "      <td>70.190002</td>\n",
       "      <td>70.190002</td>\n",
       "      <td>187600</td>\n",
       "    </tr>\n",
       "    <tr>\n",
       "      <th>247</th>\n",
       "      <td>2019-12-24</td>\n",
       "      <td>70.190002</td>\n",
       "      <td>70.989998</td>\n",
       "      <td>69.709999</td>\n",
       "      <td>70.800003</td>\n",
       "      <td>70.800003</td>\n",
       "      <td>167800</td>\n",
       "    </tr>\n",
       "    <tr>\n",
       "      <th>248</th>\n",
       "      <td>2019-12-26</td>\n",
       "      <td>70.790001</td>\n",
       "      <td>71.309998</td>\n",
       "      <td>70.550003</td>\n",
       "      <td>71.150002</td>\n",
       "      <td>71.150002</td>\n",
       "      <td>246000</td>\n",
       "    </tr>\n",
       "    <tr>\n",
       "      <th>249</th>\n",
       "      <td>2019-12-27</td>\n",
       "      <td>71.400002</td>\n",
       "      <td>71.709999</td>\n",
       "      <td>70.870003</td>\n",
       "      <td>71.150002</td>\n",
       "      <td>71.150002</td>\n",
       "      <td>255900</td>\n",
       "    </tr>\n",
       "    <tr>\n",
       "      <th>250</th>\n",
       "      <td>2019-12-30</td>\n",
       "      <td>71.250000</td>\n",
       "      <td>71.959999</td>\n",
       "      <td>70.550003</td>\n",
       "      <td>71.669998</td>\n",
       "      <td>71.669998</td>\n",
       "      <td>237500</td>\n",
       "    </tr>\n",
       "  </tbody>\n",
       "</table>\n",
       "<p>251 rows × 7 columns</p>\n",
       "</div>"
      ],
      "text/plain": [
       "           Date       Open       High        Low      Close  Adj Close  Volume\n",
       "0    2019-01-02  53.340000  55.130001  52.770000  54.310001  54.310001  390800\n",
       "1    2019-01-03  53.480000  53.639999  51.750000  53.150002  53.150002  446800\n",
       "2    2019-01-04  54.209999  56.160000  54.160000  55.910000  55.910000  380900\n",
       "3    2019-01-07  55.700001  57.540001  55.000000  57.029999  57.029999  733400\n",
       "4    2019-01-08  57.849998  58.939999  57.509998  58.889999  58.889999  317700\n",
       "..          ...        ...        ...        ...        ...        ...     ...\n",
       "246  2019-12-23  70.239998  70.790001  69.099998  70.190002  70.190002  187600\n",
       "247  2019-12-24  70.190002  70.989998  69.709999  70.800003  70.800003  167800\n",
       "248  2019-12-26  70.790001  71.309998  70.550003  71.150002  71.150002  246000\n",
       "249  2019-12-27  71.400002  71.709999  70.870003  71.150002  71.150002  255900\n",
       "250  2019-12-30  71.250000  71.959999  70.550003  71.669998  71.669998  237500\n",
       "\n",
       "[251 rows x 7 columns]"
      ]
     },
     "execution_count": 40,
     "metadata": {},
     "output_type": "execute_result"
    }
   ],
   "source": [
    "pd.read_csv('CEO ASGN.csv')"
   ]
  },
  {
   "cell_type": "code",
   "execution_count": 41,
   "id": "085c3797",
   "metadata": {},
   "outputs": [],
   "source": [
    "import pandas as pd\n",
    "import numpy as np\n",
    "from datetime import date, datetime, timedelta\n",
    "import statsmodels.api as sm\n",
    "import yfinance as yf\n",
    "import pandas_datareader as pdr"
   ]
  },
  {
   "cell_type": "code",
   "execution_count": 42,
   "id": "73ee3653",
   "metadata": {},
   "outputs": [],
   "source": [
    "file = \"CEO ASGN.csv\" # Can paste the full path here in front of the file name\n",
    "x1 = pd.read_csv(file)"
   ]
  },
  {
   "cell_type": "markdown",
   "id": "e002af0e-4338-4551-821c-75ac17a59958",
   "metadata": {
    "jp-MarkdownHeadingCollapsed": true
   },
   "source": [
    "### Pre-Event "
   ]
  },
  {
   "cell_type": "code",
   "execution_count": 43,
   "id": "956bd027",
   "metadata": {},
   "outputs": [
    {
     "data": {
      "text/plain": [
       "datetime.datetime(2019, 4, 30, 0, 0)"
      ]
     },
     "execution_count": 43,
     "metadata": {},
     "output_type": "execute_result"
    }
   ],
   "source": [
    "date_ASGN = datetime(2019,4,30)   # Find it in the spreadsheet\n",
    "date_ASGN"
   ]
  },
  {
   "cell_type": "code",
   "execution_count": 47,
   "id": "7f71c7f4",
   "metadata": {},
   "outputs": [
    {
     "name": "stdout",
     "output_type": "stream",
     "text": [
      "56 51\n"
     ]
    }
   ],
   "source": [
    "w1_start   = date_ASGN - timedelta(83)\n",
    "w1_end     = date_ASGN - timedelta(1)\n",
    "df1_ASGN    = yf.download('ASGN', start=w1_start, end=w1_end, progress=False)['Adj Close']\n",
    "df1_SP1500 = yf.download('^SP1500', start=w1_start, end=w1_end, progress=False)['Adj Close']\n",
    "\n",
    "\n",
    "print(len(df1_ASGN), len(df1_SP1500 ))                      "
   ]
  },
  {
   "cell_type": "code",
   "execution_count": 48,
   "id": "0da46c4f-2155-4cdc-b86e-c3e30190cead",
   "metadata": {},
   "outputs": [
    {
     "name": "stdout",
     "output_type": "stream",
     "text": [
      "50 50\n",
      "2.0481426582516287\n"
     ]
    }
   ],
   "source": [
    "# Calculate the percentage changes\n",
    "r1_ASGN = df1_ASGN.pct_change().dropna() * 100\n",
    "r1_SP1500 = df1_SP1500.pct_change().dropna() * 100\n",
    "\n",
    "# Align the indices\n",
    "aligned_data = pd.concat([r1_ASGN, r1_SP1500], axis=1).dropna()\n",
    "r1_ASGN_aligned = aligned_data.iloc[:, 0]\n",
    "r1_SP1500_aligned = aligned_data.iloc[:, 1]\n",
    "\n",
    "# Check the lengths of the aligned series\n",
    "print(len(r1_ASGN_aligned), len(r1_SP1500_aligned))\n",
    "\n",
    "# Calculate the covariance and variance\n",
    "cov1_ASGN = np.cov(r1_ASGN_aligned, r1_SP1500_aligned)[0, 1]\n",
    "var1_mkt = np.var(r1_SP1500_aligned)\n",
    "\n",
    "# Calculate the beta\n",
    "beta1_ASGN = cov1_ASGN / var1_mkt\n",
    "print(beta1_ASGN)"
   ]
  },
  {
   "cell_type": "code",
   "execution_count": 49,
   "id": "341e0787",
   "metadata": {},
   "outputs": [
    {
     "data": {
      "text/plain": [
       "Date\n",
       "2019-04-22   -1.429201\n",
       "2019-04-23    1.050461\n",
       "2019-04-24   -0.497810\n",
       "2019-04-25   -6.945258\n",
       "2019-04-26    2.166349\n",
       "Name: Adj Close, dtype: float64"
      ]
     },
     "execution_count": 49,
     "metadata": {},
     "output_type": "execute_result"
    }
   ],
   "source": [
    "r1_ASGN.tail()"
   ]
  },
  {
   "cell_type": "code",
   "execution_count": 50,
   "id": "e3a96baa",
   "metadata": {},
   "outputs": [
    {
     "data": {
      "text/plain": [
       "np.float64(-0.3102149975415303)"
      ]
     },
     "execution_count": 50,
     "metadata": {},
     "output_type": "execute_result"
    }
   ],
   "source": [
    "abr1_ASGN = r1_ASGN -  beta1_ASGN * r1_SP1500\n",
    "abr1_ASGN.mean()"
   ]
  },
  {
   "cell_type": "markdown",
   "id": "8f01dcf6-b396-496d-9908-636d7b985151",
   "metadata": {
    "jp-MarkdownHeadingCollapsed": true
   },
   "source": [
    "### Post-Event"
   ]
  },
  {
   "cell_type": "code",
   "execution_count": 52,
   "id": "b426318d",
   "metadata": {},
   "outputs": [
    {
     "name": "stdout",
     "output_type": "stream",
     "text": [
      "53 51\n"
     ]
    }
   ],
   "source": [
    "w2_start = date_ASGN+timedelta(1)\n",
    "w2_end = date_ASGN+timedelta(78)\n",
    "df2_ASGN = yf.download('ASGN', start=w2_start, end=w2_end, progress=False)['Adj Close']\n",
    "df2_SP1500 = yf.download('^SP1500', start=w2_start, end=w2_end, progress=False)['Adj Close']\n",
    "print(len(df2_ASGN), len(df2_SP1500 ))"
   ]
  },
  {
   "cell_type": "code",
   "execution_count": 53,
   "id": "28b49a7b",
   "metadata": {},
   "outputs": [
    {
     "name": "stdout",
     "output_type": "stream",
     "text": [
      "50 50\n",
      "1.6260446127708053\n"
     ]
    }
   ],
   "source": [
    "# Calculate the percentage changes\n",
    "r2_ASGN = df2_ASGN.pct_change().dropna() * 100\n",
    "r2_SP1500 = df2_SP1500.pct_change().dropna() * 100\n",
    "\n",
    "# Align the indices\n",
    "aligned_data = pd.concat([r2_ASGN, r2_SP1500], axis=1).dropna()\n",
    "r2_ASGN_aligned = aligned_data.iloc[:, 0]\n",
    "r2_SP1500_aligned = aligned_data.iloc[:, 1]\n",
    "\n",
    "# Check the lengths of the aligned series\n",
    "print(len(r2_ASGN_aligned), len(r2_SP1500_aligned))\n",
    "\n",
    "# Calculate the covariance and variance\n",
    "cov2_ASGN = np.cov(r2_ASGN_aligned, r2_SP1500_aligned)[0, 1]\n",
    "var2_mkt = np.var(r2_SP1500_aligned)\n",
    "\n",
    "# Calculate the beta\n",
    "beta2_ASGN = cov2_ASGN / var2_mkt\n",
    "print(beta2_ASGN)"
   ]
  },
  {
   "cell_type": "code",
   "execution_count": 54,
   "id": "fd03927a",
   "metadata": {},
   "outputs": [
    {
     "data": {
      "text/plain": [
       "np.float64(-0.2292045844925183)"
      ]
     },
     "execution_count": 54,
     "metadata": {},
     "output_type": "execute_result"
    }
   ],
   "source": [
    "abr2_ASGN = r2_ASGN -  beta2_ASGN * r2_SP1500\n",
    "abr2_ASGN.mean()"
   ]
  },
  {
   "cell_type": "markdown",
   "id": "6b13fa16-f72f-49d1-98fe-b8f586656b91",
   "metadata": {},
   "source": [
    "### Abnormal Returns"
   ]
  },
  {
   "cell_type": "code",
   "execution_count": 55,
   "id": "2aa3da50",
   "metadata": {},
   "outputs": [
    {
     "name": "stdout",
     "output_type": "stream",
     "text": [
      "Abnormal returns change from -0.31 to -0.23.\n"
     ]
    }
   ],
   "source": [
    "print(f'Abnormal returns change from {abr1_ASGN.mean():.2f} to {abr2_ASGN.mean():.2f}.')"
   ]
  },
  {
   "cell_type": "code",
   "execution_count": null,
   "id": "8a7fdd90",
   "metadata": {},
   "outputs": [],
   "source": []
  },
  {
   "cell_type": "markdown",
   "id": "61fe030d-1c92-42e4-8794-6fc1a87a8c45",
   "metadata": {
    "jp-MarkdownHeadingCollapsed": true
   },
   "source": [
    "### Libraries and Data"
   ]
  },
  {
   "cell_type": "code",
   "execution_count": 109,
   "id": "7b3a988f",
   "metadata": {},
   "outputs": [],
   "source": [
    "#!pip install matplotlib\n",
    "import matplotlib.pyplot as plt\n",
    "plt.rcParams['figure.dpi']=300      "
   ]
  },
  {
   "cell_type": "code",
   "execution_count": 110,
   "id": "dfa8bb6a",
   "metadata": {},
   "outputs": [],
   "source": [
    "import pandas as pd\n",
    "import yfinance as yf"
   ]
  },
  {
   "cell_type": "code",
   "execution_count": 111,
   "id": "70a3bd64",
   "metadata": {},
   "outputs": [],
   "source": [
    "df = yf.download([\"ACN\"],\n",
    "                 start=\"2019-01-01\",\n",
    "                 end=\"2019-12-31\",\n",
    "                progress=False)"
   ]
  },
  {
   "cell_type": "code",
   "execution_count": 112,
   "id": "9ce595db",
   "metadata": {},
   "outputs": [
    {
     "data": {
      "text/html": [
       "<div>\n",
       "<style scoped>\n",
       "    .dataframe tbody tr th:only-of-type {\n",
       "        vertical-align: middle;\n",
       "    }\n",
       "\n",
       "    .dataframe tbody tr th {\n",
       "        vertical-align: top;\n",
       "    }\n",
       "\n",
       "    .dataframe thead th {\n",
       "        text-align: right;\n",
       "    }\n",
       "</style>\n",
       "<table border=\"1\" class=\"dataframe\">\n",
       "  <thead>\n",
       "    <tr style=\"text-align: right;\">\n",
       "      <th></th>\n",
       "      <th>Open</th>\n",
       "      <th>High</th>\n",
       "      <th>Low</th>\n",
       "      <th>Close</th>\n",
       "      <th>Adj Close</th>\n",
       "      <th>Volume</th>\n",
       "    </tr>\n",
       "    <tr>\n",
       "      <th>Date</th>\n",
       "      <th></th>\n",
       "      <th></th>\n",
       "      <th></th>\n",
       "      <th></th>\n",
       "      <th></th>\n",
       "      <th></th>\n",
       "    </tr>\n",
       "  </thead>\n",
       "  <tbody>\n",
       "    <tr>\n",
       "      <th>2019-01-02</th>\n",
       "      <td>138.929993</td>\n",
       "      <td>141.190002</td>\n",
       "      <td>138.279999</td>\n",
       "      <td>140.589996</td>\n",
       "      <td>129.528748</td>\n",
       "      <td>2059300</td>\n",
       "    </tr>\n",
       "    <tr>\n",
       "      <th>2019-01-03</th>\n",
       "      <td>139.130005</td>\n",
       "      <td>139.570007</td>\n",
       "      <td>135.580002</td>\n",
       "      <td>135.789993</td>\n",
       "      <td>125.106400</td>\n",
       "      <td>2801300</td>\n",
       "    </tr>\n",
       "    <tr>\n",
       "      <th>2019-01-04</th>\n",
       "      <td>138.119995</td>\n",
       "      <td>141.339996</td>\n",
       "      <td>137.500000</td>\n",
       "      <td>141.070007</td>\n",
       "      <td>129.971008</td>\n",
       "      <td>2296400</td>\n",
       "    </tr>\n",
       "    <tr>\n",
       "      <th>2019-01-07</th>\n",
       "      <td>140.830002</td>\n",
       "      <td>142.369995</td>\n",
       "      <td>139.850006</td>\n",
       "      <td>141.559998</td>\n",
       "      <td>130.422424</td>\n",
       "      <td>2315600</td>\n",
       "    </tr>\n",
       "    <tr>\n",
       "      <th>2019-01-08</th>\n",
       "      <td>144.630005</td>\n",
       "      <td>146.809998</td>\n",
       "      <td>142.690002</td>\n",
       "      <td>145.139999</td>\n",
       "      <td>133.720795</td>\n",
       "      <td>2647800</td>\n",
       "    </tr>\n",
       "    <tr>\n",
       "      <th>...</th>\n",
       "      <td>...</td>\n",
       "      <td>...</td>\n",
       "      <td>...</td>\n",
       "      <td>...</td>\n",
       "      <td>...</td>\n",
       "      <td>...</td>\n",
       "    </tr>\n",
       "    <tr>\n",
       "      <th>2019-12-23</th>\n",
       "      <td>210.960007</td>\n",
       "      <td>211.289993</td>\n",
       "      <td>208.839996</td>\n",
       "      <td>210.830002</td>\n",
       "      <td>196.692764</td>\n",
       "      <td>2220900</td>\n",
       "    </tr>\n",
       "    <tr>\n",
       "      <th>2019-12-24</th>\n",
       "      <td>210.710007</td>\n",
       "      <td>211.669998</td>\n",
       "      <td>210.559998</td>\n",
       "      <td>211.610001</td>\n",
       "      <td>197.420486</td>\n",
       "      <td>998500</td>\n",
       "    </tr>\n",
       "    <tr>\n",
       "      <th>2019-12-26</th>\n",
       "      <td>211.610001</td>\n",
       "      <td>212.119995</td>\n",
       "      <td>211.259995</td>\n",
       "      <td>212.050003</td>\n",
       "      <td>197.830963</td>\n",
       "      <td>1059800</td>\n",
       "    </tr>\n",
       "    <tr>\n",
       "      <th>2019-12-27</th>\n",
       "      <td>212.449997</td>\n",
       "      <td>212.630005</td>\n",
       "      <td>211.610001</td>\n",
       "      <td>212.220001</td>\n",
       "      <td>197.989578</td>\n",
       "      <td>1292200</td>\n",
       "    </tr>\n",
       "    <tr>\n",
       "      <th>2019-12-30</th>\n",
       "      <td>212.240005</td>\n",
       "      <td>212.240005</td>\n",
       "      <td>209.050003</td>\n",
       "      <td>210.639999</td>\n",
       "      <td>196.515564</td>\n",
       "      <td>1193900</td>\n",
       "    </tr>\n",
       "  </tbody>\n",
       "</table>\n",
       "<p>251 rows × 6 columns</p>\n",
       "</div>"
      ],
      "text/plain": [
       "                  Open        High         Low       Close   Adj Close  \\\n",
       "Date                                                                     \n",
       "2019-01-02  138.929993  141.190002  138.279999  140.589996  129.528748   \n",
       "2019-01-03  139.130005  139.570007  135.580002  135.789993  125.106400   \n",
       "2019-01-04  138.119995  141.339996  137.500000  141.070007  129.971008   \n",
       "2019-01-07  140.830002  142.369995  139.850006  141.559998  130.422424   \n",
       "2019-01-08  144.630005  146.809998  142.690002  145.139999  133.720795   \n",
       "...                ...         ...         ...         ...         ...   \n",
       "2019-12-23  210.960007  211.289993  208.839996  210.830002  196.692764   \n",
       "2019-12-24  210.710007  211.669998  210.559998  211.610001  197.420486   \n",
       "2019-12-26  211.610001  212.119995  211.259995  212.050003  197.830963   \n",
       "2019-12-27  212.449997  212.630005  211.610001  212.220001  197.989578   \n",
       "2019-12-30  212.240005  212.240005  209.050003  210.639999  196.515564   \n",
       "\n",
       "             Volume  \n",
       "Date                 \n",
       "2019-01-02  2059300  \n",
       "2019-01-03  2801300  \n",
       "2019-01-04  2296400  \n",
       "2019-01-07  2315600  \n",
       "2019-01-08  2647800  \n",
       "...             ...  \n",
       "2019-12-23  2220900  \n",
       "2019-12-24   998500  \n",
       "2019-12-26  1059800  \n",
       "2019-12-27  1292200  \n",
       "2019-12-30  1193900  \n",
       "\n",
       "[251 rows x 6 columns]"
      ]
     },
     "execution_count": 112,
     "metadata": {},
     "output_type": "execute_result"
    }
   ],
   "source": [
    "df"
   ]
  },
  {
   "cell_type": "code",
   "execution_count": 113,
   "id": "11428c3e",
   "metadata": {},
   "outputs": [
    {
     "data": {
      "text/plain": [
       "Date\n",
       "2019-01-02    140.589996\n",
       "2019-01-03    135.789993\n",
       "2019-01-04    141.070007\n",
       "2019-01-07    141.559998\n",
       "2019-01-08    145.139999\n",
       "                 ...    \n",
       "2019-12-23    210.830002\n",
       "2019-12-24    211.610001\n",
       "2019-12-26    212.050003\n",
       "2019-12-27    212.220001\n",
       "2019-12-30    210.639999\n",
       "Name: Close, Length: 251, dtype: float64"
      ]
     },
     "execution_count": 113,
     "metadata": {},
     "output_type": "execute_result"
    }
   ],
   "source": [
    "df.Close"
   ]
  },
  {
   "cell_type": "code",
   "execution_count": 114,
   "id": "942c091b",
   "metadata": {},
   "outputs": [],
   "source": [
    "df.to_csv('CEO ACN.csv') "
   ]
  },
  {
   "cell_type": "code",
   "execution_count": 115,
   "id": "586e9f10",
   "metadata": {},
   "outputs": [
    {
     "data": {
      "text/html": [
       "<div>\n",
       "<style scoped>\n",
       "    .dataframe tbody tr th:only-of-type {\n",
       "        vertical-align: middle;\n",
       "    }\n",
       "\n",
       "    .dataframe tbody tr th {\n",
       "        vertical-align: top;\n",
       "    }\n",
       "\n",
       "    .dataframe thead th {\n",
       "        text-align: right;\n",
       "    }\n",
       "</style>\n",
       "<table border=\"1\" class=\"dataframe\">\n",
       "  <thead>\n",
       "    <tr style=\"text-align: right;\">\n",
       "      <th></th>\n",
       "      <th>Date</th>\n",
       "      <th>Open</th>\n",
       "      <th>High</th>\n",
       "      <th>Low</th>\n",
       "      <th>Close</th>\n",
       "      <th>Adj Close</th>\n",
       "      <th>Volume</th>\n",
       "    </tr>\n",
       "  </thead>\n",
       "  <tbody>\n",
       "    <tr>\n",
       "      <th>0</th>\n",
       "      <td>2019-01-02</td>\n",
       "      <td>138.929993</td>\n",
       "      <td>141.190002</td>\n",
       "      <td>138.279999</td>\n",
       "      <td>140.589996</td>\n",
       "      <td>129.528748</td>\n",
       "      <td>2059300</td>\n",
       "    </tr>\n",
       "    <tr>\n",
       "      <th>1</th>\n",
       "      <td>2019-01-03</td>\n",
       "      <td>139.130005</td>\n",
       "      <td>139.570007</td>\n",
       "      <td>135.580002</td>\n",
       "      <td>135.789993</td>\n",
       "      <td>125.106400</td>\n",
       "      <td>2801300</td>\n",
       "    </tr>\n",
       "    <tr>\n",
       "      <th>2</th>\n",
       "      <td>2019-01-04</td>\n",
       "      <td>138.119995</td>\n",
       "      <td>141.339996</td>\n",
       "      <td>137.500000</td>\n",
       "      <td>141.070007</td>\n",
       "      <td>129.971008</td>\n",
       "      <td>2296400</td>\n",
       "    </tr>\n",
       "    <tr>\n",
       "      <th>3</th>\n",
       "      <td>2019-01-07</td>\n",
       "      <td>140.830002</td>\n",
       "      <td>142.369995</td>\n",
       "      <td>139.850006</td>\n",
       "      <td>141.559998</td>\n",
       "      <td>130.422424</td>\n",
       "      <td>2315600</td>\n",
       "    </tr>\n",
       "    <tr>\n",
       "      <th>4</th>\n",
       "      <td>2019-01-08</td>\n",
       "      <td>144.630005</td>\n",
       "      <td>146.809998</td>\n",
       "      <td>142.690002</td>\n",
       "      <td>145.139999</td>\n",
       "      <td>133.720795</td>\n",
       "      <td>2647800</td>\n",
       "    </tr>\n",
       "    <tr>\n",
       "      <th>...</th>\n",
       "      <td>...</td>\n",
       "      <td>...</td>\n",
       "      <td>...</td>\n",
       "      <td>...</td>\n",
       "      <td>...</td>\n",
       "      <td>...</td>\n",
       "      <td>...</td>\n",
       "    </tr>\n",
       "    <tr>\n",
       "      <th>246</th>\n",
       "      <td>2019-12-23</td>\n",
       "      <td>210.960007</td>\n",
       "      <td>211.289993</td>\n",
       "      <td>208.839996</td>\n",
       "      <td>210.830002</td>\n",
       "      <td>196.692764</td>\n",
       "      <td>2220900</td>\n",
       "    </tr>\n",
       "    <tr>\n",
       "      <th>247</th>\n",
       "      <td>2019-12-24</td>\n",
       "      <td>210.710007</td>\n",
       "      <td>211.669998</td>\n",
       "      <td>210.559998</td>\n",
       "      <td>211.610001</td>\n",
       "      <td>197.420486</td>\n",
       "      <td>998500</td>\n",
       "    </tr>\n",
       "    <tr>\n",
       "      <th>248</th>\n",
       "      <td>2019-12-26</td>\n",
       "      <td>211.610001</td>\n",
       "      <td>212.119995</td>\n",
       "      <td>211.259995</td>\n",
       "      <td>212.050003</td>\n",
       "      <td>197.830963</td>\n",
       "      <td>1059800</td>\n",
       "    </tr>\n",
       "    <tr>\n",
       "      <th>249</th>\n",
       "      <td>2019-12-27</td>\n",
       "      <td>212.449997</td>\n",
       "      <td>212.630005</td>\n",
       "      <td>211.610001</td>\n",
       "      <td>212.220001</td>\n",
       "      <td>197.989578</td>\n",
       "      <td>1292200</td>\n",
       "    </tr>\n",
       "    <tr>\n",
       "      <th>250</th>\n",
       "      <td>2019-12-30</td>\n",
       "      <td>212.240005</td>\n",
       "      <td>212.240005</td>\n",
       "      <td>209.050003</td>\n",
       "      <td>210.639999</td>\n",
       "      <td>196.515564</td>\n",
       "      <td>1193900</td>\n",
       "    </tr>\n",
       "  </tbody>\n",
       "</table>\n",
       "<p>251 rows × 7 columns</p>\n",
       "</div>"
      ],
      "text/plain": [
       "           Date        Open        High         Low       Close   Adj Close  \\\n",
       "0    2019-01-02  138.929993  141.190002  138.279999  140.589996  129.528748   \n",
       "1    2019-01-03  139.130005  139.570007  135.580002  135.789993  125.106400   \n",
       "2    2019-01-04  138.119995  141.339996  137.500000  141.070007  129.971008   \n",
       "3    2019-01-07  140.830002  142.369995  139.850006  141.559998  130.422424   \n",
       "4    2019-01-08  144.630005  146.809998  142.690002  145.139999  133.720795   \n",
       "..          ...         ...         ...         ...         ...         ...   \n",
       "246  2019-12-23  210.960007  211.289993  208.839996  210.830002  196.692764   \n",
       "247  2019-12-24  210.710007  211.669998  210.559998  211.610001  197.420486   \n",
       "248  2019-12-26  211.610001  212.119995  211.259995  212.050003  197.830963   \n",
       "249  2019-12-27  212.449997  212.630005  211.610001  212.220001  197.989578   \n",
       "250  2019-12-30  212.240005  212.240005  209.050003  210.639999  196.515564   \n",
       "\n",
       "      Volume  \n",
       "0    2059300  \n",
       "1    2801300  \n",
       "2    2296400  \n",
       "3    2315600  \n",
       "4    2647800  \n",
       "..       ...  \n",
       "246  2220900  \n",
       "247   998500  \n",
       "248  1059800  \n",
       "249  1292200  \n",
       "250  1193900  \n",
       "\n",
       "[251 rows x 7 columns]"
      ]
     },
     "execution_count": 115,
     "metadata": {},
     "output_type": "execute_result"
    }
   ],
   "source": [
    "pd.read_csv('CEO ACN.csv')"
   ]
  },
  {
   "cell_type": "code",
   "execution_count": 116,
   "id": "c27771a3",
   "metadata": {},
   "outputs": [],
   "source": [
    "import pandas as pd\n",
    "import numpy as np\n",
    "from datetime import date, datetime, timedelta\n",
    "import statsmodels.api as sm\n",
    "import yfinance as yf\n",
    "import pandas_datareader as pdr"
   ]
  },
  {
   "cell_type": "code",
   "execution_count": 117,
   "id": "d36e70df",
   "metadata": {},
   "outputs": [],
   "source": [
    "file = \"CEO ACN.csv\" # Can paste the full path here in front of the file name\n",
    "x1 = pd.read_csv(file)"
   ]
  },
  {
   "cell_type": "markdown",
   "id": "71d7011a-71b0-48e7-9e7b-2ff436fd6ace",
   "metadata": {},
   "source": [
    "### Pre-Event"
   ]
  },
  {
   "cell_type": "code",
   "execution_count": 118,
   "id": "9483c7e7",
   "metadata": {},
   "outputs": [
    {
     "data": {
      "text/plain": [
       "datetime.datetime(2019, 1, 10, 0, 0)"
      ]
     },
     "execution_count": 118,
     "metadata": {},
     "output_type": "execute_result"
    }
   ],
   "source": [
    "date_ACN = datetime(2019,1,10)   # Find it in the spreadsheet\n",
    "date_ACN"
   ]
  },
  {
   "cell_type": "code",
   "execution_count": 126,
   "id": "f6ac353f",
   "metadata": {},
   "outputs": [
    {
     "name": "stdout",
     "output_type": "stream",
     "text": [
      "54 51\n"
     ]
    }
   ],
   "source": [
    "w1_start   = date_ACN - timedelta(83)\n",
    "w1_end     = date_ACN - timedelta(1)\n",
    "df1_ACN    = yf.download('ACN', start=w1_start, end=w1_end, progress=False)['Adj Close']\n",
    "df1_SP1500 = yf.download('^SP1500', start=w1_start, end=w1_end, progress=False)['Adj Close']\n",
    "\n",
    "\n",
    "print(len(df1_ACN), len(df1_SP1500 ))                       # ACN is the code of Meta；SP1500 is the Market Index; Adj Close is adjusted price"
   ]
  },
  {
   "cell_type": "code",
   "execution_count": 127,
   "id": "c5a6aadb-2ea9-45ee-abd5-bfd0e23d5ffe",
   "metadata": {},
   "outputs": [
    {
     "name": "stdout",
     "output_type": "stream",
     "text": [
      "50 50\n",
      "1.1167058995602452\n"
     ]
    }
   ],
   "source": [
    "# Calculate the percentage changes\n",
    "r1_ACN = df1_ACN.pct_change().dropna() * 100\n",
    "r1_SP1500 = df1_SP1500.pct_change().dropna() * 100\n",
    "\n",
    "# Align the indices\n",
    "aligned_data = pd.concat([r1_ACN, r1_SP1500], axis=1).dropna()\n",
    "r1_ACN_aligned = aligned_data.iloc[:, 0]\n",
    "r1_SP1500_aligned = aligned_data.iloc[:, 1]\n",
    "\n",
    "# Check the lengths of the aligned series\n",
    "print(len(r1_ACN_aligned), len(r1_SP1500_aligned))\n",
    "\n",
    "# Calculate the covariance and variance\n",
    "cov1_ACN = np.cov(r1_ACN_aligned, r1_SP1500_aligned)[0, 1]\n",
    "var1_mkt = np.var(r1_SP1500_aligned)\n",
    "\n",
    "# Calculate the beta\n",
    "beta1_ACN = cov1_ACN / var1_mkt\n",
    "print(beta1_ACN)"
   ]
  },
  {
   "cell_type": "code",
   "execution_count": 128,
   "id": "72ea3eda",
   "metadata": {},
   "outputs": [
    {
     "data": {
      "text/plain": [
       "Date\n",
       "2019-01-02   -0.297857\n",
       "2019-01-03   -3.414177\n",
       "2019-01-04    3.888347\n",
       "2019-01-07    0.347356\n",
       "2019-01-08    2.528990\n",
       "Name: Adj Close, dtype: float64"
      ]
     },
     "execution_count": 128,
     "metadata": {},
     "output_type": "execute_result"
    }
   ],
   "source": [
    "r1_ACN.tail()"
   ]
  },
  {
   "cell_type": "code",
   "execution_count": 129,
   "id": "9de045eb",
   "metadata": {},
   "outputs": [
    {
     "data": {
      "text/plain": [
       "np.float64(0.0646027283836068)"
      ]
     },
     "execution_count": 129,
     "metadata": {},
     "output_type": "execute_result"
    }
   ],
   "source": [
    "abr1_ACN = r1_ACN -  beta1_ACN * r1_SP1500\n",
    "abr1_ACN.mean()"
   ]
  },
  {
   "cell_type": "markdown",
   "id": "fef5c596-eb07-4da1-a4c8-29359c59bc0b",
   "metadata": {},
   "source": [
    "### Post-Event"
   ]
  },
  {
   "cell_type": "code",
   "execution_count": 131,
   "id": "79126502",
   "metadata": {},
   "outputs": [
    {
     "name": "stdout",
     "output_type": "stream",
     "text": [
      "54 51\n"
     ]
    }
   ],
   "source": [
    "w2_start = date_ACN+timedelta(1)\n",
    "w2_end = date_ACN+timedelta(80)\n",
    "df2_ACN = yf.download('ACN', start=w2_start, end=w2_end, progress=False)['Adj Close']\n",
    "df2_SP1500 = yf.download('^SP1500', start=w2_start, end=w2_end, progress=False)['Adj Close']\n",
    "print(len(df2_ACN), len(df2_SP1500 ))"
   ]
  },
  {
   "cell_type": "code",
   "execution_count": 132,
   "id": "206ce2b8-88ba-42a7-bf0e-09492390813c",
   "metadata": {},
   "outputs": [
    {
     "name": "stdout",
     "output_type": "stream",
     "text": [
      "50 50\n",
      "0.9111389359280789\n"
     ]
    }
   ],
   "source": [
    "# Calculate the percentage changes\n",
    "r2_ACN = df2_ACN.pct_change().dropna() * 100\n",
    "r2_SP1500 = df2_SP1500.pct_change().dropna() * 100\n",
    "\n",
    "# Align the indices\n",
    "aligned_data = pd.concat([r2_ACN, r2_SP1500], axis=1).dropna()\n",
    "r2_ACN_aligned = aligned_data.iloc[:, 0]\n",
    "r2_SP1500_aligned = aligned_data.iloc[:, 1]\n",
    "\n",
    "# Check the lengths of the aligned series\n",
    "print(len(r2_ACN_aligned), len(r2_SP1500_aligned))\n",
    "\n",
    "# Calculate the covariance and variance\n",
    "cov2_ACN = np.cov(r2_ACN_aligned, r2_SP1500_aligned)[0, 1]\n",
    "var2_mkt = np.var(r2_SP1500_aligned)\n",
    "\n",
    "# Calculate the beta\n",
    "beta2_ACN = cov2_ACN / var2_mkt\n",
    "print(beta2_ACN)"
   ]
  },
  {
   "cell_type": "code",
   "execution_count": 133,
   "id": "df8b2d9a",
   "metadata": {},
   "outputs": [
    {
     "data": {
      "text/plain": [
       "np.float64(0.225808139513773)"
      ]
     },
     "execution_count": 133,
     "metadata": {},
     "output_type": "execute_result"
    }
   ],
   "source": [
    "abr2_ACN = r2_ACN -  beta2_ACN * r2_SP1500\n",
    "abr2_ACN.mean()"
   ]
  },
  {
   "cell_type": "code",
   "execution_count": 134,
   "id": "4ce90fdd",
   "metadata": {},
   "outputs": [
    {
     "name": "stdout",
     "output_type": "stream",
     "text": [
      "Abnormal returns change from 0.06 to 0.23.\n"
     ]
    }
   ],
   "source": [
    "print(f'Abnormal returns change from {abr1_ACN.mean():.2f} to {abr2_ACN.mean():.2f}.')"
   ]
  },
  {
   "cell_type": "code",
   "execution_count": null,
   "id": "6fadb183",
   "metadata": {},
   "outputs": [],
   "source": []
  },
  {
   "cell_type": "markdown",
   "id": "13b590a8-361a-457c-9579-1e4eaa162dc9",
   "metadata": {
    "jp-MarkdownHeadingCollapsed": true
   },
   "source": [
    "### Libraries and Data"
   ]
  },
  {
   "cell_type": "code",
   "execution_count": 51,
   "id": "35a69cb1",
   "metadata": {},
   "outputs": [],
   "source": [
    "#!pip install matplotlib\n",
    "import matplotlib.pyplot as plt\n",
    "plt.rcParams['figure.dpi']=300      "
   ]
  },
  {
   "cell_type": "code",
   "execution_count": 52,
   "id": "705d6952",
   "metadata": {},
   "outputs": [],
   "source": [
    "import pandas as pd\n",
    "import yfinance as yf"
   ]
  },
  {
   "cell_type": "code",
   "execution_count": 53,
   "id": "852d1021",
   "metadata": {},
   "outputs": [],
   "source": [
    "df = yf.download([\"WFC\"],\n",
    "                 start=\"2019-01-01\",\n",
    "                 end=\"2019-12-31\",\n",
    "                progress=False)"
   ]
  },
  {
   "cell_type": "code",
   "execution_count": 54,
   "id": "3d7c2b08",
   "metadata": {},
   "outputs": [
    {
     "data": {
      "text/html": [
       "<div>\n",
       "<style scoped>\n",
       "    .dataframe tbody tr th:only-of-type {\n",
       "        vertical-align: middle;\n",
       "    }\n",
       "\n",
       "    .dataframe tbody tr th {\n",
       "        vertical-align: top;\n",
       "    }\n",
       "\n",
       "    .dataframe thead th {\n",
       "        text-align: right;\n",
       "    }\n",
       "</style>\n",
       "<table border=\"1\" class=\"dataframe\">\n",
       "  <thead>\n",
       "    <tr style=\"text-align: right;\">\n",
       "      <th></th>\n",
       "      <th>Open</th>\n",
       "      <th>High</th>\n",
       "      <th>Low</th>\n",
       "      <th>Close</th>\n",
       "      <th>Adj Close</th>\n",
       "      <th>Volume</th>\n",
       "    </tr>\n",
       "    <tr>\n",
       "      <th>Date</th>\n",
       "      <th></th>\n",
       "      <th></th>\n",
       "      <th></th>\n",
       "      <th></th>\n",
       "      <th></th>\n",
       "      <th></th>\n",
       "    </tr>\n",
       "  </thead>\n",
       "  <tbody>\n",
       "    <tr>\n",
       "      <th>2019-01-02</th>\n",
       "      <td>45.529999</td>\n",
       "      <td>46.950001</td>\n",
       "      <td>45.410000</td>\n",
       "      <td>46.939999</td>\n",
       "      <td>39.733082</td>\n",
       "      <td>20295200</td>\n",
       "    </tr>\n",
       "    <tr>\n",
       "      <th>2019-01-03</th>\n",
       "      <td>46.650002</td>\n",
       "      <td>47.349998</td>\n",
       "      <td>46.369999</td>\n",
       "      <td>46.570000</td>\n",
       "      <td>39.419895</td>\n",
       "      <td>22262000</td>\n",
       "    </tr>\n",
       "    <tr>\n",
       "      <th>2019-01-04</th>\n",
       "      <td>47.419998</td>\n",
       "      <td>48.110001</td>\n",
       "      <td>47.200001</td>\n",
       "      <td>47.950001</td>\n",
       "      <td>40.588013</td>\n",
       "      <td>23343600</td>\n",
       "    </tr>\n",
       "    <tr>\n",
       "      <th>2019-01-07</th>\n",
       "      <td>47.779999</td>\n",
       "      <td>48.230000</td>\n",
       "      <td>47.540001</td>\n",
       "      <td>47.639999</td>\n",
       "      <td>40.325600</td>\n",
       "      <td>21858000</td>\n",
       "    </tr>\n",
       "    <tr>\n",
       "      <th>2019-01-08</th>\n",
       "      <td>47.900002</td>\n",
       "      <td>48.160000</td>\n",
       "      <td>46.919998</td>\n",
       "      <td>47.540001</td>\n",
       "      <td>40.240959</td>\n",
       "      <td>19702900</td>\n",
       "    </tr>\n",
       "    <tr>\n",
       "      <th>...</th>\n",
       "      <td>...</td>\n",
       "      <td>...</td>\n",
       "      <td>...</td>\n",
       "      <td>...</td>\n",
       "      <td>...</td>\n",
       "      <td>...</td>\n",
       "    </tr>\n",
       "    <tr>\n",
       "      <th>2019-12-23</th>\n",
       "      <td>53.340000</td>\n",
       "      <td>54.000000</td>\n",
       "      <td>53.250000</td>\n",
       "      <td>53.810001</td>\n",
       "      <td>47.377083</td>\n",
       "      <td>17637700</td>\n",
       "    </tr>\n",
       "    <tr>\n",
       "      <th>2019-12-24</th>\n",
       "      <td>53.950001</td>\n",
       "      <td>54.040001</td>\n",
       "      <td>53.740002</td>\n",
       "      <td>53.820000</td>\n",
       "      <td>47.385876</td>\n",
       "      <td>4635500</td>\n",
       "    </tr>\n",
       "    <tr>\n",
       "      <th>2019-12-26</th>\n",
       "      <td>54.049999</td>\n",
       "      <td>54.389999</td>\n",
       "      <td>53.950001</td>\n",
       "      <td>54.150002</td>\n",
       "      <td>47.676426</td>\n",
       "      <td>12517100</td>\n",
       "    </tr>\n",
       "    <tr>\n",
       "      <th>2019-12-27</th>\n",
       "      <td>54.290001</td>\n",
       "      <td>54.320000</td>\n",
       "      <td>53.869999</td>\n",
       "      <td>53.919998</td>\n",
       "      <td>47.473927</td>\n",
       "      <td>9892000</td>\n",
       "    </tr>\n",
       "    <tr>\n",
       "      <th>2019-12-30</th>\n",
       "      <td>54.169998</td>\n",
       "      <td>54.259998</td>\n",
       "      <td>53.500000</td>\n",
       "      <td>53.599998</td>\n",
       "      <td>47.192181</td>\n",
       "      <td>10900500</td>\n",
       "    </tr>\n",
       "  </tbody>\n",
       "</table>\n",
       "<p>251 rows × 6 columns</p>\n",
       "</div>"
      ],
      "text/plain": [
       "                 Open       High        Low      Close  Adj Close    Volume\n",
       "Date                                                                       \n",
       "2019-01-02  45.529999  46.950001  45.410000  46.939999  39.733082  20295200\n",
       "2019-01-03  46.650002  47.349998  46.369999  46.570000  39.419895  22262000\n",
       "2019-01-04  47.419998  48.110001  47.200001  47.950001  40.588013  23343600\n",
       "2019-01-07  47.779999  48.230000  47.540001  47.639999  40.325600  21858000\n",
       "2019-01-08  47.900002  48.160000  46.919998  47.540001  40.240959  19702900\n",
       "...               ...        ...        ...        ...        ...       ...\n",
       "2019-12-23  53.340000  54.000000  53.250000  53.810001  47.377083  17637700\n",
       "2019-12-24  53.950001  54.040001  53.740002  53.820000  47.385876   4635500\n",
       "2019-12-26  54.049999  54.389999  53.950001  54.150002  47.676426  12517100\n",
       "2019-12-27  54.290001  54.320000  53.869999  53.919998  47.473927   9892000\n",
       "2019-12-30  54.169998  54.259998  53.500000  53.599998  47.192181  10900500\n",
       "\n",
       "[251 rows x 6 columns]"
      ]
     },
     "execution_count": 54,
     "metadata": {},
     "output_type": "execute_result"
    }
   ],
   "source": [
    "df"
   ]
  },
  {
   "cell_type": "code",
   "execution_count": 55,
   "id": "b486fa2b",
   "metadata": {},
   "outputs": [
    {
     "data": {
      "text/plain": [
       "Date\n",
       "2019-01-02    46.939999\n",
       "2019-01-03    46.570000\n",
       "2019-01-04    47.950001\n",
       "2019-01-07    47.639999\n",
       "2019-01-08    47.540001\n",
       "                ...    \n",
       "2019-12-23    53.810001\n",
       "2019-12-24    53.820000\n",
       "2019-12-26    54.150002\n",
       "2019-12-27    53.919998\n",
       "2019-12-30    53.599998\n",
       "Name: Close, Length: 251, dtype: float64"
      ]
     },
     "execution_count": 55,
     "metadata": {},
     "output_type": "execute_result"
    }
   ],
   "source": [
    "df.Close"
   ]
  },
  {
   "cell_type": "code",
   "execution_count": 56,
   "id": "3c6f8bbc",
   "metadata": {},
   "outputs": [],
   "source": [
    "df.to_csv('CEO WFC.csv') "
   ]
  },
  {
   "cell_type": "code",
   "execution_count": 57,
   "id": "c1e0de6b",
   "metadata": {},
   "outputs": [
    {
     "data": {
      "text/html": [
       "<div>\n",
       "<style scoped>\n",
       "    .dataframe tbody tr th:only-of-type {\n",
       "        vertical-align: middle;\n",
       "    }\n",
       "\n",
       "    .dataframe tbody tr th {\n",
       "        vertical-align: top;\n",
       "    }\n",
       "\n",
       "    .dataframe thead th {\n",
       "        text-align: right;\n",
       "    }\n",
       "</style>\n",
       "<table border=\"1\" class=\"dataframe\">\n",
       "  <thead>\n",
       "    <tr style=\"text-align: right;\">\n",
       "      <th></th>\n",
       "      <th>Date</th>\n",
       "      <th>Open</th>\n",
       "      <th>High</th>\n",
       "      <th>Low</th>\n",
       "      <th>Close</th>\n",
       "      <th>Adj Close</th>\n",
       "      <th>Volume</th>\n",
       "    </tr>\n",
       "  </thead>\n",
       "  <tbody>\n",
       "    <tr>\n",
       "      <th>0</th>\n",
       "      <td>2019-01-02</td>\n",
       "      <td>45.529999</td>\n",
       "      <td>46.950001</td>\n",
       "      <td>45.410000</td>\n",
       "      <td>46.939999</td>\n",
       "      <td>39.733082</td>\n",
       "      <td>20295200</td>\n",
       "    </tr>\n",
       "    <tr>\n",
       "      <th>1</th>\n",
       "      <td>2019-01-03</td>\n",
       "      <td>46.650002</td>\n",
       "      <td>47.349998</td>\n",
       "      <td>46.369999</td>\n",
       "      <td>46.570000</td>\n",
       "      <td>39.419895</td>\n",
       "      <td>22262000</td>\n",
       "    </tr>\n",
       "    <tr>\n",
       "      <th>2</th>\n",
       "      <td>2019-01-04</td>\n",
       "      <td>47.419998</td>\n",
       "      <td>48.110001</td>\n",
       "      <td>47.200001</td>\n",
       "      <td>47.950001</td>\n",
       "      <td>40.588013</td>\n",
       "      <td>23343600</td>\n",
       "    </tr>\n",
       "    <tr>\n",
       "      <th>3</th>\n",
       "      <td>2019-01-07</td>\n",
       "      <td>47.779999</td>\n",
       "      <td>48.230000</td>\n",
       "      <td>47.540001</td>\n",
       "      <td>47.639999</td>\n",
       "      <td>40.325600</td>\n",
       "      <td>21858000</td>\n",
       "    </tr>\n",
       "    <tr>\n",
       "      <th>4</th>\n",
       "      <td>2019-01-08</td>\n",
       "      <td>47.900002</td>\n",
       "      <td>48.160000</td>\n",
       "      <td>46.919998</td>\n",
       "      <td>47.540001</td>\n",
       "      <td>40.240959</td>\n",
       "      <td>19702900</td>\n",
       "    </tr>\n",
       "    <tr>\n",
       "      <th>...</th>\n",
       "      <td>...</td>\n",
       "      <td>...</td>\n",
       "      <td>...</td>\n",
       "      <td>...</td>\n",
       "      <td>...</td>\n",
       "      <td>...</td>\n",
       "      <td>...</td>\n",
       "    </tr>\n",
       "    <tr>\n",
       "      <th>246</th>\n",
       "      <td>2019-12-23</td>\n",
       "      <td>53.340000</td>\n",
       "      <td>54.000000</td>\n",
       "      <td>53.250000</td>\n",
       "      <td>53.810001</td>\n",
       "      <td>47.377083</td>\n",
       "      <td>17637700</td>\n",
       "    </tr>\n",
       "    <tr>\n",
       "      <th>247</th>\n",
       "      <td>2019-12-24</td>\n",
       "      <td>53.950001</td>\n",
       "      <td>54.040001</td>\n",
       "      <td>53.740002</td>\n",
       "      <td>53.820000</td>\n",
       "      <td>47.385876</td>\n",
       "      <td>4635500</td>\n",
       "    </tr>\n",
       "    <tr>\n",
       "      <th>248</th>\n",
       "      <td>2019-12-26</td>\n",
       "      <td>54.049999</td>\n",
       "      <td>54.389999</td>\n",
       "      <td>53.950001</td>\n",
       "      <td>54.150002</td>\n",
       "      <td>47.676426</td>\n",
       "      <td>12517100</td>\n",
       "    </tr>\n",
       "    <tr>\n",
       "      <th>249</th>\n",
       "      <td>2019-12-27</td>\n",
       "      <td>54.290001</td>\n",
       "      <td>54.320000</td>\n",
       "      <td>53.869999</td>\n",
       "      <td>53.919998</td>\n",
       "      <td>47.473927</td>\n",
       "      <td>9892000</td>\n",
       "    </tr>\n",
       "    <tr>\n",
       "      <th>250</th>\n",
       "      <td>2019-12-30</td>\n",
       "      <td>54.169998</td>\n",
       "      <td>54.259998</td>\n",
       "      <td>53.500000</td>\n",
       "      <td>53.599998</td>\n",
       "      <td>47.192181</td>\n",
       "      <td>10900500</td>\n",
       "    </tr>\n",
       "  </tbody>\n",
       "</table>\n",
       "<p>251 rows × 7 columns</p>\n",
       "</div>"
      ],
      "text/plain": [
       "           Date       Open       High        Low      Close  Adj Close  \\\n",
       "0    2019-01-02  45.529999  46.950001  45.410000  46.939999  39.733082   \n",
       "1    2019-01-03  46.650002  47.349998  46.369999  46.570000  39.419895   \n",
       "2    2019-01-04  47.419998  48.110001  47.200001  47.950001  40.588013   \n",
       "3    2019-01-07  47.779999  48.230000  47.540001  47.639999  40.325600   \n",
       "4    2019-01-08  47.900002  48.160000  46.919998  47.540001  40.240959   \n",
       "..          ...        ...        ...        ...        ...        ...   \n",
       "246  2019-12-23  53.340000  54.000000  53.250000  53.810001  47.377083   \n",
       "247  2019-12-24  53.950001  54.040001  53.740002  53.820000  47.385876   \n",
       "248  2019-12-26  54.049999  54.389999  53.950001  54.150002  47.676426   \n",
       "249  2019-12-27  54.290001  54.320000  53.869999  53.919998  47.473927   \n",
       "250  2019-12-30  54.169998  54.259998  53.500000  53.599998  47.192181   \n",
       "\n",
       "       Volume  \n",
       "0    20295200  \n",
       "1    22262000  \n",
       "2    23343600  \n",
       "3    21858000  \n",
       "4    19702900  \n",
       "..        ...  \n",
       "246  17637700  \n",
       "247   4635500  \n",
       "248  12517100  \n",
       "249   9892000  \n",
       "250  10900500  \n",
       "\n",
       "[251 rows x 7 columns]"
      ]
     },
     "execution_count": 57,
     "metadata": {},
     "output_type": "execute_result"
    }
   ],
   "source": [
    "pd.read_csv('CEO WFC.csv')"
   ]
  },
  {
   "cell_type": "code",
   "execution_count": 58,
   "id": "36cf6791",
   "metadata": {},
   "outputs": [],
   "source": [
    "import pandas as pd\n",
    "import numpy as np\n",
    "from datetime import date, datetime, timedelta\n",
    "import statsmodels.api as sm\n",
    "import yfinance as yf\n",
    "import pandas_datareader as pdr"
   ]
  },
  {
   "cell_type": "code",
   "execution_count": 59,
   "id": "58751410",
   "metadata": {},
   "outputs": [],
   "source": [
    "file = \"CEO WFC.csv\" # Can paste the full path here in front of the file name\n",
    "x1 = pd.read_csv(file)"
   ]
  },
  {
   "cell_type": "markdown",
   "id": "57536beb-3737-4600-b80b-0b7c32b862d9",
   "metadata": {},
   "source": [
    "### Pre-Event"
   ]
  },
  {
   "cell_type": "code",
   "execution_count": 60,
   "id": "c7e07495",
   "metadata": {},
   "outputs": [
    {
     "data": {
      "text/plain": [
       "datetime.datetime(2019, 6, 30, 0, 0)"
      ]
     },
     "execution_count": 60,
     "metadata": {},
     "output_type": "execute_result"
    }
   ],
   "source": [
    "date_WFC = datetime(2019,6,30)   # Find it in the spreadsheet\n",
    "date_WFC"
   ]
  },
  {
   "cell_type": "code",
   "execution_count": 61,
   "id": "945a4e11",
   "metadata": {},
   "outputs": [
    {
     "name": "stdout",
     "output_type": "stream",
     "text": [
      "54 51\n"
     ]
    }
   ],
   "source": [
    "w1_start   = date_WFC - timedelta(79)\n",
    "w1_end     = date_WFC - timedelta(1)\n",
    "df1_WFC    = yf.download('WFC', start=w1_start, end=w1_end, progress=False)['Adj Close']\n",
    "df1_SP1500 = yf.download('^SP1500', start=w1_start, end=w1_end, progress=False)['Adj Close']\n",
    "\n",
    "\n",
    "print(len(df1_WFC), len(df1_SP1500 ))                       # JMHLY is the code of Meta；SP1500 is the Market Index; Adj Close is adjusted price"
   ]
  },
  {
   "cell_type": "code",
   "execution_count": 62,
   "id": "9359cb58-87c5-4e23-9f48-f7f89d3c80ad",
   "metadata": {},
   "outputs": [
    {
     "name": "stdout",
     "output_type": "stream",
     "text": [
      "50 50\n",
      "0.9014929679473136\n"
     ]
    }
   ],
   "source": [
    "# Calculate the percentage changes\n",
    "r1_WFC = df1_WFC.pct_change().dropna() * 100\n",
    "r1_SP1500 = df1_SP1500.pct_change().dropna() * 100\n",
    "\n",
    "# Align the indices\n",
    "aligned_data = pd.concat([r1_WFC, r1_SP1500], axis=1).dropna()\n",
    "r1_WFC_aligned = aligned_data.iloc[:, 0]\n",
    "r1_SP1500_aligned = aligned_data.iloc[:, 1]\n",
    "\n",
    "# Check the lengths of the aligned series\n",
    "print(len(r1_WFC_aligned), len(r1_SP1500_aligned))\n",
    "\n",
    "# Calculate the covariance and variance\n",
    "cov1_WFC = np.cov(r1_WFC_aligned, r1_SP1500_aligned)[0, 1]\n",
    "var1_mkt = np.var(r1_SP1500_aligned)\n",
    "\n",
    "# Calculate the beta\n",
    "beta1_WFC = cov1_WFC / var1_mkt\n",
    "print(beta1_WFC)"
   ]
  },
  {
   "cell_type": "code",
   "execution_count": 63,
   "id": "5dcdb684",
   "metadata": {},
   "outputs": [
    {
     "data": {
      "text/plain": [
       "Date\n",
       "2019-06-24   -1.322257\n",
       "2019-06-25   -0.280975\n",
       "2019-06-26   -0.736874\n",
       "2019-06-27    1.069896\n",
       "2019-06-28    2.225083\n",
       "Name: Adj Close, dtype: float64"
      ]
     },
     "execution_count": 63,
     "metadata": {},
     "output_type": "execute_result"
    }
   ],
   "source": [
    "r1_WFC.tail()"
   ]
  },
  {
   "cell_type": "code",
   "execution_count": 64,
   "id": "93ce7f78",
   "metadata": {},
   "outputs": [
    {
     "data": {
      "text/plain": [
       "np.float64(-0.03019519671982991)"
      ]
     },
     "execution_count": 64,
     "metadata": {},
     "output_type": "execute_result"
    }
   ],
   "source": [
    "abr1_WFC = r1_WFC -  beta1_WFC * r1_SP1500\n",
    "abr1_WFC.mean()"
   ]
  },
  {
   "cell_type": "markdown",
   "id": "a75a88f7-bfb2-4617-8848-4a13938d931a",
   "metadata": {},
   "source": [
    "### Post-Event"
   ]
  },
  {
   "cell_type": "code",
   "execution_count": 65,
   "id": "9f87cff3",
   "metadata": {},
   "outputs": [
    {
     "name": "stdout",
     "output_type": "stream",
     "text": [
      "51 51\n"
     ]
    }
   ],
   "source": [
    "w2_start = date_WFC+timedelta(1)\n",
    "w2_end = date_WFC+timedelta(74)\n",
    "df2_WFC = yf.download('WFC', start=w2_start, end=w2_end, progress=False)['Adj Close']\n",
    "df2_SP1500 = yf.download('^SP1500', start=w2_start, end=w2_end, progress=False)['Adj Close']\n",
    "print(len(df2_WFC), len(df2_SP1500 ))"
   ]
  },
  {
   "cell_type": "code",
   "execution_count": 66,
   "id": "40b1a5e2-1887-44af-a104-ed8580e35ed3",
   "metadata": {},
   "outputs": [
    {
     "name": "stdout",
     "output_type": "stream",
     "text": [
      "50 50\n",
      "1.261925757159589\n"
     ]
    }
   ],
   "source": [
    "# Calculate the percentage changes\n",
    "r2_WFC = df2_WFC.pct_change().dropna() * 100\n",
    "r2_SP1500 = df2_SP1500.pct_change().dropna() * 100\n",
    "\n",
    "# Align the indices\n",
    "aligned_data = pd.concat([r2_WFC, r2_SP1500], axis=1).dropna()\n",
    "r2_WFC_aligned = aligned_data.iloc[:, 0]\n",
    "r2_SP1500_aligned = aligned_data.iloc[:, 1]\n",
    "\n",
    "# Check the lengths of the aligned series\n",
    "print(len(r2_WFC_aligned), len(r2_SP1500_aligned))\n",
    "\n",
    "# Calculate the covariance and variance\n",
    "cov2_WFC = np.cov(r2_WFC_aligned, r2_SP1500_aligned)[0, 1]\n",
    "var2_mkt = np.var(r2_SP1500_aligned)\n",
    "\n",
    "# Calculate the beta\n",
    "beta2_WFC = cov2_WFC / var2_mkt\n",
    "print(beta2_WFC)"
   ]
  },
  {
   "cell_type": "code",
   "execution_count": 67,
   "id": "ec2106a9-09a9-4087-b9be-982ec20c0ce1",
   "metadata": {},
   "outputs": [
    {
     "data": {
      "text/plain": [
       "Date\n",
       "2019-07-02   -0.964590\n",
       "2019-07-03    0.910467\n",
       "2019-07-05    0.230802\n",
       "2019-07-08   -0.502414\n",
       "2019-07-09    0.631166\n",
       "Name: Adj Close, dtype: float64"
      ]
     },
     "execution_count": 67,
     "metadata": {},
     "output_type": "execute_result"
    }
   ],
   "source": [
    "r2_WFC.head()"
   ]
  },
  {
   "cell_type": "code",
   "execution_count": 68,
   "id": "40f0bda3",
   "metadata": {},
   "outputs": [
    {
     "data": {
      "text/plain": [
       "np.float64(0.04727674910479052)"
      ]
     },
     "execution_count": 68,
     "metadata": {},
     "output_type": "execute_result"
    }
   ],
   "source": [
    "abr2_WFC = r2_WFC -  beta2_WFC * r2_SP1500\n",
    "abr2_WFC.mean()"
   ]
  },
  {
   "cell_type": "markdown",
   "id": "881de959-a3fd-411c-a680-416416594aea",
   "metadata": {},
   "source": [
    "### Abnormal Returns Change"
   ]
  },
  {
   "cell_type": "code",
   "execution_count": 69,
   "id": "52bb5f91",
   "metadata": {},
   "outputs": [
    {
     "name": "stdout",
     "output_type": "stream",
     "text": [
      "Abnormal returns change from -0.03 to 0.05.\n"
     ]
    }
   ],
   "source": [
    "print(f'Abnormal returns change from {abr1_WFC.mean():.2f} to {abr2_WFC.mean():.2f}.')"
   ]
  },
  {
   "cell_type": "code",
   "execution_count": null,
   "id": "92e13608",
   "metadata": {},
   "outputs": [],
   "source": []
  }
 ],
 "metadata": {
  "kernelspec": {
   "display_name": "Python 3 (ipykernel)",
   "language": "python",
   "name": "python3"
  },
  "language_info": {
   "codemirror_mode": {
    "name": "ipython",
    "version": 3
   },
   "file_extension": ".py",
   "mimetype": "text/x-python",
   "name": "python",
   "nbconvert_exporter": "python",
   "pygments_lexer": "ipython3",
   "version": "3.12.5"
  }
 },
 "nbformat": 4,
 "nbformat_minor": 5
}
